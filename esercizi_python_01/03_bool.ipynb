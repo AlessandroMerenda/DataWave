{
 "cells": [
  {
   "cell_type": "markdown",
   "metadata": {},
   "source": [
    "Scrivi una funzione che :"
   ]
  },
  {
   "cell_type": "markdown",
   "metadata": {},
   "source": [
    "1. restituisca True se un numero è pari, altrimenti False."
   ]
  },
  {
   "cell_type": "code",
   "metadata": {
    "ExecuteTime": {
     "end_time": "2025-07-08T09:30:03.075856Z",
     "start_time": "2025-07-08T09:30:03.069709Z"
    }
   },
   "source": [
    "def return_odd(number):\n",
    "    if number % 2 == 0:\n",
    "        return True\n",
    "    \n",
    "return_odd(2)"
   ],
   "outputs": [
    {
     "data": {
      "text/plain": [
       "True"
      ]
     },
     "execution_count": 1,
     "metadata": {},
     "output_type": "execute_result"
    }
   ],
   "execution_count": 1
  },
  {
   "cell_type": "markdown",
   "metadata": {},
   "source": [
    "2. verifichi se una persona può votare: deve avere almeno 18 anni e essere cittadino italiano."
   ]
  },
  {
   "cell_type": "code",
   "metadata": {
    "ExecuteTime": {
     "end_time": "2025-07-08T09:30:03.165220Z",
     "start_time": "2025-07-08T09:30:03.162598Z"
    }
   },
   "source": [
    "def maggiorenne(eta, cittadinanza):\n",
    "    if eta >=18 and cittadinanza == 'italiano':\n",
    "        return True\n",
    "\n",
    "maggiorenne(23, 'italiano')"
   ],
   "outputs": [
    {
     "data": {
      "text/plain": [
       "True"
      ]
     },
     "execution_count": 2,
     "metadata": {},
     "output_type": "execute_result"
    }
   ],
   "execution_count": 2
  },
  {
   "cell_type": "markdown",
   "metadata": {},
   "source": [
    "3. controlli se una lista è vuota o meno."
   ]
  },
  {
   "cell_type": "code",
   "metadata": {
    "ExecuteTime": {
     "end_time": "2025-07-08T09:30:03.191228Z",
     "start_time": "2025-07-08T09:30:03.188544Z"
    }
   },
   "source": [
    "def lista_check(lista):\n",
    "    if len(lista) > 0:\n",
    "        return False\n",
    "    \n",
    "lista = [1,2,3,4,5]\n",
    "\n",
    "lista_check(lista)"
   ],
   "outputs": [
    {
     "data": {
      "text/plain": [
       "False"
      ]
     },
     "execution_count": 3,
     "metadata": {},
     "output_type": "execute_result"
    }
   ],
   "execution_count": 3
  },
  {
   "cell_type": "markdown",
   "metadata": {},
   "source": [
    "4. verifichi se una stringa inizia con una lettera maiuscola."
   ]
  },
  {
   "cell_type": "code",
   "metadata": {
    "ExecuteTime": {
     "end_time": "2025-07-08T09:30:03.242144Z",
     "start_time": "2025-07-08T09:30:03.234460Z"
    }
   },
   "source": [
    "def inizia_maiusc(stringa):\n",
    "    if stringa[0].isupper():\n",
    "        return True\n",
    "    \n",
    "stringa = 'Ciao come va?'\n",
    "inizia_maiusc(stringa)"
   ],
   "outputs": [
    {
     "data": {
      "text/plain": [
       "True"
      ]
     },
     "execution_count": 4,
     "metadata": {},
     "output_type": "execute_result"
    }
   ],
   "execution_count": 4
  },
  {
   "cell_type": "markdown",
   "metadata": {},
   "source": [
    "5. restituisca True se il numero è compreso tra 10 e 100 (inclusi)."
   ]
  },
  {
   "cell_type": "code",
   "metadata": {
    "ExecuteTime": {
     "end_time": "2025-07-08T09:30:03.271847Z",
     "start_time": "2025-07-08T09:30:03.262179Z"
    }
   },
   "source": [
    "def compreso(numero):\n",
    "    if numero >=10 and numero <=100:\n",
    "        return True\n",
    "    \n",
    "numero = 56\n",
    "\n",
    "compreso(numero)"
   ],
   "outputs": [
    {
     "data": {
      "text/plain": [
       "True"
      ]
     },
     "execution_count": 5,
     "metadata": {},
     "output_type": "execute_result"
    }
   ],
   "execution_count": 5
  },
  {
   "cell_type": "markdown",
   "metadata": {},
   "source": [
    "6. verifichi se dati due numeri almeno uno dei due è positivo"
   ]
  },
  {
   "cell_type": "code",
   "metadata": {
    "ExecuteTime": {
     "end_time": "2025-07-08T09:30:03.286282Z",
     "start_time": "2025-07-08T09:30:03.284077Z"
    }
   },
   "source": [
    "def num_check(num1, num2):\n",
    "    if num1 > 0 or num2 > 0:\n",
    "        return True\n",
    "    \n",
    "num1 = 19\n",
    "num2 = 3"
   ],
   "outputs": [],
   "execution_count": 6
  },
  {
   "cell_type": "markdown",
   "metadata": {},
   "source": [
    "7. verifichi che il numero dato non sia uno zero"
   ]
  },
  {
   "cell_type": "code",
   "metadata": {
    "ExecuteTime": {
     "end_time": "2025-07-08T09:30:03.304757Z",
     "start_time": "2025-07-08T09:30:03.295663Z"
    }
   },
   "source": [
    "def no_zero(n):\n",
    "    return n != 0\n",
    "\n",
    "n = 0\n",
    "\n",
    "no_zero(n)"
   ],
   "outputs": [
    {
     "data": {
      "text/plain": [
       "False"
      ]
     },
     "execution_count": 7,
     "metadata": {},
     "output_type": "execute_result"
    }
   ],
   "execution_count": 7
  },
  {
   "cell_type": "markdown",
   "metadata": {},
   "source": [
    "8. verifichi se una stringa sia vuota"
   ]
  },
  {
   "cell_type": "code",
   "metadata": {
    "ExecuteTime": {
     "end_time": "2025-07-08T09:30:03.333793Z",
     "start_time": "2025-07-08T09:30:03.330278Z"
    }
   },
   "source": [
    "def empty_string(stringa):\n",
    "    if stringa == '':\n",
    "        return True \n",
    "    \n",
    "stringa = ''\n",
    "\n",
    "empty_string(stringa)"
   ],
   "outputs": [
    {
     "data": {
      "text/plain": [
       "True"
      ]
     },
     "execution_count": 8,
     "metadata": {},
     "output_type": "execute_result"
    }
   ],
   "execution_count": 8
  },
  {
   "cell_type": "markdown",
   "metadata": {},
   "source": [
    "9. verifichi se un numero sia multiplo di 3 o di 5"
   ]
  },
  {
   "cell_type": "code",
   "metadata": {
    "ExecuteTime": {
     "end_time": "2025-07-08T09:30:03.358767Z",
     "start_time": "2025-07-08T09:30:03.354052Z"
    }
   },
   "source": [
    "def multiplo(num):\n",
    "    if num % 3  == 0 or num % 5 == 0:\n",
    "        return True \n",
    "    \n",
    "num = 15 \n",
    "multiplo(num)"
   ],
   "outputs": [
    {
     "data": {
      "text/plain": [
       "True"
      ]
     },
     "execution_count": 9,
     "metadata": {},
     "output_type": "execute_result"
    }
   ],
   "execution_count": 9
  },
  {
   "cell_type": "markdown",
   "metadata": {},
   "source": [
    "10. verifichi se due stringhe siano diverse"
   ]
  },
  {
   "cell_type": "code",
   "metadata": {
    "ExecuteTime": {
     "end_time": "2025-07-08T09:30:03.376420Z",
     "start_time": "2025-07-08T09:30:03.371791Z"
    }
   },
   "source": [
    "def stringhe(s1, s2):\n",
    "    if s1 == s2:\n",
    "        return False\n",
    "    \n",
    "s1 = 'abc'\n",
    "s2 = 'abc'\n",
    "\n",
    "stringhe(s1, s2)\n",
    "    \n"
   ],
   "outputs": [
    {
     "data": {
      "text/plain": [
       "False"
      ]
     },
     "execution_count": 10,
     "metadata": {},
     "output_type": "execute_result"
    }
   ],
   "execution_count": 10
  },
  {
   "cell_type": "markdown",
   "metadata": {},
   "source": [
    "11. verifichi se una lista contenga almeno 3 numeri pari consecutivi"
   ]
  },
  {
   "cell_type": "code",
   "metadata": {
    "ExecuteTime": {
     "end_time": "2025-07-08T09:30:03.416637Z",
     "start_time": "2025-07-08T09:30:03.408722Z"
    }
   },
   "source": "",
   "outputs": [],
   "execution_count": null
  },
  {
   "cell_type": "markdown",
   "metadata": {},
   "source": [
    "12. verifichi se una lista è ordinata in modo crescente o decrescente"
   ]
  },
  {
   "cell_type": "code",
   "metadata": {
    "ExecuteTime": {
     "end_time": "2025-07-08T09:30:03.467835Z",
     "start_time": "2025-07-08T09:30:03.465528Z"
    }
   },
   "source": [],
   "outputs": [],
   "execution_count": null
  },
  {
   "cell_type": "markdown",
   "metadata": {},
   "source": [
    "13. verifichi se due liste abbiano almeno un elemento in comune"
   ]
  },
  {
   "cell_type": "code",
   "metadata": {
    "ExecuteTime": {
     "end_time": "2025-07-08T09:30:03.503152Z",
     "start_time": "2025-07-08T09:30:03.501409Z"
    }
   },
   "source": [],
   "outputs": [],
   "execution_count": null
  },
  {
   "cell_type": "markdown",
   "metadata": {},
   "source": [
    "14. verifichi se una frase contenga tutte le vocali almeno una volta"
   ]
  },
  {
   "cell_type": "code",
   "metadata": {
    "ExecuteTime": {
     "end_time": "2025-07-08T09:30:03.535187Z",
     "start_time": "2025-07-08T09:30:03.532698Z"
    }
   },
   "source": [],
   "outputs": [],
   "execution_count": null
  }
 ],
 "metadata": {
  "kernelspec": {
   "display_name": "base",
   "language": "python",
   "name": "python3"
  },
  "language_info": {
   "codemirror_mode": {
    "name": "ipython",
    "version": 3
   },
   "file_extension": ".py",
   "mimetype": "text/x-python",
   "name": "python",
   "nbconvert_exporter": "python",
   "pygments_lexer": "ipython3",
   "version": "3.12.2"
  }
 },
 "nbformat": 4,
 "nbformat_minor": 2
}
