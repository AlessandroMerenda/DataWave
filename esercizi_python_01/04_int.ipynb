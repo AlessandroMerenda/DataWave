{
 "cells": [
  {
   "cell_type": "markdown",
   "metadata": {},
   "source": [
    "Scrivi una funzione che :"
   ]
  },
  {
   "cell_type": "markdown",
   "metadata": {},
   "source": [
    "1. Converta minuti in ore e minuti"
   ]
  },
  {
   "cell_type": "code",
   "metadata": {
    "ExecuteTime": {
     "end_time": "2025-07-08T09:29:49.606120Z",
     "start_time": "2025-07-08T09:29:49.586764Z"
    }
   },
   "source": [
    "def minuti_ore(n):\n",
    "    ore = n//60\n",
    "    minuti = n % 60\n",
    "    \n",
    "    return ore, minuti\n",
    "\n",
    "minuti_ore(120)\n",
    "\n",
    "minuti = minuti_ore(120)[-1]\n",
    "\n",
    "minuti\n"
   ],
   "outputs": [
    {
     "data": {
      "text/plain": [
       "0"
      ]
     },
     "execution_count": 2,
     "metadata": {},
     "output_type": "execute_result"
    }
   ],
   "execution_count": 2
  },
  {
   "cell_type": "markdown",
   "metadata": {},
   "source": [
    "2. Verifichi se un numero sia multiplo di un altro"
   ]
  },
  {
   "cell_type": "code",
   "metadata": {
    "ExecuteTime": {
     "end_time": "2025-07-08T09:29:49.640090Z",
     "start_time": "2025-07-08T09:29:49.637449Z"
    }
   },
   "source": [
    "def multiplo(n1, n2):\n",
    "\n",
    "    return n1 % n2 == 0\n",
    "       \n",
    "multiplo(5,2)"
   ],
   "outputs": [
    {
     "data": {
      "text/plain": [
       "False"
      ]
     },
     "execution_count": 3,
     "metadata": {},
     "output_type": "execute_result"
    }
   ],
   "execution_count": 3
  },
  {
   "cell_type": "markdown",
   "metadata": {},
   "source": [
    "3. Calcoli la potenza di un numero"
   ]
  },
  {
   "cell_type": "code",
   "metadata": {
    "ExecuteTime": {
     "end_time": "2025-07-08T09:29:49.779736Z",
     "start_time": "2025-07-08T09:29:49.773256Z"
    }
   },
   "source": [
    "def potenza (n1, n2):\n",
    "    return n1**n2\n",
    "\n",
    "potenza(4,2)"
   ],
   "outputs": [
    {
     "data": {
      "text/plain": [
       "16"
      ]
     },
     "execution_count": 4,
     "metadata": {},
     "output_type": "execute_result"
    }
   ],
   "execution_count": 4
  },
  {
   "cell_type": "markdown",
   "metadata": {},
   "source": [
    "4. Verifichi se un numero sia negativo, positivo o abbia valore zero"
   ]
  },
  {
   "cell_type": "markdown",
   "metadata": {},
   "source": [
    "5. Conti quanti numeri in una lista sono maggiori della media"
   ]
  },
  {
   "cell_type": "markdown",
   "metadata": {},
   "source": [
    "6. Trovi il numero più vicino a zero in una lista"
   ]
  },
  {
   "cell_type": "markdown",
   "metadata": {},
   "source": [
    "7. Conti quante cifre abbia un numero"
   ]
  },
  {
   "cell_type": "markdown",
   "metadata": {},
   "source": [
    "8. Conti quanti numeri in una lista siano multipli di 3 e 5\n"
   ]
  },
  {
   "cell_type": "markdown",
   "metadata": {},
   "source": [
    "9.  • Chiede un numero float all’utente\n",
    "    \n",
    "    • Lo arrotonda a 1, 2 e 3 cifre decimali\n",
    "    \n",
    "    • Stampa i risultati"
   ]
  },
  {
   "cell_type": "markdown",
   "metadata": {},
   "source": [
    "10. calcoli l’area di un cerchio dato il raggio:"
   ]
  },
  {
   "cell_type": "code",
   "metadata": {
    "ExecuteTime": {
     "end_time": "2025-07-08T09:29:49.838943Z",
     "start_time": "2025-07-08T09:29:49.837170Z"
    }
   },
   "source": [],
   "outputs": [],
   "execution_count": null
  }
 ],
 "metadata": {
  "kernelspec": {
   "display_name": "base",
   "language": "python",
   "name": "python3"
  },
  "language_info": {
   "codemirror_mode": {
    "name": "ipython",
    "version": 3
   },
   "file_extension": ".py",
   "mimetype": "text/x-python",
   "name": "python",
   "nbconvert_exporter": "python",
   "pygments_lexer": "ipython3",
   "version": "3.12.2"
  }
 },
 "nbformat": 4,
 "nbformat_minor": 2
}
