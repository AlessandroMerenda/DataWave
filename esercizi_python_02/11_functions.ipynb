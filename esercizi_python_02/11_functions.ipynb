{
 "cells": [
  {
   "cell_type": "markdown",
   "metadata": {},
   "source": [
    "Combina una lista di dizionari sommando i valori delle stesse chiavi.\n",
    "\n",
    "Esempio:\n",
    "\n",
    "lista = [\n",
    "    {\"mele\": 3, \"pere\": 2},\n",
    "    {\"mele\": 1, \"banane\": 5},\n",
    "    {\"pere\": 4, \"banane\": 1}\n",
    "]\n",
    "\n",
    "print(combina_dizionari(lista))\n",
    "\n",
    "Output:\n",
    "\n",
    "    \n",
    "{'mele': 4, 'pere': 6, 'banane': 6}\n",
    "\n"
   ]
  },
  {
   "cell_type": "code",
   "execution_count": null,
   "metadata": {},
   "outputs": [],
   "source": []
  },
  {
   "cell_type": "markdown",
   "metadata": {},
   "source": [
    "Scrivi una funzione combina_strutture(lista_input) che:\n",
    "\n",
    "    • Accetta una lista di dizionari\n",
    "    \n",
    "    • Le chiavi sono stringhe, i valori possono essere:\n",
    "    \n",
    "        ◦ numeri (da sommare)\n",
    "        ◦ liste (da concatenare)\n",
    "        ◦ dizionari (da unire ricorsivamente)\n",
    "        \n",
    "    • Genera un dizionario finale combinando tutti gli elementi\n",
    "    \n",
    "💡 Esempio:\n",
    "python\n",
    "lista = [\n",
    "    {\"a\": 3, \"b\": [1, 2], \"c\": {\"x\": 1}},\n",
    "    {\"a\": 5, \"b\": [3], \"c\": {\"x\": 2, \"y\": 7}},\n",
    "    {\"a\": 2, \"b\": [], \"c\": {\"z\": 4}}\n",
    "]\n",
    "\n",
    "Output atteso:\n",
    "python\n",
    "{\n",
    "    \"a\": 10,\n",
    "    \"b\": [1, 2, 3],\n",
    "    \"c\": {\"x\": 3, \"y\": 7, \"z\": 4}\n",
    "}"
   ]
  },
  {
   "cell_type": "code",
   "execution_count": null,
   "metadata": {},
   "outputs": [],
   "source": []
  },
  {
   "cell_type": "markdown",
   "metadata": {},
   "source": [
    "Scrivi una funzione raggruppa_eventi_per_giorno(eventi) che prenda una lista di eventi nella forma:\n",
    "(titolo: str, timestamp: str, autore: str) e restituisca un dizionario dove:\n",
    "\n",
    "    • le chiavi sono le date (YYYY-MM-DD) estratte dal timestamp\n",
    "    \n",
    "    • i valori sono liste di dizionari con i dettagli di ciascun evento avvenuto in quel giorno\n",
    "    \n",
    "Esempio di input:\n",
    "\n",
    "\n",
    "eventi = [\n",
    "    (\"Login\", \"2025-07-01T09:15:00\", \"alice\"),\n",
    "    (\"Upload file\", \"2025-07-01T10:22:15\", \"bob\"),\n",
    "    (\"Logout\", \"2025-07-02T12:00:00\", \"alice\"),\n",
    "    (\"Login\", \"2025-07-02T08:50:00\", \"carol\")\n",
    "]\n",
    "\n",
    "Output atteso:\n",
    "\n",
    "{\n",
    "    \"2025-07-01\": [\n",
    "        {\"titolo\": \"Login\", \"ora\": \"09:15:00\", \"autore\": \"alice\"},\n",
    "        {\"titolo\": \"Upload file\", \"ora\": \"10:22:15\", \"autore\": \"bob\"}\n",
    "    ],\n",
    "    \"2025-07-02\": [\n",
    "        {\"titolo\": \"Logout\", \"ora\": \"12:00:00\", \"autore\": \"alice\"},\n",
    "        {\"titolo\": \"Login\", \"ora\": \"08:50:00\", \"autore\": \"carol\"}\n",
    "    ]\n",
    "}\n",
    "\n",
    "Il loop deve continuare nel caso il timestamp non fosse valido"
   ]
  },
  {
   "cell_type": "code",
   "execution_count": null,
   "metadata": {},
   "outputs": [],
   "source": []
  },
  {
   "cell_type": "markdown",
   "metadata": {},
   "source": [
    "Obiettivo: Scrivi una funzione raggruppa_per_categoria(lista_elementi) che prende in input una lista di tuple (categoria, valore) e costruisce un dizionario in cui:\n",
    "    \n",
    "    • ogni chiave è una categoria\n",
    "    \n",
    "    • ogni valore è una lista di tutti i valori associati a quella categoria\n",
    "\n",
    "dati = [\n",
    "    (\"frutta\", \"mela\"),\n",
    "    (\"verdura\", \"carota\"),\n",
    "    (\"frutta\", \"banana\"),\n",
    "    (\"cereali\", \"riso\"),\n",
    "    (\"verdura\", \"zucchina\")\n",
    "]\n",
    "\n",
    "Output atteso:\n",
    "\n",
    "{\n",
    "    \"frutta\": [\"mela\", \"banana\"],\n",
    "    \"verdura\": [\"carota\", \"zucchina\"],\n",
    "    \"cereali\": [\"riso\"]\n",
    "}\n",
    "\n",
    "    • Deve:\n",
    "        \n",
    "        ◦ scartare tuple malformate\n",
    "        \n",
    "        ◦ accettare anche categorie multiple per elemento (es. ([\"frutta\", \"rossa\"], \"fragola\"))\n",
    "        \n",
    "        ◦ restituire un dizionario ordinato alfabeticamente per categoria"
   ]
  },
  {
   "cell_type": "code",
   "execution_count": null,
   "metadata": {},
   "outputs": [],
   "source": []
  },
  {
   "cell_type": "markdown",
   "metadata": {},
   "source": [
    "Costruiamo una funzione che non solo raggruppa per categoria, ma:\n",
    "    • gestisce categorie multiple per elemento\n",
    "    • tiene traccia della frequenza di ogni valore\n",
    "    • assegna a ogni gruppo anche un elenco di sorgenti uniche da cui il valore proviene\n",
    "\n",
    "\n",
    "\n",
    "La funzione deve restituire:\n",
    "Un dizionario in cui:\n",
    "    • le chiavi sono le categorie\n",
    "    • i valori sono dizionari che contengono:\n",
    "        ◦ \"valori\": un sotto-dizionario con chiavi = valori unici, e valori = conteggio delle occorrenze\n",
    "        ◦ \"sorgenti\": un set con tutti i nomi delle sorgenti coinvolte\n",
    "            \n",
    "Esempio di input\n",
    "\n",
    "dati = [\n",
    "    ([\"frutta\"], \"mela\", \"negozio1\"),\n",
    "    ([\"frutta\", \"rossa\"], \"mela\", \"negozio2\"),\n",
    "    ([\"verdura\"], \"carota\", \"mercato\"),\n",
    "    ([\"frutta\"], \"banana\", \"negozio1\"),\n",
    "    ([\"rossa\"], \"fragola\", \"mercato\"),\n",
    "    ([\"frutta\"], \"banana\", \"negozio1\")\n",
    "]\n",
    "\n",
    "Output atteso (semplificato)\n",
    "\n",
    "{\n",
    "    \"frutta\": {\n",
    "        \"valori\": {\n",
    "            \"mela\": 2,\n",
    "            \"banana\": 2\n",
    "        },\n",
    "        \"sorgenti\": {\"negozio1\", \"negozio2\"}\n",
    "    },\n",
    "    \"rossa\": {\n",
    "        \"valori\": {\n",
    "            \"mela\": 1,\n",
    "            \"fragola\": 1\n",
    "        },\n",
    "        \"sorgenti\": {\"negozio2\", \"mercato\"}\n",
    "    },\n",
    "    \"verdura\": {\n",
    "        \"valori\": {\n",
    "            \"carota\": 1\n",
    "        },\n",
    "        \"sorgenti\": {\"mercato\"}\n",
    "    }\n",
    "}"
   ]
  },
  {
   "cell_type": "code",
   "execution_count": null,
   "metadata": {},
   "outputs": [],
   "source": []
  },
  {
   "cell_type": "code",
   "execution_count": null,
   "metadata": {},
   "outputs": [],
   "source": []
  },
  {
   "cell_type": "code",
   "execution_count": null,
   "metadata": {},
   "outputs": [],
   "source": []
  },
  {
   "cell_type": "code",
   "execution_count": null,
   "metadata": {},
   "outputs": [],
   "source": []
  },
  {
   "cell_type": "code",
   "execution_count": null,
   "metadata": {},
   "outputs": [],
   "source": []
  },
  {
   "cell_type": "code",
   "execution_count": null,
   "metadata": {},
   "outputs": [],
   "source": []
  },
  {
   "cell_type": "code",
   "execution_count": null,
   "metadata": {},
   "outputs": [],
   "source": []
  },
  {
   "cell_type": "code",
   "execution_count": null,
   "metadata": {},
   "outputs": [],
   "source": []
  },
  {
   "cell_type": "code",
   "execution_count": null,
   "metadata": {},
   "outputs": [],
   "source": []
  }
 ],
 "metadata": {
  "kernelspec": {
   "display_name": "Python 3",
   "language": "python",
   "name": "python3"
  },
  "language_info": {
   "codemirror_mode": {
    "name": "ipython",
    "version": 3
   },
   "file_extension": ".py",
   "mimetype": "text/x-python",
   "name": "python",
   "nbconvert_exporter": "python",
   "pygments_lexer": "ipython3",
   "version": "3.7.1"
  }
 },
 "nbformat": 4,
 "nbformat_minor": 2
}
