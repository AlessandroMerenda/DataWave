{
 "cells": [
  {
   "cell_type": "markdown",
   "metadata": {},
   "source": [
    "1. Crea una classe Animale con metodo verso()"
   ]
  },
  {
   "cell_type": "code",
   "execution_count": null,
   "metadata": {},
   "outputs": [],
   "source": [
    "class Animale:\n",
    "    def verso(self):\n",
    "        return 'verso'"
   ]
  },
  {
   "cell_type": "markdown",
   "metadata": {},
   "source": [
    "2. Classe Cane che eredita da Animale e sovrascrive verso()"
   ]
  },
  {
   "cell_type": "code",
   "execution_count": 17,
   "metadata": {},
   "outputs": [],
   "source": [
    "class Gatto(Animale):\n",
    "    def verso(self):\n",
    "        return 'miao'"
   ]
  },
  {
   "cell_type": "markdown",
   "metadata": {},
   "source": [
    "3. Classe Auto con attributi marca, modello e metodo scheda(printa marca.modello)"
   ]
  },
  {
   "cell_type": "code",
   "execution_count": 7,
   "metadata": {},
   "outputs": [
    {
     "name": "stdout",
     "output_type": "stream",
     "text": [
      "Toyota Corolla\n"
     ]
    }
   ],
   "source": [
    "class Auto:\n",
    "    def __init__(self,marca,modello):\n",
    "        self.marca = marca\n",
    "        self.modello = modello\n",
    "\n",
    "    def scheda(self):\n",
    "        print(f\"{self.marca} {self.modello}\")\n",
    "\n",
    "auto = Auto(\"Toyota\",\"Corolla\")\n",
    "auto.scheda()\n"
   ]
  },
  {
   "cell_type": "markdown",
   "metadata": {},
   "source": [
    "4. Classe Studente con attributi nome, eta e metodo info (printa {nome} ha {eta} anni.)"
   ]
  },
  {
   "cell_type": "code",
   "execution_count": 14,
   "metadata": {},
   "outputs": [
    {
     "name": "stdout",
     "output_type": "stream",
     "text": [
      "Mario ha 20 anni\n"
     ]
    }
   ],
   "source": [
    "class Studente:\n",
    "    def __init__(self,nome,eta):\n",
    "        self.nome = nome\n",
    "        self.eta = eta\n",
    "\n",
    "    def info(self):\n",
    "        print(f'{self.nome} ha {self.eta} anni')\n",
    "\n",
    "a = Studente(\"Mario\",20)\n",
    "b = Studente(\"Luigi\",21)\n",
    "\n",
    "a.info()"
   ]
  },
  {
   "cell_type": "markdown",
   "metadata": {},
   "source": [
    "5. Classe Professore che estende Studente (override del metodo info --> print(Prof. {nome}, {eta} anni.)"
   ]
  },
  {
   "cell_type": "code",
   "execution_count": null,
   "metadata": {},
   "outputs": [
    {
     "name": "stdout",
     "output_type": "stream",
     "text": [
      "Prof. Marco, 46 anni.\n"
     ]
    }
   ],
   "source": [
    "class Professore(Studente):\n",
    "    def info(self):\n",
    "        print(f\"Prof. {self.nome}, {self.eta} anni.\")\n",
    "\n",
    "p = Professore('Marco',46)\n",
    "q = Professore('Luigi',30)\n",
    "p.info()"
   ]
  },
  {
   "cell_type": "markdown",
   "metadata": {},
   "source": [
    "6. Crea classe Calcolatrice con metodi somma, sottrai"
   ]
  },
  {
   "cell_type": "code",
   "execution_count": 16,
   "metadata": {},
   "outputs": [
    {
     "data": {
      "text/plain": [
       "6934"
      ]
     },
     "execution_count": 16,
     "metadata": {},
     "output_type": "execute_result"
    }
   ],
   "source": [
    "class Calcolatrice:\n",
    "    def somma(self,a,b):\n",
    "        return a+b\n",
    "\n",
    "    def sottrazione(self,a,b):\n",
    "        return a-b\n",
    "\n",
    "calc = Calcolatrice()\n",
    "\n",
    "calc.somma(456,6478)\n"
   ]
  },
  {
   "cell_type": "markdown",
   "metadata": {},
   "source": [
    "7. Crea Classe astratta Forma con abc con il metodo astratto area"
   ]
  },
  {
   "cell_type": "code",
   "execution_count": null,
   "metadata": {},
   "outputs": [],
   "source": []
  },
  {
   "cell_type": "markdown",
   "metadata": {},
   "source": [
    "8. Implementa la classe Rettangolo in modo che erediti da Forma"
   ]
  },
  {
   "cell_type": "code",
   "execution_count": null,
   "metadata": {},
   "outputs": [],
   "source": []
  }
 ],
 "metadata": {
  "kernelspec": {
   "display_name": "base",
   "language": "python",
   "name": "python3"
  },
  "language_info": {
   "codemirror_mode": {
    "name": "ipython",
    "version": 3
   },
   "file_extension": ".py",
   "mimetype": "text/x-python",
   "name": "python",
   "nbconvert_exporter": "python",
   "pygments_lexer": "ipython3",
   "version": "3.12.7"
  }
 },
 "nbformat": 4,
 "nbformat_minor": 2
}
