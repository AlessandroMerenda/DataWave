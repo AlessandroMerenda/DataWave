{
 "cells": [
  {
   "cell_type": "markdown",
   "metadata": {},
   "source": [
    "Titolo del progetto:\n",
    "\n",
    "Meteo in tempo reale per la tua città\n",
    "\n",
    "Obiettivo:\n",
    "\n",
    "Dati in ingresso: nome della città \n",
    "\n",
    "Output: stampa e grafico delle temperature orarie per oggi (o domani), con opzioni personalizzabili"
   ]
  },
  {
   "cell_type": "markdown",
   "metadata": {},
   "source": [
    "Struttura del progetto\n",
    "\n",
    "1. Ottieni le coordinate geografiche della città\n",
    "\n",
    "Puoi usare l’API geocoding di Open-Meteo --> https://open-meteo.com/en/docs/geocoding-api"
   ]
  },
  {
   "cell_type": "code",
   "execution_count": null,
   "metadata": {},
   "outputs": [
    {
     "data": {
      "text/plain": [
       "{'results': [{'id': 3171728,\n",
       "   'name': 'Padua',\n",
       "   'latitude': 45.40797,\n",
       "   'longitude': 11.88586,\n",
       "   'elevation': 12.0,\n",
       "   'feature_code': 'PPLA2',\n",
       "   'country_code': 'IT',\n",
       "   'admin1_id': 3164604,\n",
       "   'admin2_id': 3171727,\n",
       "   'admin3_id': 6542281,\n",
       "   'timezone': 'Europe/Rome',\n",
       "   'population': 203725,\n",
       "   'country_id': 3175395,\n",
       "   'country': 'Italy',\n",
       "   'admin1': 'Veneto',\n",
       "   'admin2': 'Padua',\n",
       "   'admin3': 'Padova'},\n",
       "  {'id': 8965151,\n",
       "   'name': 'Padova',\n",
       "   'latitude': 44.38225,\n",
       "   'longitude': 11.14261,\n",
       "   'elevation': 329.0,\n",
       "   'feature_code': 'PPL',\n",
       "   'country_code': 'IT',\n",
       "   'admin1_id': 3177401,\n",
       "   'admin2_id': 3181927,\n",
       "   'admin3_id': 6536353,\n",
       "   'timezone': 'Europe/Rome',\n",
       "   'population': 41,\n",
       "   'country_id': 3175395,\n",
       "   'country': 'Italy',\n",
       "   'admin1': 'Emilia-Romagna',\n",
       "   'admin2': 'Bologna',\n",
       "   'admin3': 'Monte San Pietro'},\n",
       "  {'id': 9032243,\n",
       "   'name': 'Padova',\n",
       "   'latitude': 45.26618,\n",
       "   'longitude': 11.77208,\n",
       "   'elevation': 7.0,\n",
       "   'feature_code': 'PPL',\n",
       "   'country_code': 'IT',\n",
       "   'admin1_id': 3164604,\n",
       "   'admin2_id': 3171727,\n",
       "   'admin3_id': 6541005,\n",
       "   'timezone': 'Europe/Rome',\n",
       "   'population': 19,\n",
       "   'country_id': 3175395,\n",
       "   'country': 'Italy',\n",
       "   'admin1': 'Veneto',\n",
       "   'admin2': 'Padua',\n",
       "   'admin3': 'Monselice'},\n",
       "  {'id': 12022801,\n",
       "   'name': 'Padova',\n",
       "   'latitude': 45.50094,\n",
       "   'longitude': 9.23458,\n",
       "   'elevation': 128.0,\n",
       "   'feature_code': 'PPLX',\n",
       "   'country_code': 'IT',\n",
       "   'admin1_id': 3174618,\n",
       "   'admin2_id': 3173434,\n",
       "   'admin3_id': 6542283,\n",
       "   'admin4_id': 12022736,\n",
       "   'timezone': 'Europe/Rome',\n",
       "   'country_id': 3175395,\n",
       "   'country': 'Italy',\n",
       "   'admin1': 'Lombardy',\n",
       "   'admin2': 'Province of Milan',\n",
       "   'admin3': 'Milan',\n",
       "   'admin4': 'Municipio 2'},\n",
       "  {'id': 11113597,\n",
       "   'name': 'Padovano',\n",
       "   'latitude': 46.09578,\n",
       "   'longitude': 8.95854,\n",
       "   'elevation': 1058.0,\n",
       "   'feature_code': 'PPL',\n",
       "   'country_code': 'CH',\n",
       "   'admin1_id': 2658370,\n",
       "   'admin2_id': 6458771,\n",
       "   'admin3_id': 7285431,\n",
       "   'timezone': 'Europe/Zurich',\n",
       "   'country_id': 2658434,\n",
       "   'country': 'Switzerland',\n",
       "   'admin1': 'Ticino',\n",
       "   'admin2': 'Lugano District',\n",
       "   'admin3': 'Capriasca'}],\n",
       " 'generationtime_ms': 0.21028519}"
      ]
     },
     "execution_count": 13,
     "metadata": {},
     "output_type": "execute_result"
    }
   ],
   "source": [
    "import requests\n",
    "\n",
    "url = f'https://geocoding-api.open-meteo.com/v1/search?name=Padova&count=10&language=en&format=json'\n",
    "\n",
    "response = requests.get(url)\n",
    "data = response.json()\n",
    "\n",
    "data\n",
    "                         \n",
    "\n"
   ]
  },
  {
   "cell_type": "code",
   "execution_count": 12,
   "metadata": {},
   "outputs": [
    {
     "name": "stdout",
     "output_type": "stream",
     "text": [
      "45.40797 11.88586\n"
     ]
    }
   ],
   "source": [
    "lat = data['results'][0]['latitude']\n",
    "lon = data['results'][0]['longitude']\n",
    "\n",
    "print(lat, lon)"
   ]
  },
  {
   "cell_type": "markdown",
   "metadata": {},
   "source": [
    "2. Recupera le previsioni orarie (Usa l’API forecast)"
   ]
  },
  {
   "cell_type": "code",
   "execution_count": 22,
   "metadata": {},
   "outputs": [
    {
     "data": {
      "text/plain": [
       "{'latitude': 45.4,\n",
       " 'longitude': 11.879999,\n",
       " 'generationtime_ms': 0.19466876983642578,\n",
       " 'utc_offset_seconds': 0,\n",
       " 'timezone': 'GMT',\n",
       " 'timezone_abbreviation': 'GMT',\n",
       " 'elevation': 18.0,\n",
       " 'hourly_units': {'time': 'iso8601',\n",
       "  'temperature_2m': '°C',\n",
       "  'relative_humidity_2m': '%',\n",
       "  'dew_point_2m': '°C',\n",
       "  'precipitation_probability': '%',\n",
       "  'precipitation': 'mm'},\n",
       " 'hourly': {'time': ['2025-07-10T00:00',\n",
       "   '2025-07-10T01:00',\n",
       "   '2025-07-10T02:00',\n",
       "   '2025-07-10T03:00',\n",
       "   '2025-07-10T04:00',\n",
       "   '2025-07-10T05:00',\n",
       "   '2025-07-10T06:00',\n",
       "   '2025-07-10T07:00',\n",
       "   '2025-07-10T08:00',\n",
       "   '2025-07-10T09:00',\n",
       "   '2025-07-10T10:00',\n",
       "   '2025-07-10T11:00',\n",
       "   '2025-07-10T12:00',\n",
       "   '2025-07-10T13:00',\n",
       "   '2025-07-10T14:00',\n",
       "   '2025-07-10T15:00',\n",
       "   '2025-07-10T16:00',\n",
       "   '2025-07-10T17:00',\n",
       "   '2025-07-10T18:00',\n",
       "   '2025-07-10T19:00',\n",
       "   '2025-07-10T20:00',\n",
       "   '2025-07-10T21:00',\n",
       "   '2025-07-10T22:00',\n",
       "   '2025-07-10T23:00',\n",
       "   '2025-07-11T00:00',\n",
       "   '2025-07-11T01:00',\n",
       "   '2025-07-11T02:00',\n",
       "   '2025-07-11T03:00',\n",
       "   '2025-07-11T04:00',\n",
       "   '2025-07-11T05:00',\n",
       "   '2025-07-11T06:00',\n",
       "   '2025-07-11T07:00',\n",
       "   '2025-07-11T08:00',\n",
       "   '2025-07-11T09:00',\n",
       "   '2025-07-11T10:00',\n",
       "   '2025-07-11T11:00',\n",
       "   '2025-07-11T12:00',\n",
       "   '2025-07-11T13:00',\n",
       "   '2025-07-11T14:00',\n",
       "   '2025-07-11T15:00',\n",
       "   '2025-07-11T16:00',\n",
       "   '2025-07-11T17:00',\n",
       "   '2025-07-11T18:00',\n",
       "   '2025-07-11T19:00',\n",
       "   '2025-07-11T20:00',\n",
       "   '2025-07-11T21:00',\n",
       "   '2025-07-11T22:00',\n",
       "   '2025-07-11T23:00',\n",
       "   '2025-07-12T00:00',\n",
       "   '2025-07-12T01:00',\n",
       "   '2025-07-12T02:00',\n",
       "   '2025-07-12T03:00',\n",
       "   '2025-07-12T04:00',\n",
       "   '2025-07-12T05:00',\n",
       "   '2025-07-12T06:00',\n",
       "   '2025-07-12T07:00',\n",
       "   '2025-07-12T08:00',\n",
       "   '2025-07-12T09:00',\n",
       "   '2025-07-12T10:00',\n",
       "   '2025-07-12T11:00',\n",
       "   '2025-07-12T12:00',\n",
       "   '2025-07-12T13:00',\n",
       "   '2025-07-12T14:00',\n",
       "   '2025-07-12T15:00',\n",
       "   '2025-07-12T16:00',\n",
       "   '2025-07-12T17:00',\n",
       "   '2025-07-12T18:00',\n",
       "   '2025-07-12T19:00',\n",
       "   '2025-07-12T20:00',\n",
       "   '2025-07-12T21:00',\n",
       "   '2025-07-12T22:00',\n",
       "   '2025-07-12T23:00',\n",
       "   '2025-07-13T00:00',\n",
       "   '2025-07-13T01:00',\n",
       "   '2025-07-13T02:00',\n",
       "   '2025-07-13T03:00',\n",
       "   '2025-07-13T04:00',\n",
       "   '2025-07-13T05:00',\n",
       "   '2025-07-13T06:00',\n",
       "   '2025-07-13T07:00',\n",
       "   '2025-07-13T08:00',\n",
       "   '2025-07-13T09:00',\n",
       "   '2025-07-13T10:00',\n",
       "   '2025-07-13T11:00',\n",
       "   '2025-07-13T12:00',\n",
       "   '2025-07-13T13:00',\n",
       "   '2025-07-13T14:00',\n",
       "   '2025-07-13T15:00',\n",
       "   '2025-07-13T16:00',\n",
       "   '2025-07-13T17:00',\n",
       "   '2025-07-13T18:00',\n",
       "   '2025-07-13T19:00',\n",
       "   '2025-07-13T20:00',\n",
       "   '2025-07-13T21:00',\n",
       "   '2025-07-13T22:00',\n",
       "   '2025-07-13T23:00',\n",
       "   '2025-07-14T00:00',\n",
       "   '2025-07-14T01:00',\n",
       "   '2025-07-14T02:00',\n",
       "   '2025-07-14T03:00',\n",
       "   '2025-07-14T04:00',\n",
       "   '2025-07-14T05:00',\n",
       "   '2025-07-14T06:00',\n",
       "   '2025-07-14T07:00',\n",
       "   '2025-07-14T08:00',\n",
       "   '2025-07-14T09:00',\n",
       "   '2025-07-14T10:00',\n",
       "   '2025-07-14T11:00',\n",
       "   '2025-07-14T12:00',\n",
       "   '2025-07-14T13:00',\n",
       "   '2025-07-14T14:00',\n",
       "   '2025-07-14T15:00',\n",
       "   '2025-07-14T16:00',\n",
       "   '2025-07-14T17:00',\n",
       "   '2025-07-14T18:00',\n",
       "   '2025-07-14T19:00',\n",
       "   '2025-07-14T20:00',\n",
       "   '2025-07-14T21:00',\n",
       "   '2025-07-14T22:00',\n",
       "   '2025-07-14T23:00',\n",
       "   '2025-07-15T00:00',\n",
       "   '2025-07-15T01:00',\n",
       "   '2025-07-15T02:00',\n",
       "   '2025-07-15T03:00',\n",
       "   '2025-07-15T04:00',\n",
       "   '2025-07-15T05:00',\n",
       "   '2025-07-15T06:00',\n",
       "   '2025-07-15T07:00',\n",
       "   '2025-07-15T08:00',\n",
       "   '2025-07-15T09:00',\n",
       "   '2025-07-15T10:00',\n",
       "   '2025-07-15T11:00',\n",
       "   '2025-07-15T12:00',\n",
       "   '2025-07-15T13:00',\n",
       "   '2025-07-15T14:00',\n",
       "   '2025-07-15T15:00',\n",
       "   '2025-07-15T16:00',\n",
       "   '2025-07-15T17:00',\n",
       "   '2025-07-15T18:00',\n",
       "   '2025-07-15T19:00',\n",
       "   '2025-07-15T20:00',\n",
       "   '2025-07-15T21:00',\n",
       "   '2025-07-15T22:00',\n",
       "   '2025-07-15T23:00',\n",
       "   '2025-07-16T00:00',\n",
       "   '2025-07-16T01:00',\n",
       "   '2025-07-16T02:00',\n",
       "   '2025-07-16T03:00',\n",
       "   '2025-07-16T04:00',\n",
       "   '2025-07-16T05:00',\n",
       "   '2025-07-16T06:00',\n",
       "   '2025-07-16T07:00',\n",
       "   '2025-07-16T08:00',\n",
       "   '2025-07-16T09:00',\n",
       "   '2025-07-16T10:00',\n",
       "   '2025-07-16T11:00',\n",
       "   '2025-07-16T12:00',\n",
       "   '2025-07-16T13:00',\n",
       "   '2025-07-16T14:00',\n",
       "   '2025-07-16T15:00',\n",
       "   '2025-07-16T16:00',\n",
       "   '2025-07-16T17:00',\n",
       "   '2025-07-16T18:00',\n",
       "   '2025-07-16T19:00',\n",
       "   '2025-07-16T20:00',\n",
       "   '2025-07-16T21:00',\n",
       "   '2025-07-16T22:00',\n",
       "   '2025-07-16T23:00'],\n",
       "  'temperature_2m': [19.4,\n",
       "   18.7,\n",
       "   18.1,\n",
       "   17.5,\n",
       "   17.1,\n",
       "   17.2,\n",
       "   18.5,\n",
       "   20.5,\n",
       "   22.5,\n",
       "   24.9,\n",
       "   26.2,\n",
       "   27.0,\n",
       "   28.1,\n",
       "   28.7,\n",
       "   28.6,\n",
       "   28.4,\n",
       "   28.4,\n",
       "   28.0,\n",
       "   27.1,\n",
       "   24.7,\n",
       "   22.7,\n",
       "   21.3,\n",
       "   20.5,\n",
       "   20.4,\n",
       "   19.9,\n",
       "   19.2,\n",
       "   18.9,\n",
       "   18.8,\n",
       "   18.7,\n",
       "   18.8,\n",
       "   20.0,\n",
       "   21.7,\n",
       "   23.7,\n",
       "   25.8,\n",
       "   26.8,\n",
       "   27.4,\n",
       "   28.4,\n",
       "   29.0,\n",
       "   28.8,\n",
       "   29.2,\n",
       "   28.6,\n",
       "   26.3,\n",
       "   25.5,\n",
       "   24.7,\n",
       "   21.6,\n",
       "   20.5,\n",
       "   19.9,\n",
       "   19.6,\n",
       "   19.4,\n",
       "   19.3,\n",
       "   19.2,\n",
       "   19.1,\n",
       "   19.1,\n",
       "   19.5,\n",
       "   20.7,\n",
       "   22.1,\n",
       "   23.3,\n",
       "   24.7,\n",
       "   25.5,\n",
       "   25.7,\n",
       "   26.9,\n",
       "   27.9,\n",
       "   28.3,\n",
       "   29.0,\n",
       "   27.4,\n",
       "   26.5,\n",
       "   25.6,\n",
       "   24.6,\n",
       "   23.5,\n",
       "   22.8,\n",
       "   21.5,\n",
       "   20.7,\n",
       "   20.2,\n",
       "   19.9,\n",
       "   19.7,\n",
       "   19.6,\n",
       "   19.8,\n",
       "   20.1,\n",
       "   20.6,\n",
       "   21.5,\n",
       "   23.3,\n",
       "   25.1,\n",
       "   26.7,\n",
       "   27.7,\n",
       "   28.3,\n",
       "   29.1,\n",
       "   29.2,\n",
       "   27.9,\n",
       "   27.5,\n",
       "   26.1,\n",
       "   24.5,\n",
       "   23.4,\n",
       "   22.3,\n",
       "   21.5,\n",
       "   20.9,\n",
       "   20.5,\n",
       "   20.2,\n",
       "   20.0,\n",
       "   19.9,\n",
       "   20.0,\n",
       "   20.4,\n",
       "   20.9,\n",
       "   21.5,\n",
       "   22.1,\n",
       "   22.8,\n",
       "   23.5,\n",
       "   24.1,\n",
       "   24.8,\n",
       "   25.3,\n",
       "   25.7,\n",
       "   26.0,\n",
       "   26.1,\n",
       "   26.0,\n",
       "   25.7,\n",
       "   25.3,\n",
       "   24.6,\n",
       "   23.7,\n",
       "   22.9,\n",
       "   22.3,\n",
       "   21.8,\n",
       "   21.4,\n",
       "   20.8,\n",
       "   20.4,\n",
       "   20.1,\n",
       "   20.1,\n",
       "   20.4,\n",
       "   21.3,\n",
       "   23.2,\n",
       "   25.7,\n",
       "   27.9,\n",
       "   29.5,\n",
       "   30.8,\n",
       "   31.7,\n",
       "   32.4,\n",
       "   32.7,\n",
       "   32.6,\n",
       "   32.4,\n",
       "   31.8,\n",
       "   30.9,\n",
       "   29.2,\n",
       "   27.2,\n",
       "   25.6,\n",
       "   24.7,\n",
       "   24.3,\n",
       "   23.7,\n",
       "   22.8,\n",
       "   21.9,\n",
       "   21.3,\n",
       "   21.3,\n",
       "   21.5,\n",
       "   22.1,\n",
       "   22.9,\n",
       "   24.0,\n",
       "   25.2,\n",
       "   26.6,\n",
       "   28.1,\n",
       "   29.3,\n",
       "   29.8,\n",
       "   29.9,\n",
       "   29.8,\n",
       "   29.4,\n",
       "   28.9,\n",
       "   28.0,\n",
       "   26.7,\n",
       "   25.2,\n",
       "   23.9,\n",
       "   23.1,\n",
       "   22.6],\n",
       "  'relative_humidity_2m': [64,\n",
       "   71,\n",
       "   76,\n",
       "   75,\n",
       "   77,\n",
       "   80,\n",
       "   75,\n",
       "   65,\n",
       "   57,\n",
       "   45,\n",
       "   40,\n",
       "   34,\n",
       "   28,\n",
       "   26,\n",
       "   28,\n",
       "   27,\n",
       "   28,\n",
       "   27,\n",
       "   33,\n",
       "   50,\n",
       "   54,\n",
       "   57,\n",
       "   61,\n",
       "   63,\n",
       "   66,\n",
       "   70,\n",
       "   77,\n",
       "   78,\n",
       "   77,\n",
       "   77,\n",
       "   73,\n",
       "   66,\n",
       "   57,\n",
       "   46,\n",
       "   42,\n",
       "   40,\n",
       "   37,\n",
       "   33,\n",
       "   32,\n",
       "   29,\n",
       "   33,\n",
       "   53,\n",
       "   52,\n",
       "   60,\n",
       "   61,\n",
       "   71,\n",
       "   75,\n",
       "   71,\n",
       "   71,\n",
       "   76,\n",
       "   79,\n",
       "   81,\n",
       "   82,\n",
       "   80,\n",
       "   73,\n",
       "   66,\n",
       "   60,\n",
       "   57,\n",
       "   58,\n",
       "   62,\n",
       "   60,\n",
       "   56,\n",
       "   54,\n",
       "   48,\n",
       "   52,\n",
       "   61,\n",
       "   64,\n",
       "   70,\n",
       "   78,\n",
       "   80,\n",
       "   81,\n",
       "   82,\n",
       "   84,\n",
       "   85,\n",
       "   85,\n",
       "   86,\n",
       "   83,\n",
       "   83,\n",
       "   82,\n",
       "   81,\n",
       "   75,\n",
       "   66,\n",
       "   58,\n",
       "   52,\n",
       "   51,\n",
       "   48,\n",
       "   46,\n",
       "   58,\n",
       "   60,\n",
       "   67,\n",
       "   80,\n",
       "   85,\n",
       "   88,\n",
       "   91,\n",
       "   92,\n",
       "   92,\n",
       "   92,\n",
       "   93,\n",
       "   94,\n",
       "   94,\n",
       "   93,\n",
       "   90,\n",
       "   88,\n",
       "   86,\n",
       "   84,\n",
       "   82,\n",
       "   81,\n",
       "   79,\n",
       "   78,\n",
       "   76,\n",
       "   75,\n",
       "   74,\n",
       "   74,\n",
       "   76,\n",
       "   78,\n",
       "   82,\n",
       "   87,\n",
       "   91,\n",
       "   93,\n",
       "   95,\n",
       "   96,\n",
       "   97,\n",
       "   98,\n",
       "   99,\n",
       "   100,\n",
       "   100,\n",
       "   97,\n",
       "   88,\n",
       "   76,\n",
       "   65,\n",
       "   56,\n",
       "   48,\n",
       "   43,\n",
       "   39,\n",
       "   38,\n",
       "   37,\n",
       "   37,\n",
       "   39,\n",
       "   41,\n",
       "   45,\n",
       "   50,\n",
       "   55,\n",
       "   58,\n",
       "   59,\n",
       "   62,\n",
       "   67,\n",
       "   72,\n",
       "   77,\n",
       "   80,\n",
       "   83,\n",
       "   83,\n",
       "   79,\n",
       "   73,\n",
       "   67,\n",
       "   61,\n",
       "   54,\n",
       "   49,\n",
       "   46,\n",
       "   45,\n",
       "   44,\n",
       "   44,\n",
       "   44,\n",
       "   47,\n",
       "   53,\n",
       "   62,\n",
       "   69,\n",
       "   73,\n",
       "   75],\n",
       "  'dew_point_2m': [12.4,\n",
       "   13.3,\n",
       "   13.8,\n",
       "   13.1,\n",
       "   13.0,\n",
       "   13.8,\n",
       "   14.0,\n",
       "   13.7,\n",
       "   13.6,\n",
       "   12.1,\n",
       "   11.6,\n",
       "   9.8,\n",
       "   7.9,\n",
       "   7.3,\n",
       "   8.3,\n",
       "   7.6,\n",
       "   8.1,\n",
       "   7.3,\n",
       "   9.4,\n",
       "   13.6,\n",
       "   12.9,\n",
       "   12.5,\n",
       "   12.8,\n",
       "   13.1,\n",
       "   13.4,\n",
       "   13.6,\n",
       "   14.8,\n",
       "   14.9,\n",
       "   14.6,\n",
       "   14.7,\n",
       "   15.1,\n",
       "   15.1,\n",
       "   14.7,\n",
       "   13.3,\n",
       "   12.8,\n",
       "   12.6,\n",
       "   12.4,\n",
       "   11.1,\n",
       "   10.5,\n",
       "   9.4,\n",
       "   10.8,\n",
       "   16.0,\n",
       "   14.9,\n",
       "   16.4,\n",
       "   13.8,\n",
       "   15.1,\n",
       "   15.4,\n",
       "   14.2,\n",
       "   14.0,\n",
       "   15.0,\n",
       "   15.5,\n",
       "   15.8,\n",
       "   15.9,\n",
       "   16.0,\n",
       "   15.7,\n",
       "   15.5,\n",
       "   15.1,\n",
       "   15.6,\n",
       "   16.7,\n",
       "   17.9,\n",
       "   18.5,\n",
       "   18.4,\n",
       "   18.1,\n",
       "   16.9,\n",
       "   16.7,\n",
       "   18.4,\n",
       "   18.3,\n",
       "   18.7,\n",
       "   19.5,\n",
       "   19.2,\n",
       "   18.1,\n",
       "   17.5,\n",
       "   17.4,\n",
       "   17.3,\n",
       "   17.1,\n",
       "   17.2,\n",
       "   16.9,\n",
       "   17.2,\n",
       "   17.4,\n",
       "   18.1,\n",
       "   18.6,\n",
       "   18.3,\n",
       "   17.7,\n",
       "   17.0,\n",
       "   17.2,\n",
       "   17.0,\n",
       "   16.4,\n",
       "   18.9,\n",
       "   19.0,\n",
       "   19.5,\n",
       "   20.9,\n",
       "   20.8,\n",
       "   20.2,\n",
       "   19.9,\n",
       "   19.5,\n",
       "   19.1,\n",
       "   18.8,\n",
       "   18.8,\n",
       "   18.9,\n",
       "   19.0,\n",
       "   19.2,\n",
       "   19.2,\n",
       "   19.4,\n",
       "   19.7,\n",
       "   20.0,\n",
       "   20.2,\n",
       "   20.7,\n",
       "   20.9,\n",
       "   21.2,\n",
       "   21.1,\n",
       "   21.3,\n",
       "   21.1,\n",
       "   21.0,\n",
       "   21.2,\n",
       "   21.2,\n",
       "   21.3,\n",
       "   21.4,\n",
       "   21.3,\n",
       "   21.1,\n",
       "   21.0,\n",
       "   20.7,\n",
       "   20.3,\n",
       "   20.1,\n",
       "   20.0,\n",
       "   20.1,\n",
       "   20.4,\n",
       "   20.8,\n",
       "   21.1,\n",
       "   21.2,\n",
       "   20.7,\n",
       "   19.8,\n",
       "   18.6,\n",
       "   17.6,\n",
       "   16.7,\n",
       "   16.5,\n",
       "   16.0,\n",
       "   15.8,\n",
       "   16.2,\n",
       "   16.1,\n",
       "   16.1,\n",
       "   15.9,\n",
       "   15.9,\n",
       "   15.9,\n",
       "   15.8,\n",
       "   16.0,\n",
       "   16.4,\n",
       "   16.6,\n",
       "   17.1,\n",
       "   17.7,\n",
       "   18.5,\n",
       "   19.1,\n",
       "   19.0,\n",
       "   18.8,\n",
       "   18.6,\n",
       "   18.5,\n",
       "   17.9,\n",
       "   17.5,\n",
       "   16.9,\n",
       "   16.7,\n",
       "   16.2,\n",
       "   15.9,\n",
       "   15.4,\n",
       "   15.7,\n",
       "   16.4,\n",
       "   17.4,\n",
       "   17.8,\n",
       "   18.0,\n",
       "   17.9],\n",
       "  'precipitation_probability': [0,\n",
       "   0,\n",
       "   0,\n",
       "   0,\n",
       "   0,\n",
       "   0,\n",
       "   0,\n",
       "   0,\n",
       "   0,\n",
       "   0,\n",
       "   0,\n",
       "   0,\n",
       "   0,\n",
       "   0,\n",
       "   0,\n",
       "   0,\n",
       "   0,\n",
       "   0,\n",
       "   0,\n",
       "   0,\n",
       "   0,\n",
       "   0,\n",
       "   0,\n",
       "   0,\n",
       "   0,\n",
       "   0,\n",
       "   0,\n",
       "   0,\n",
       "   0,\n",
       "   0,\n",
       "   0,\n",
       "   0,\n",
       "   0,\n",
       "   0,\n",
       "   0,\n",
       "   0,\n",
       "   0,\n",
       "   0,\n",
       "   18,\n",
       "   28,\n",
       "   38,\n",
       "   28,\n",
       "   18,\n",
       "   13,\n",
       "   10,\n",
       "   8,\n",
       "   8,\n",
       "   8,\n",
       "   5,\n",
       "   5,\n",
       "   3,\n",
       "   3,\n",
       "   3,\n",
       "   0,\n",
       "   0,\n",
       "   0,\n",
       "   0,\n",
       "   10,\n",
       "   18,\n",
       "   15,\n",
       "   5,\n",
       "   5,\n",
       "   5,\n",
       "   5,\n",
       "   6,\n",
       "   8,\n",
       "   8,\n",
       "   6,\n",
       "   2,\n",
       "   0,\n",
       "   1,\n",
       "   3,\n",
       "   5,\n",
       "   5,\n",
       "   3,\n",
       "   3,\n",
       "   5,\n",
       "   8,\n",
       "   10,\n",
       "   8,\n",
       "   5,\n",
       "   3,\n",
       "   10,\n",
       "   11,\n",
       "   13,\n",
       "   18,\n",
       "   25,\n",
       "   33,\n",
       "   40,\n",
       "   46,\n",
       "   48,\n",
       "   46,\n",
       "   41,\n",
       "   33,\n",
       "   25,\n",
       "   18,\n",
       "   13,\n",
       "   10,\n",
       "   7,\n",
       "   5,\n",
       "   3,\n",
       "   3,\n",
       "   3,\n",
       "   5,\n",
       "   8,\n",
       "   12,\n",
       "   16,\n",
       "   20,\n",
       "   23,\n",
       "   25,\n",
       "   27,\n",
       "   28,\n",
       "   29,\n",
       "   29,\n",
       "   28,\n",
       "   25,\n",
       "   21,\n",
       "   16,\n",
       "   10,\n",
       "   6,\n",
       "   3,\n",
       "   2,\n",
       "   3,\n",
       "   4,\n",
       "   5,\n",
       "   7,\n",
       "   8,\n",
       "   9,\n",
       "   9,\n",
       "   9,\n",
       "   10,\n",
       "   10,\n",
       "   10,\n",
       "   9,\n",
       "   11,\n",
       "   13,\n",
       "   15,\n",
       "   18,\n",
       "   20,\n",
       "   23,\n",
       "   25,\n",
       "   28,\n",
       "   30,\n",
       "   32,\n",
       "   33,\n",
       "   34,\n",
       "   35,\n",
       "   36,\n",
       "   37,\n",
       "   38,\n",
       "   38,\n",
       "   38,\n",
       "   39,\n",
       "   39,\n",
       "   39,\n",
       "   38,\n",
       "   38,\n",
       "   37,\n",
       "   37,\n",
       "   36,\n",
       "   34,\n",
       "   33,\n",
       "   31,\n",
       "   30,\n",
       "   28,\n",
       "   27,\n",
       "   25,\n",
       "   24],\n",
       "  'precipitation': [0.0,\n",
       "   0.0,\n",
       "   0.0,\n",
       "   0.0,\n",
       "   0.0,\n",
       "   0.0,\n",
       "   0.0,\n",
       "   0.0,\n",
       "   0.0,\n",
       "   0.0,\n",
       "   0.0,\n",
       "   0.0,\n",
       "   0.0,\n",
       "   0.0,\n",
       "   0.0,\n",
       "   0.0,\n",
       "   0.0,\n",
       "   0.0,\n",
       "   0.0,\n",
       "   0.0,\n",
       "   0.0,\n",
       "   0.0,\n",
       "   0.0,\n",
       "   0.0,\n",
       "   0.0,\n",
       "   0.0,\n",
       "   0.0,\n",
       "   0.0,\n",
       "   0.0,\n",
       "   0.0,\n",
       "   0.0,\n",
       "   0.0,\n",
       "   0.0,\n",
       "   0.0,\n",
       "   0.0,\n",
       "   0.0,\n",
       "   0.0,\n",
       "   0.0,\n",
       "   0.0,\n",
       "   0.0,\n",
       "   0.0,\n",
       "   0.0,\n",
       "   0.0,\n",
       "   0.0,\n",
       "   0.0,\n",
       "   0.0,\n",
       "   0.0,\n",
       "   0.0,\n",
       "   0.0,\n",
       "   0.0,\n",
       "   0.0,\n",
       "   0.0,\n",
       "   0.0,\n",
       "   0.0,\n",
       "   0.0,\n",
       "   0.0,\n",
       "   0.0,\n",
       "   0.0,\n",
       "   0.0,\n",
       "   0.1,\n",
       "   0.0,\n",
       "   0.0,\n",
       "   0.0,\n",
       "   0.0,\n",
       "   0.0,\n",
       "   0.0,\n",
       "   0.0,\n",
       "   0.0,\n",
       "   0.0,\n",
       "   0.0,\n",
       "   0.0,\n",
       "   0.0,\n",
       "   0.0,\n",
       "   0.0,\n",
       "   0.0,\n",
       "   0.0,\n",
       "   0.0,\n",
       "   0.0,\n",
       "   0.0,\n",
       "   0.0,\n",
       "   0.0,\n",
       "   0.0,\n",
       "   0.0,\n",
       "   0.0,\n",
       "   0.0,\n",
       "   0.0,\n",
       "   0.0,\n",
       "   0.1,\n",
       "   0.0,\n",
       "   0.2,\n",
       "   0.5,\n",
       "   0.4,\n",
       "   0.4,\n",
       "   0.4,\n",
       "   0.0,\n",
       "   0.0,\n",
       "   0.0,\n",
       "   0.0,\n",
       "   0.0,\n",
       "   0.0,\n",
       "   0.0,\n",
       "   0.0,\n",
       "   0.0,\n",
       "   0.2,\n",
       "   0.2,\n",
       "   0.2,\n",
       "   0.7,\n",
       "   0.7,\n",
       "   0.7,\n",
       "   0.2,\n",
       "   0.2,\n",
       "   0.2,\n",
       "   0.2,\n",
       "   0.2,\n",
       "   0.2,\n",
       "   0.0,\n",
       "   0.0,\n",
       "   0.0,\n",
       "   0.0,\n",
       "   0.0,\n",
       "   0.0,\n",
       "   0.0,\n",
       "   0.0,\n",
       "   0.0,\n",
       "   0.0,\n",
       "   0.0,\n",
       "   0.0,\n",
       "   0.0,\n",
       "   0.0,\n",
       "   0.0,\n",
       "   0.0,\n",
       "   0.0,\n",
       "   0.0,\n",
       "   0.0,\n",
       "   0.0,\n",
       "   0.0,\n",
       "   0.0,\n",
       "   0.0,\n",
       "   0.0,\n",
       "   0.0,\n",
       "   0.0,\n",
       "   0.0,\n",
       "   0.0,\n",
       "   0.0,\n",
       "   0.0,\n",
       "   0.0,\n",
       "   0.0,\n",
       "   0.0,\n",
       "   0.0,\n",
       "   0.0,\n",
       "   0.0,\n",
       "   0.0,\n",
       "   0.0,\n",
       "   0.0,\n",
       "   0.0,\n",
       "   0.0,\n",
       "   0.0,\n",
       "   0.0,\n",
       "   0.0,\n",
       "   0.0,\n",
       "   0.0,\n",
       "   0.0,\n",
       "   0.0,\n",
       "   0.0,\n",
       "   0.0,\n",
       "   0.0,\n",
       "   0.0,\n",
       "   0.0]}}"
      ]
     },
     "execution_count": 22,
     "metadata": {},
     "output_type": "execute_result"
    }
   ],
   "source": [
    "\n",
    "def weather_forecast(lat,lon,params):\n",
    "    url = f'https://api.open-meteo.com/v1/forecast?latitude=45.40797&longitude=11.88586&hourly=temperature_2m,relative_humidity_2m,dew_point_2m,precipitation_probability,precipitation'\n",
    "\n",
    "    params = ['temperature_2m', 'relative_humidity_2m', 'dew_point_2m', 'precipitation_probability', 'precipitation']\n",
    "    response = requests.get(url)\n",
    "    data = response.json()\n",
    "    return data\n",
    "\n",
    "\n",
    "data = weather_forecast(45.40797, 11.88586, params)\n",
    "\n",
    "data"
   ]
  },
  {
   "cell_type": "markdown",
   "metadata": {},
   "source": [
    "3. Visualizza i dati in tabella"
   ]
  },
  {
   "cell_type": "code",
   "execution_count": 23,
   "metadata": {},
   "outputs": [
    {
     "data": {
      "text/html": [
       "<div>\n",
       "<style scoped>\n",
       "    .dataframe tbody tr th:only-of-type {\n",
       "        vertical-align: middle;\n",
       "    }\n",
       "\n",
       "    .dataframe tbody tr th {\n",
       "        vertical-align: top;\n",
       "    }\n",
       "\n",
       "    .dataframe thead th {\n",
       "        text-align: right;\n",
       "    }\n",
       "</style>\n",
       "<table border=\"1\" class=\"dataframe\">\n",
       "  <thead>\n",
       "    <tr style=\"text-align: right;\">\n",
       "      <th></th>\n",
       "      <th>time</th>\n",
       "      <th>temperature_2m</th>\n",
       "      <th>relative_humidity_2m</th>\n",
       "      <th>dew_point_2m</th>\n",
       "      <th>precipitation_probability</th>\n",
       "      <th>precipitation</th>\n",
       "    </tr>\n",
       "  </thead>\n",
       "  <tbody>\n",
       "    <tr>\n",
       "      <th>0</th>\n",
       "      <td>2025-07-10T00:00</td>\n",
       "      <td>19.4</td>\n",
       "      <td>64</td>\n",
       "      <td>12.4</td>\n",
       "      <td>0</td>\n",
       "      <td>0.0</td>\n",
       "    </tr>\n",
       "    <tr>\n",
       "      <th>1</th>\n",
       "      <td>2025-07-10T01:00</td>\n",
       "      <td>18.7</td>\n",
       "      <td>71</td>\n",
       "      <td>13.3</td>\n",
       "      <td>0</td>\n",
       "      <td>0.0</td>\n",
       "    </tr>\n",
       "    <tr>\n",
       "      <th>2</th>\n",
       "      <td>2025-07-10T02:00</td>\n",
       "      <td>18.1</td>\n",
       "      <td>76</td>\n",
       "      <td>13.8</td>\n",
       "      <td>0</td>\n",
       "      <td>0.0</td>\n",
       "    </tr>\n",
       "    <tr>\n",
       "      <th>3</th>\n",
       "      <td>2025-07-10T03:00</td>\n",
       "      <td>17.5</td>\n",
       "      <td>75</td>\n",
       "      <td>13.1</td>\n",
       "      <td>0</td>\n",
       "      <td>0.0</td>\n",
       "    </tr>\n",
       "    <tr>\n",
       "      <th>4</th>\n",
       "      <td>2025-07-10T04:00</td>\n",
       "      <td>17.1</td>\n",
       "      <td>77</td>\n",
       "      <td>13.0</td>\n",
       "      <td>0</td>\n",
       "      <td>0.0</td>\n",
       "    </tr>\n",
       "    <tr>\n",
       "      <th>...</th>\n",
       "      <td>...</td>\n",
       "      <td>...</td>\n",
       "      <td>...</td>\n",
       "      <td>...</td>\n",
       "      <td>...</td>\n",
       "      <td>...</td>\n",
       "    </tr>\n",
       "    <tr>\n",
       "      <th>163</th>\n",
       "      <td>2025-07-16T19:00</td>\n",
       "      <td>26.7</td>\n",
       "      <td>53</td>\n",
       "      <td>16.4</td>\n",
       "      <td>30</td>\n",
       "      <td>0.0</td>\n",
       "    </tr>\n",
       "    <tr>\n",
       "      <th>164</th>\n",
       "      <td>2025-07-16T20:00</td>\n",
       "      <td>25.2</td>\n",
       "      <td>62</td>\n",
       "      <td>17.4</td>\n",
       "      <td>28</td>\n",
       "      <td>0.0</td>\n",
       "    </tr>\n",
       "    <tr>\n",
       "      <th>165</th>\n",
       "      <td>2025-07-16T21:00</td>\n",
       "      <td>23.9</td>\n",
       "      <td>69</td>\n",
       "      <td>17.8</td>\n",
       "      <td>27</td>\n",
       "      <td>0.0</td>\n",
       "    </tr>\n",
       "    <tr>\n",
       "      <th>166</th>\n",
       "      <td>2025-07-16T22:00</td>\n",
       "      <td>23.1</td>\n",
       "      <td>73</td>\n",
       "      <td>18.0</td>\n",
       "      <td>25</td>\n",
       "      <td>0.0</td>\n",
       "    </tr>\n",
       "    <tr>\n",
       "      <th>167</th>\n",
       "      <td>2025-07-16T23:00</td>\n",
       "      <td>22.6</td>\n",
       "      <td>75</td>\n",
       "      <td>17.9</td>\n",
       "      <td>24</td>\n",
       "      <td>0.0</td>\n",
       "    </tr>\n",
       "  </tbody>\n",
       "</table>\n",
       "<p>168 rows × 6 columns</p>\n",
       "</div>"
      ],
      "text/plain": [
       "                 time  temperature_2m  relative_humidity_2m  dew_point_2m  \\\n",
       "0    2025-07-10T00:00            19.4                    64          12.4   \n",
       "1    2025-07-10T01:00            18.7                    71          13.3   \n",
       "2    2025-07-10T02:00            18.1                    76          13.8   \n",
       "3    2025-07-10T03:00            17.5                    75          13.1   \n",
       "4    2025-07-10T04:00            17.1                    77          13.0   \n",
       "..                ...             ...                   ...           ...   \n",
       "163  2025-07-16T19:00            26.7                    53          16.4   \n",
       "164  2025-07-16T20:00            25.2                    62          17.4   \n",
       "165  2025-07-16T21:00            23.9                    69          17.8   \n",
       "166  2025-07-16T22:00            23.1                    73          18.0   \n",
       "167  2025-07-16T23:00            22.6                    75          17.9   \n",
       "\n",
       "     precipitation_probability  precipitation  \n",
       "0                            0            0.0  \n",
       "1                            0            0.0  \n",
       "2                            0            0.0  \n",
       "3                            0            0.0  \n",
       "4                            0            0.0  \n",
       "..                         ...            ...  \n",
       "163                         30            0.0  \n",
       "164                         28            0.0  \n",
       "165                         27            0.0  \n",
       "166                         25            0.0  \n",
       "167                         24            0.0  \n",
       "\n",
       "[168 rows x 6 columns]"
      ]
     },
     "execution_count": 23,
     "metadata": {},
     "output_type": "execute_result"
    }
   ],
   "source": [
    "import pandas as pd \n",
    "\n",
    "df = pd.DataFrame(data['hourly'])\n",
    "\n",
    "df"
   ]
  },
  {
   "cell_type": "markdown",
   "metadata": {},
   "source": [
    "4. Grafico dell’andamento orario"
   ]
  },
  {
   "cell_type": "code",
   "execution_count": 38,
   "metadata": {},
   "outputs": [],
   "source": [
    "import plotly.graph_objects as go\n",
    "\n",
    "\n",
    "def plot_temperature(df, city_name=\"Città\"):\n",
    "    \n",
    "    fig = go.Figure()\n",
    "    \n",
    "    fig.add_trace(go.Scatter(\n",
    "        x=df['time'], \n",
    "        y=df['temperature_2m'],\n",
    "        mode='lines+markers',\n",
    "        name='Temperatura',\n",
    "        line=dict(color='red', width=3),\n",
    "        marker=dict(size=6, color='red')\n",
    "    ))\n",
    "    \n",
    "    fig.update_layout(\n",
    "        title=f'Temperatura - {city_name}',\n",
    "        xaxis_title='Data/Ora',\n",
    "        yaxis_title='Temperatura (°C)',\n",
    "        height=500,\n",
    "        width=1000,\n",
    "        font=dict(size=12)\n",
    "    )\n",
    "    \n",
    "    fig.update_xaxes(tickangle=45)\n",
    "    \n",
    "    # Mostra il grafico\n",
    "    fig.show()\n",
    "    return fig\n",
    "\n",
    "def plot_humidity(df, city_name=\"Città\"):\n",
    "    \n",
    "    fig = go.Figure()\n",
    "    \n",
    "    fig.add_trace(go.Scatter(\n",
    "        x=df['time'], \n",
    "        y=df['relative_humidity_2m'],\n",
    "        mode='lines',\n",
    "        name='Umidità',\n",
    "        fill='tonexty',\n",
    "        line=dict(color='blue', width=2),\n",
    "        fillcolor='rgba(0,100,255,0.3)'\n",
    "    ))\n",
    "    \n",
    "    fig.update_layout(\n",
    "        title=f'Umidità Relativa - {city_name}',\n",
    "        xaxis_title='Data/Ora',\n",
    "        yaxis_title='Umidità (%)',\n",
    "        height=500,\n",
    "        width=1000,\n",
    "        font=dict(size=12)\n",
    "    )\n",
    "    \n",
    "    fig.update_xaxes(tickangle=45)\n",
    "    fig.show()\n",
    "    return fig\n",
    "\n",
    "def plot_dew_point(df, city_name=\"Città\"):\n",
    "    \n",
    "    fig = go.Figure()\n",
    "    \n",
    "    fig.add_trace(go.Scatter(\n",
    "        x=df['time'], \n",
    "        y=df['dew_point_2m'],\n",
    "        mode='lines+markers',\n",
    "        name='Punto di Rugiada',\n",
    "        line=dict(color='green', width=3),\n",
    "        marker=dict(size=6, color='green')\n",
    "    ))\n",
    "    \n",
    "    fig.update_layout(\n",
    "        title=f'Punto di Rugiada - {city_name}',\n",
    "        xaxis_title='Data/Ora',\n",
    "        yaxis_title='Punto di Rugiada (°C)',\n",
    "        height=500,\n",
    "        width=1000,\n",
    "        font=dict(size=12)\n",
    "    )\n",
    "    \n",
    "    fig.update_xaxes(tickangle=45)\n",
    "    fig.show()\n",
    "    return fig\n",
    "\n",
    "def plot_precipitation_probability(df, city_name=\"Città\"):\n",
    "    \n",
    "    fig = go.Figure()\n",
    "    \n",
    "    fig.add_trace(go.Bar(\n",
    "        x=df['time'], \n",
    "        y=df['precipitation_probability'],\n",
    "        name='Probabilità Precipitazioni',\n",
    "        marker_color='orange',\n",
    "        opacity=0.8\n",
    "    ))\n",
    "    \n",
    "    fig.update_layout(\n",
    "        title=f'Probabilità Precipitazioni - {city_name}',\n",
    "        xaxis_title='Data/Ora',\n",
    "        yaxis_title='Probabilità (%)',\n",
    "        height=500,\n",
    "        width=1000,\n",
    "        font=dict(size=12)\n",
    "    )\n",
    "    \n",
    "    fig.update_xaxes(tickangle=45)\n",
    "    fig.show()\n",
    "    return fig\n",
    "\n",
    "def plot_precipitation(df, city_name=\"Città\"):\n",
    "    \n",
    "    fig = go.Figure()\n",
    "    \n",
    "    fig.add_trace(go.Bar(\n",
    "        x=df['time'], \n",
    "        y=df['precipitation'],\n",
    "        name='Precipitazioni',\n",
    "        marker_color='darkblue',\n",
    "        opacity=0.8\n",
    "    ))\n",
    "    \n",
    "    fig.update_layout(\n",
    "        title=f'Precipitazioni - {city_name}',\n",
    "        xaxis_title='Data/Ora',\n",
    "        yaxis_title='Precipitazioni (mm)',\n",
    "        height=500,\n",
    "        width=1000,\n",
    "        font=dict(size=12)\n",
    "    )\n",
    "    \n",
    "    fig.update_xaxes(tickangle=45)\n",
    "    fig.show()\n",
    "    return fig\n",
    "\n",
    "def show_all_weather_plots(df, city_name=\"Città\"):\n",
    "        \n",
    "    plot_temperature(df, city_name)\n",
    "    plot_humidity(df, city_name)\n",
    "    plot_dew_point(df, city_name)\n",
    "    plot_precipitation_probability(df, city_name)\n",
    "    plot_precipitation(df, city_name)\n",
    "    \n",
    "    "
   ]
  },
  {
   "cell_type": "code",
   "execution_count": 39,
   "metadata": {},
   "outputs": [
    {
     "data": {
      "application/vnd.plotly.v1+json": {
       "config": {
        "plotlyServerURL": "https://plot.ly"
       },
       "data": [
        {
         "line": {
          "color": "red",
          "width": 3
         },
         "marker": {
          "color": "red",
          "size": 6
         },
         "mode": "lines+markers",
         "name": "Temperatura",
         "type": "scatter",
         "x": [
          "2025-07-10T00:00",
          "2025-07-10T01:00",
          "2025-07-10T02:00",
          "2025-07-10T03:00",
          "2025-07-10T04:00",
          "2025-07-10T05:00",
          "2025-07-10T06:00",
          "2025-07-10T07:00",
          "2025-07-10T08:00",
          "2025-07-10T09:00",
          "2025-07-10T10:00",
          "2025-07-10T11:00",
          "2025-07-10T12:00",
          "2025-07-10T13:00",
          "2025-07-10T14:00",
          "2025-07-10T15:00",
          "2025-07-10T16:00",
          "2025-07-10T17:00",
          "2025-07-10T18:00",
          "2025-07-10T19:00",
          "2025-07-10T20:00",
          "2025-07-10T21:00",
          "2025-07-10T22:00",
          "2025-07-10T23:00",
          "2025-07-11T00:00",
          "2025-07-11T01:00",
          "2025-07-11T02:00",
          "2025-07-11T03:00",
          "2025-07-11T04:00",
          "2025-07-11T05:00",
          "2025-07-11T06:00",
          "2025-07-11T07:00",
          "2025-07-11T08:00",
          "2025-07-11T09:00",
          "2025-07-11T10:00",
          "2025-07-11T11:00",
          "2025-07-11T12:00",
          "2025-07-11T13:00",
          "2025-07-11T14:00",
          "2025-07-11T15:00",
          "2025-07-11T16:00",
          "2025-07-11T17:00",
          "2025-07-11T18:00",
          "2025-07-11T19:00",
          "2025-07-11T20:00",
          "2025-07-11T21:00",
          "2025-07-11T22:00",
          "2025-07-11T23:00",
          "2025-07-12T00:00",
          "2025-07-12T01:00",
          "2025-07-12T02:00",
          "2025-07-12T03:00",
          "2025-07-12T04:00",
          "2025-07-12T05:00",
          "2025-07-12T06:00",
          "2025-07-12T07:00",
          "2025-07-12T08:00",
          "2025-07-12T09:00",
          "2025-07-12T10:00",
          "2025-07-12T11:00",
          "2025-07-12T12:00",
          "2025-07-12T13:00",
          "2025-07-12T14:00",
          "2025-07-12T15:00",
          "2025-07-12T16:00",
          "2025-07-12T17:00",
          "2025-07-12T18:00",
          "2025-07-12T19:00",
          "2025-07-12T20:00",
          "2025-07-12T21:00",
          "2025-07-12T22:00",
          "2025-07-12T23:00",
          "2025-07-13T00:00",
          "2025-07-13T01:00",
          "2025-07-13T02:00",
          "2025-07-13T03:00",
          "2025-07-13T04:00",
          "2025-07-13T05:00",
          "2025-07-13T06:00",
          "2025-07-13T07:00",
          "2025-07-13T08:00",
          "2025-07-13T09:00",
          "2025-07-13T10:00",
          "2025-07-13T11:00",
          "2025-07-13T12:00",
          "2025-07-13T13:00",
          "2025-07-13T14:00",
          "2025-07-13T15:00",
          "2025-07-13T16:00",
          "2025-07-13T17:00",
          "2025-07-13T18:00",
          "2025-07-13T19:00",
          "2025-07-13T20:00",
          "2025-07-13T21:00",
          "2025-07-13T22:00",
          "2025-07-13T23:00",
          "2025-07-14T00:00",
          "2025-07-14T01:00",
          "2025-07-14T02:00",
          "2025-07-14T03:00",
          "2025-07-14T04:00",
          "2025-07-14T05:00",
          "2025-07-14T06:00",
          "2025-07-14T07:00",
          "2025-07-14T08:00",
          "2025-07-14T09:00",
          "2025-07-14T10:00",
          "2025-07-14T11:00",
          "2025-07-14T12:00",
          "2025-07-14T13:00",
          "2025-07-14T14:00",
          "2025-07-14T15:00",
          "2025-07-14T16:00",
          "2025-07-14T17:00",
          "2025-07-14T18:00",
          "2025-07-14T19:00",
          "2025-07-14T20:00",
          "2025-07-14T21:00",
          "2025-07-14T22:00",
          "2025-07-14T23:00",
          "2025-07-15T00:00",
          "2025-07-15T01:00",
          "2025-07-15T02:00",
          "2025-07-15T03:00",
          "2025-07-15T04:00",
          "2025-07-15T05:00",
          "2025-07-15T06:00",
          "2025-07-15T07:00",
          "2025-07-15T08:00",
          "2025-07-15T09:00",
          "2025-07-15T10:00",
          "2025-07-15T11:00",
          "2025-07-15T12:00",
          "2025-07-15T13:00",
          "2025-07-15T14:00",
          "2025-07-15T15:00",
          "2025-07-15T16:00",
          "2025-07-15T17:00",
          "2025-07-15T18:00",
          "2025-07-15T19:00",
          "2025-07-15T20:00",
          "2025-07-15T21:00",
          "2025-07-15T22:00",
          "2025-07-15T23:00",
          "2025-07-16T00:00",
          "2025-07-16T01:00",
          "2025-07-16T02:00",
          "2025-07-16T03:00",
          "2025-07-16T04:00",
          "2025-07-16T05:00",
          "2025-07-16T06:00",
          "2025-07-16T07:00",
          "2025-07-16T08:00",
          "2025-07-16T09:00",
          "2025-07-16T10:00",
          "2025-07-16T11:00",
          "2025-07-16T12:00",
          "2025-07-16T13:00",
          "2025-07-16T14:00",
          "2025-07-16T15:00",
          "2025-07-16T16:00",
          "2025-07-16T17:00",
          "2025-07-16T18:00",
          "2025-07-16T19:00",
          "2025-07-16T20:00",
          "2025-07-16T21:00",
          "2025-07-16T22:00",
          "2025-07-16T23:00"
         ],
         "y": [
          19.4,
          18.7,
          18.1,
          17.5,
          17.1,
          17.2,
          18.5,
          20.5,
          22.5,
          24.9,
          26.2,
          27,
          28.1,
          28.7,
          28.6,
          28.4,
          28.4,
          28,
          27.1,
          24.7,
          22.7,
          21.3,
          20.5,
          20.4,
          19.9,
          19.2,
          18.9,
          18.8,
          18.7,
          18.8,
          20,
          21.7,
          23.7,
          25.8,
          26.8,
          27.4,
          28.4,
          29,
          28.8,
          29.2,
          28.6,
          26.3,
          25.5,
          24.7,
          21.6,
          20.5,
          19.9,
          19.6,
          19.4,
          19.3,
          19.2,
          19.1,
          19.1,
          19.5,
          20.7,
          22.1,
          23.3,
          24.7,
          25.5,
          25.7,
          26.9,
          27.9,
          28.3,
          29,
          27.4,
          26.5,
          25.6,
          24.6,
          23.5,
          22.8,
          21.5,
          20.7,
          20.2,
          19.9,
          19.7,
          19.6,
          19.8,
          20.1,
          20.6,
          21.5,
          23.3,
          25.1,
          26.7,
          27.7,
          28.3,
          29.1,
          29.2,
          27.9,
          27.5,
          26.1,
          24.5,
          23.4,
          22.3,
          21.5,
          20.9,
          20.5,
          20.2,
          20,
          19.9,
          20,
          20.4,
          20.9,
          21.5,
          22.1,
          22.8,
          23.5,
          24.1,
          24.8,
          25.3,
          25.7,
          26,
          26.1,
          26,
          25.7,
          25.3,
          24.6,
          23.7,
          22.9,
          22.3,
          21.8,
          21.4,
          20.8,
          20.4,
          20.1,
          20.1,
          20.4,
          21.3,
          23.2,
          25.7,
          27.9,
          29.5,
          30.8,
          31.7,
          32.4,
          32.7,
          32.6,
          32.4,
          31.8,
          30.9,
          29.2,
          27.2,
          25.6,
          24.7,
          24.3,
          23.7,
          22.8,
          21.9,
          21.3,
          21.3,
          21.5,
          22.1,
          22.9,
          24,
          25.2,
          26.6,
          28.1,
          29.3,
          29.8,
          29.9,
          29.8,
          29.4,
          28.9,
          28,
          26.7,
          25.2,
          23.9,
          23.1,
          22.6
         ]
        }
       ],
       "layout": {
        "font": {
         "size": 12
        },
        "height": 500,
        "template": {
         "data": {
          "bar": [
           {
            "error_x": {
             "color": "#2a3f5f"
            },
            "error_y": {
             "color": "#2a3f5f"
            },
            "marker": {
             "line": {
              "color": "#E5ECF6",
              "width": 0.5
             },
             "pattern": {
              "fillmode": "overlay",
              "size": 10,
              "solidity": 0.2
             }
            },
            "type": "bar"
           }
          ],
          "barpolar": [
           {
            "marker": {
             "line": {
              "color": "#E5ECF6",
              "width": 0.5
             },
             "pattern": {
              "fillmode": "overlay",
              "size": 10,
              "solidity": 0.2
             }
            },
            "type": "barpolar"
           }
          ],
          "carpet": [
           {
            "aaxis": {
             "endlinecolor": "#2a3f5f",
             "gridcolor": "white",
             "linecolor": "white",
             "minorgridcolor": "white",
             "startlinecolor": "#2a3f5f"
            },
            "baxis": {
             "endlinecolor": "#2a3f5f",
             "gridcolor": "white",
             "linecolor": "white",
             "minorgridcolor": "white",
             "startlinecolor": "#2a3f5f"
            },
            "type": "carpet"
           }
          ],
          "choropleth": [
           {
            "colorbar": {
             "outlinewidth": 0,
             "ticks": ""
            },
            "type": "choropleth"
           }
          ],
          "contour": [
           {
            "colorbar": {
             "outlinewidth": 0,
             "ticks": ""
            },
            "colorscale": [
             [
              0,
              "#0d0887"
             ],
             [
              0.1111111111111111,
              "#46039f"
             ],
             [
              0.2222222222222222,
              "#7201a8"
             ],
             [
              0.3333333333333333,
              "#9c179e"
             ],
             [
              0.4444444444444444,
              "#bd3786"
             ],
             [
              0.5555555555555556,
              "#d8576b"
             ],
             [
              0.6666666666666666,
              "#ed7953"
             ],
             [
              0.7777777777777778,
              "#fb9f3a"
             ],
             [
              0.8888888888888888,
              "#fdca26"
             ],
             [
              1,
              "#f0f921"
             ]
            ],
            "type": "contour"
           }
          ],
          "contourcarpet": [
           {
            "colorbar": {
             "outlinewidth": 0,
             "ticks": ""
            },
            "type": "contourcarpet"
           }
          ],
          "heatmap": [
           {
            "colorbar": {
             "outlinewidth": 0,
             "ticks": ""
            },
            "colorscale": [
             [
              0,
              "#0d0887"
             ],
             [
              0.1111111111111111,
              "#46039f"
             ],
             [
              0.2222222222222222,
              "#7201a8"
             ],
             [
              0.3333333333333333,
              "#9c179e"
             ],
             [
              0.4444444444444444,
              "#bd3786"
             ],
             [
              0.5555555555555556,
              "#d8576b"
             ],
             [
              0.6666666666666666,
              "#ed7953"
             ],
             [
              0.7777777777777778,
              "#fb9f3a"
             ],
             [
              0.8888888888888888,
              "#fdca26"
             ],
             [
              1,
              "#f0f921"
             ]
            ],
            "type": "heatmap"
           }
          ],
          "heatmapgl": [
           {
            "colorbar": {
             "outlinewidth": 0,
             "ticks": ""
            },
            "colorscale": [
             [
              0,
              "#0d0887"
             ],
             [
              0.1111111111111111,
              "#46039f"
             ],
             [
              0.2222222222222222,
              "#7201a8"
             ],
             [
              0.3333333333333333,
              "#9c179e"
             ],
             [
              0.4444444444444444,
              "#bd3786"
             ],
             [
              0.5555555555555556,
              "#d8576b"
             ],
             [
              0.6666666666666666,
              "#ed7953"
             ],
             [
              0.7777777777777778,
              "#fb9f3a"
             ],
             [
              0.8888888888888888,
              "#fdca26"
             ],
             [
              1,
              "#f0f921"
             ]
            ],
            "type": "heatmapgl"
           }
          ],
          "histogram": [
           {
            "marker": {
             "pattern": {
              "fillmode": "overlay",
              "size": 10,
              "solidity": 0.2
             }
            },
            "type": "histogram"
           }
          ],
          "histogram2d": [
           {
            "colorbar": {
             "outlinewidth": 0,
             "ticks": ""
            },
            "colorscale": [
             [
              0,
              "#0d0887"
             ],
             [
              0.1111111111111111,
              "#46039f"
             ],
             [
              0.2222222222222222,
              "#7201a8"
             ],
             [
              0.3333333333333333,
              "#9c179e"
             ],
             [
              0.4444444444444444,
              "#bd3786"
             ],
             [
              0.5555555555555556,
              "#d8576b"
             ],
             [
              0.6666666666666666,
              "#ed7953"
             ],
             [
              0.7777777777777778,
              "#fb9f3a"
             ],
             [
              0.8888888888888888,
              "#fdca26"
             ],
             [
              1,
              "#f0f921"
             ]
            ],
            "type": "histogram2d"
           }
          ],
          "histogram2dcontour": [
           {
            "colorbar": {
             "outlinewidth": 0,
             "ticks": ""
            },
            "colorscale": [
             [
              0,
              "#0d0887"
             ],
             [
              0.1111111111111111,
              "#46039f"
             ],
             [
              0.2222222222222222,
              "#7201a8"
             ],
             [
              0.3333333333333333,
              "#9c179e"
             ],
             [
              0.4444444444444444,
              "#bd3786"
             ],
             [
              0.5555555555555556,
              "#d8576b"
             ],
             [
              0.6666666666666666,
              "#ed7953"
             ],
             [
              0.7777777777777778,
              "#fb9f3a"
             ],
             [
              0.8888888888888888,
              "#fdca26"
             ],
             [
              1,
              "#f0f921"
             ]
            ],
            "type": "histogram2dcontour"
           }
          ],
          "mesh3d": [
           {
            "colorbar": {
             "outlinewidth": 0,
             "ticks": ""
            },
            "type": "mesh3d"
           }
          ],
          "parcoords": [
           {
            "line": {
             "colorbar": {
              "outlinewidth": 0,
              "ticks": ""
             }
            },
            "type": "parcoords"
           }
          ],
          "pie": [
           {
            "automargin": true,
            "type": "pie"
           }
          ],
          "scatter": [
           {
            "fillpattern": {
             "fillmode": "overlay",
             "size": 10,
             "solidity": 0.2
            },
            "type": "scatter"
           }
          ],
          "scatter3d": [
           {
            "line": {
             "colorbar": {
              "outlinewidth": 0,
              "ticks": ""
             }
            },
            "marker": {
             "colorbar": {
              "outlinewidth": 0,
              "ticks": ""
             }
            },
            "type": "scatter3d"
           }
          ],
          "scattercarpet": [
           {
            "marker": {
             "colorbar": {
              "outlinewidth": 0,
              "ticks": ""
             }
            },
            "type": "scattercarpet"
           }
          ],
          "scattergeo": [
           {
            "marker": {
             "colorbar": {
              "outlinewidth": 0,
              "ticks": ""
             }
            },
            "type": "scattergeo"
           }
          ],
          "scattergl": [
           {
            "marker": {
             "colorbar": {
              "outlinewidth": 0,
              "ticks": ""
             }
            },
            "type": "scattergl"
           }
          ],
          "scattermapbox": [
           {
            "marker": {
             "colorbar": {
              "outlinewidth": 0,
              "ticks": ""
             }
            },
            "type": "scattermapbox"
           }
          ],
          "scatterpolar": [
           {
            "marker": {
             "colorbar": {
              "outlinewidth": 0,
              "ticks": ""
             }
            },
            "type": "scatterpolar"
           }
          ],
          "scatterpolargl": [
           {
            "marker": {
             "colorbar": {
              "outlinewidth": 0,
              "ticks": ""
             }
            },
            "type": "scatterpolargl"
           }
          ],
          "scatterternary": [
           {
            "marker": {
             "colorbar": {
              "outlinewidth": 0,
              "ticks": ""
             }
            },
            "type": "scatterternary"
           }
          ],
          "surface": [
           {
            "colorbar": {
             "outlinewidth": 0,
             "ticks": ""
            },
            "colorscale": [
             [
              0,
              "#0d0887"
             ],
             [
              0.1111111111111111,
              "#46039f"
             ],
             [
              0.2222222222222222,
              "#7201a8"
             ],
             [
              0.3333333333333333,
              "#9c179e"
             ],
             [
              0.4444444444444444,
              "#bd3786"
             ],
             [
              0.5555555555555556,
              "#d8576b"
             ],
             [
              0.6666666666666666,
              "#ed7953"
             ],
             [
              0.7777777777777778,
              "#fb9f3a"
             ],
             [
              0.8888888888888888,
              "#fdca26"
             ],
             [
              1,
              "#f0f921"
             ]
            ],
            "type": "surface"
           }
          ],
          "table": [
           {
            "cells": {
             "fill": {
              "color": "#EBF0F8"
             },
             "line": {
              "color": "white"
             }
            },
            "header": {
             "fill": {
              "color": "#C8D4E3"
             },
             "line": {
              "color": "white"
             }
            },
            "type": "table"
           }
          ]
         },
         "layout": {
          "annotationdefaults": {
           "arrowcolor": "#2a3f5f",
           "arrowhead": 0,
           "arrowwidth": 1
          },
          "autotypenumbers": "strict",
          "coloraxis": {
           "colorbar": {
            "outlinewidth": 0,
            "ticks": ""
           }
          },
          "colorscale": {
           "diverging": [
            [
             0,
             "#8e0152"
            ],
            [
             0.1,
             "#c51b7d"
            ],
            [
             0.2,
             "#de77ae"
            ],
            [
             0.3,
             "#f1b6da"
            ],
            [
             0.4,
             "#fde0ef"
            ],
            [
             0.5,
             "#f7f7f7"
            ],
            [
             0.6,
             "#e6f5d0"
            ],
            [
             0.7,
             "#b8e186"
            ],
            [
             0.8,
             "#7fbc41"
            ],
            [
             0.9,
             "#4d9221"
            ],
            [
             1,
             "#276419"
            ]
           ],
           "sequential": [
            [
             0,
             "#0d0887"
            ],
            [
             0.1111111111111111,
             "#46039f"
            ],
            [
             0.2222222222222222,
             "#7201a8"
            ],
            [
             0.3333333333333333,
             "#9c179e"
            ],
            [
             0.4444444444444444,
             "#bd3786"
            ],
            [
             0.5555555555555556,
             "#d8576b"
            ],
            [
             0.6666666666666666,
             "#ed7953"
            ],
            [
             0.7777777777777778,
             "#fb9f3a"
            ],
            [
             0.8888888888888888,
             "#fdca26"
            ],
            [
             1,
             "#f0f921"
            ]
           ],
           "sequentialminus": [
            [
             0,
             "#0d0887"
            ],
            [
             0.1111111111111111,
             "#46039f"
            ],
            [
             0.2222222222222222,
             "#7201a8"
            ],
            [
             0.3333333333333333,
             "#9c179e"
            ],
            [
             0.4444444444444444,
             "#bd3786"
            ],
            [
             0.5555555555555556,
             "#d8576b"
            ],
            [
             0.6666666666666666,
             "#ed7953"
            ],
            [
             0.7777777777777778,
             "#fb9f3a"
            ],
            [
             0.8888888888888888,
             "#fdca26"
            ],
            [
             1,
             "#f0f921"
            ]
           ]
          },
          "colorway": [
           "#636efa",
           "#EF553B",
           "#00cc96",
           "#ab63fa",
           "#FFA15A",
           "#19d3f3",
           "#FF6692",
           "#B6E880",
           "#FF97FF",
           "#FECB52"
          ],
          "font": {
           "color": "#2a3f5f"
          },
          "geo": {
           "bgcolor": "white",
           "lakecolor": "white",
           "landcolor": "#E5ECF6",
           "showlakes": true,
           "showland": true,
           "subunitcolor": "white"
          },
          "hoverlabel": {
           "align": "left"
          },
          "hovermode": "closest",
          "mapbox": {
           "style": "light"
          },
          "paper_bgcolor": "white",
          "plot_bgcolor": "#E5ECF6",
          "polar": {
           "angularaxis": {
            "gridcolor": "white",
            "linecolor": "white",
            "ticks": ""
           },
           "bgcolor": "#E5ECF6",
           "radialaxis": {
            "gridcolor": "white",
            "linecolor": "white",
            "ticks": ""
           }
          },
          "scene": {
           "xaxis": {
            "backgroundcolor": "#E5ECF6",
            "gridcolor": "white",
            "gridwidth": 2,
            "linecolor": "white",
            "showbackground": true,
            "ticks": "",
            "zerolinecolor": "white"
           },
           "yaxis": {
            "backgroundcolor": "#E5ECF6",
            "gridcolor": "white",
            "gridwidth": 2,
            "linecolor": "white",
            "showbackground": true,
            "ticks": "",
            "zerolinecolor": "white"
           },
           "zaxis": {
            "backgroundcolor": "#E5ECF6",
            "gridcolor": "white",
            "gridwidth": 2,
            "linecolor": "white",
            "showbackground": true,
            "ticks": "",
            "zerolinecolor": "white"
           }
          },
          "shapedefaults": {
           "line": {
            "color": "#2a3f5f"
           }
          },
          "ternary": {
           "aaxis": {
            "gridcolor": "white",
            "linecolor": "white",
            "ticks": ""
           },
           "baxis": {
            "gridcolor": "white",
            "linecolor": "white",
            "ticks": ""
           },
           "bgcolor": "#E5ECF6",
           "caxis": {
            "gridcolor": "white",
            "linecolor": "white",
            "ticks": ""
           }
          },
          "title": {
           "x": 0.05
          },
          "xaxis": {
           "automargin": true,
           "gridcolor": "white",
           "linecolor": "white",
           "ticks": "",
           "title": {
            "standoff": 15
           },
           "zerolinecolor": "white",
           "zerolinewidth": 2
          },
          "yaxis": {
           "automargin": true,
           "gridcolor": "white",
           "linecolor": "white",
           "ticks": "",
           "title": {
            "standoff": 15
           },
           "zerolinecolor": "white",
           "zerolinewidth": 2
          }
         }
        },
        "title": {
         "text": "Temperatura - Padova"
        },
        "width": 1000,
        "xaxis": {
         "tickangle": 45,
         "title": {
          "text": "Data/Ora"
         }
        },
        "yaxis": {
         "title": {
          "text": "Temperatura (°C)"
         }
        }
       }
      },
      "text/html": [
       "<div>                            <div id=\"6633119d-78f0-4bfb-b2de-b6f73c368890\" class=\"plotly-graph-div\" style=\"height:500px; width:1000px;\"></div>            <script type=\"text/javascript\">                require([\"plotly\"], function(Plotly) {                    window.PLOTLYENV=window.PLOTLYENV || {};                                    if (document.getElementById(\"6633119d-78f0-4bfb-b2de-b6f73c368890\")) {                    Plotly.newPlot(                        \"6633119d-78f0-4bfb-b2de-b6f73c368890\",                        [{\"line\":{\"color\":\"red\",\"width\":3},\"marker\":{\"color\":\"red\",\"size\":6},\"mode\":\"lines+markers\",\"name\":\"Temperatura\",\"x\":[\"2025-07-10T00:00\",\"2025-07-10T01:00\",\"2025-07-10T02:00\",\"2025-07-10T03:00\",\"2025-07-10T04:00\",\"2025-07-10T05:00\",\"2025-07-10T06:00\",\"2025-07-10T07:00\",\"2025-07-10T08:00\",\"2025-07-10T09:00\",\"2025-07-10T10:00\",\"2025-07-10T11:00\",\"2025-07-10T12:00\",\"2025-07-10T13:00\",\"2025-07-10T14:00\",\"2025-07-10T15:00\",\"2025-07-10T16:00\",\"2025-07-10T17:00\",\"2025-07-10T18:00\",\"2025-07-10T19:00\",\"2025-07-10T20:00\",\"2025-07-10T21:00\",\"2025-07-10T22:00\",\"2025-07-10T23:00\",\"2025-07-11T00:00\",\"2025-07-11T01:00\",\"2025-07-11T02:00\",\"2025-07-11T03:00\",\"2025-07-11T04:00\",\"2025-07-11T05:00\",\"2025-07-11T06:00\",\"2025-07-11T07:00\",\"2025-07-11T08:00\",\"2025-07-11T09:00\",\"2025-07-11T10:00\",\"2025-07-11T11:00\",\"2025-07-11T12:00\",\"2025-07-11T13:00\",\"2025-07-11T14:00\",\"2025-07-11T15:00\",\"2025-07-11T16:00\",\"2025-07-11T17:00\",\"2025-07-11T18:00\",\"2025-07-11T19:00\",\"2025-07-11T20:00\",\"2025-07-11T21:00\",\"2025-07-11T22:00\",\"2025-07-11T23:00\",\"2025-07-12T00:00\",\"2025-07-12T01:00\",\"2025-07-12T02:00\",\"2025-07-12T03:00\",\"2025-07-12T04:00\",\"2025-07-12T05:00\",\"2025-07-12T06:00\",\"2025-07-12T07:00\",\"2025-07-12T08:00\",\"2025-07-12T09:00\",\"2025-07-12T10:00\",\"2025-07-12T11:00\",\"2025-07-12T12:00\",\"2025-07-12T13:00\",\"2025-07-12T14:00\",\"2025-07-12T15:00\",\"2025-07-12T16:00\",\"2025-07-12T17:00\",\"2025-07-12T18:00\",\"2025-07-12T19:00\",\"2025-07-12T20:00\",\"2025-07-12T21:00\",\"2025-07-12T22:00\",\"2025-07-12T23:00\",\"2025-07-13T00:00\",\"2025-07-13T01:00\",\"2025-07-13T02:00\",\"2025-07-13T03:00\",\"2025-07-13T04:00\",\"2025-07-13T05:00\",\"2025-07-13T06:00\",\"2025-07-13T07:00\",\"2025-07-13T08:00\",\"2025-07-13T09:00\",\"2025-07-13T10:00\",\"2025-07-13T11:00\",\"2025-07-13T12:00\",\"2025-07-13T13:00\",\"2025-07-13T14:00\",\"2025-07-13T15:00\",\"2025-07-13T16:00\",\"2025-07-13T17:00\",\"2025-07-13T18:00\",\"2025-07-13T19:00\",\"2025-07-13T20:00\",\"2025-07-13T21:00\",\"2025-07-13T22:00\",\"2025-07-13T23:00\",\"2025-07-14T00:00\",\"2025-07-14T01:00\",\"2025-07-14T02:00\",\"2025-07-14T03:00\",\"2025-07-14T04:00\",\"2025-07-14T05:00\",\"2025-07-14T06:00\",\"2025-07-14T07:00\",\"2025-07-14T08:00\",\"2025-07-14T09:00\",\"2025-07-14T10:00\",\"2025-07-14T11:00\",\"2025-07-14T12:00\",\"2025-07-14T13:00\",\"2025-07-14T14:00\",\"2025-07-14T15:00\",\"2025-07-14T16:00\",\"2025-07-14T17:00\",\"2025-07-14T18:00\",\"2025-07-14T19:00\",\"2025-07-14T20:00\",\"2025-07-14T21:00\",\"2025-07-14T22:00\",\"2025-07-14T23:00\",\"2025-07-15T00:00\",\"2025-07-15T01:00\",\"2025-07-15T02:00\",\"2025-07-15T03:00\",\"2025-07-15T04:00\",\"2025-07-15T05:00\",\"2025-07-15T06:00\",\"2025-07-15T07:00\",\"2025-07-15T08:00\",\"2025-07-15T09:00\",\"2025-07-15T10:00\",\"2025-07-15T11:00\",\"2025-07-15T12:00\",\"2025-07-15T13:00\",\"2025-07-15T14:00\",\"2025-07-15T15:00\",\"2025-07-15T16:00\",\"2025-07-15T17:00\",\"2025-07-15T18:00\",\"2025-07-15T19:00\",\"2025-07-15T20:00\",\"2025-07-15T21:00\",\"2025-07-15T22:00\",\"2025-07-15T23:00\",\"2025-07-16T00:00\",\"2025-07-16T01:00\",\"2025-07-16T02:00\",\"2025-07-16T03:00\",\"2025-07-16T04:00\",\"2025-07-16T05:00\",\"2025-07-16T06:00\",\"2025-07-16T07:00\",\"2025-07-16T08:00\",\"2025-07-16T09:00\",\"2025-07-16T10:00\",\"2025-07-16T11:00\",\"2025-07-16T12:00\",\"2025-07-16T13:00\",\"2025-07-16T14:00\",\"2025-07-16T15:00\",\"2025-07-16T16:00\",\"2025-07-16T17:00\",\"2025-07-16T18:00\",\"2025-07-16T19:00\",\"2025-07-16T20:00\",\"2025-07-16T21:00\",\"2025-07-16T22:00\",\"2025-07-16T23:00\"],\"y\":[19.4,18.7,18.1,17.5,17.1,17.2,18.5,20.5,22.5,24.9,26.2,27.0,28.1,28.7,28.6,28.4,28.4,28.0,27.1,24.7,22.7,21.3,20.5,20.4,19.9,19.2,18.9,18.8,18.7,18.8,20.0,21.7,23.7,25.8,26.8,27.4,28.4,29.0,28.8,29.2,28.6,26.3,25.5,24.7,21.6,20.5,19.9,19.6,19.4,19.3,19.2,19.1,19.1,19.5,20.7,22.1,23.3,24.7,25.5,25.7,26.9,27.9,28.3,29.0,27.4,26.5,25.6,24.6,23.5,22.8,21.5,20.7,20.2,19.9,19.7,19.6,19.8,20.1,20.6,21.5,23.3,25.1,26.7,27.7,28.3,29.1,29.2,27.9,27.5,26.1,24.5,23.4,22.3,21.5,20.9,20.5,20.2,20.0,19.9,20.0,20.4,20.9,21.5,22.1,22.8,23.5,24.1,24.8,25.3,25.7,26.0,26.1,26.0,25.7,25.3,24.6,23.7,22.9,22.3,21.8,21.4,20.8,20.4,20.1,20.1,20.4,21.3,23.2,25.7,27.9,29.5,30.8,31.7,32.4,32.7,32.6,32.4,31.8,30.9,29.2,27.2,25.6,24.7,24.3,23.7,22.8,21.9,21.3,21.3,21.5,22.1,22.9,24.0,25.2,26.6,28.1,29.3,29.8,29.9,29.8,29.4,28.9,28.0,26.7,25.2,23.9,23.1,22.6],\"type\":\"scatter\"}],                        {\"template\":{\"data\":{\"histogram2dcontour\":[{\"type\":\"histogram2dcontour\",\"colorbar\":{\"outlinewidth\":0,\"ticks\":\"\"},\"colorscale\":[[0.0,\"#0d0887\"],[0.1111111111111111,\"#46039f\"],[0.2222222222222222,\"#7201a8\"],[0.3333333333333333,\"#9c179e\"],[0.4444444444444444,\"#bd3786\"],[0.5555555555555556,\"#d8576b\"],[0.6666666666666666,\"#ed7953\"],[0.7777777777777778,\"#fb9f3a\"],[0.8888888888888888,\"#fdca26\"],[1.0,\"#f0f921\"]]}],\"choropleth\":[{\"type\":\"choropleth\",\"colorbar\":{\"outlinewidth\":0,\"ticks\":\"\"}}],\"histogram2d\":[{\"type\":\"histogram2d\",\"colorbar\":{\"outlinewidth\":0,\"ticks\":\"\"},\"colorscale\":[[0.0,\"#0d0887\"],[0.1111111111111111,\"#46039f\"],[0.2222222222222222,\"#7201a8\"],[0.3333333333333333,\"#9c179e\"],[0.4444444444444444,\"#bd3786\"],[0.5555555555555556,\"#d8576b\"],[0.6666666666666666,\"#ed7953\"],[0.7777777777777778,\"#fb9f3a\"],[0.8888888888888888,\"#fdca26\"],[1.0,\"#f0f921\"]]}],\"heatmap\":[{\"type\":\"heatmap\",\"colorbar\":{\"outlinewidth\":0,\"ticks\":\"\"},\"colorscale\":[[0.0,\"#0d0887\"],[0.1111111111111111,\"#46039f\"],[0.2222222222222222,\"#7201a8\"],[0.3333333333333333,\"#9c179e\"],[0.4444444444444444,\"#bd3786\"],[0.5555555555555556,\"#d8576b\"],[0.6666666666666666,\"#ed7953\"],[0.7777777777777778,\"#fb9f3a\"],[0.8888888888888888,\"#fdca26\"],[1.0,\"#f0f921\"]]}],\"heatmapgl\":[{\"type\":\"heatmapgl\",\"colorbar\":{\"outlinewidth\":0,\"ticks\":\"\"},\"colorscale\":[[0.0,\"#0d0887\"],[0.1111111111111111,\"#46039f\"],[0.2222222222222222,\"#7201a8\"],[0.3333333333333333,\"#9c179e\"],[0.4444444444444444,\"#bd3786\"],[0.5555555555555556,\"#d8576b\"],[0.6666666666666666,\"#ed7953\"],[0.7777777777777778,\"#fb9f3a\"],[0.8888888888888888,\"#fdca26\"],[1.0,\"#f0f921\"]]}],\"contourcarpet\":[{\"type\":\"contourcarpet\",\"colorbar\":{\"outlinewidth\":0,\"ticks\":\"\"}}],\"contour\":[{\"type\":\"contour\",\"colorbar\":{\"outlinewidth\":0,\"ticks\":\"\"},\"colorscale\":[[0.0,\"#0d0887\"],[0.1111111111111111,\"#46039f\"],[0.2222222222222222,\"#7201a8\"],[0.3333333333333333,\"#9c179e\"],[0.4444444444444444,\"#bd3786\"],[0.5555555555555556,\"#d8576b\"],[0.6666666666666666,\"#ed7953\"],[0.7777777777777778,\"#fb9f3a\"],[0.8888888888888888,\"#fdca26\"],[1.0,\"#f0f921\"]]}],\"surface\":[{\"type\":\"surface\",\"colorbar\":{\"outlinewidth\":0,\"ticks\":\"\"},\"colorscale\":[[0.0,\"#0d0887\"],[0.1111111111111111,\"#46039f\"],[0.2222222222222222,\"#7201a8\"],[0.3333333333333333,\"#9c179e\"],[0.4444444444444444,\"#bd3786\"],[0.5555555555555556,\"#d8576b\"],[0.6666666666666666,\"#ed7953\"],[0.7777777777777778,\"#fb9f3a\"],[0.8888888888888888,\"#fdca26\"],[1.0,\"#f0f921\"]]}],\"mesh3d\":[{\"type\":\"mesh3d\",\"colorbar\":{\"outlinewidth\":0,\"ticks\":\"\"}}],\"scatter\":[{\"fillpattern\":{\"fillmode\":\"overlay\",\"size\":10,\"solidity\":0.2},\"type\":\"scatter\"}],\"parcoords\":[{\"type\":\"parcoords\",\"line\":{\"colorbar\":{\"outlinewidth\":0,\"ticks\":\"\"}}}],\"scatterpolargl\":[{\"type\":\"scatterpolargl\",\"marker\":{\"colorbar\":{\"outlinewidth\":0,\"ticks\":\"\"}}}],\"bar\":[{\"error_x\":{\"color\":\"#2a3f5f\"},\"error_y\":{\"color\":\"#2a3f5f\"},\"marker\":{\"line\":{\"color\":\"#E5ECF6\",\"width\":0.5},\"pattern\":{\"fillmode\":\"overlay\",\"size\":10,\"solidity\":0.2}},\"type\":\"bar\"}],\"scattergeo\":[{\"type\":\"scattergeo\",\"marker\":{\"colorbar\":{\"outlinewidth\":0,\"ticks\":\"\"}}}],\"scatterpolar\":[{\"type\":\"scatterpolar\",\"marker\":{\"colorbar\":{\"outlinewidth\":0,\"ticks\":\"\"}}}],\"histogram\":[{\"marker\":{\"pattern\":{\"fillmode\":\"overlay\",\"size\":10,\"solidity\":0.2}},\"type\":\"histogram\"}],\"scattergl\":[{\"type\":\"scattergl\",\"marker\":{\"colorbar\":{\"outlinewidth\":0,\"ticks\":\"\"}}}],\"scatter3d\":[{\"type\":\"scatter3d\",\"line\":{\"colorbar\":{\"outlinewidth\":0,\"ticks\":\"\"}},\"marker\":{\"colorbar\":{\"outlinewidth\":0,\"ticks\":\"\"}}}],\"scattermapbox\":[{\"type\":\"scattermapbox\",\"marker\":{\"colorbar\":{\"outlinewidth\":0,\"ticks\":\"\"}}}],\"scatterternary\":[{\"type\":\"scatterternary\",\"marker\":{\"colorbar\":{\"outlinewidth\":0,\"ticks\":\"\"}}}],\"scattercarpet\":[{\"type\":\"scattercarpet\",\"marker\":{\"colorbar\":{\"outlinewidth\":0,\"ticks\":\"\"}}}],\"carpet\":[{\"aaxis\":{\"endlinecolor\":\"#2a3f5f\",\"gridcolor\":\"white\",\"linecolor\":\"white\",\"minorgridcolor\":\"white\",\"startlinecolor\":\"#2a3f5f\"},\"baxis\":{\"endlinecolor\":\"#2a3f5f\",\"gridcolor\":\"white\",\"linecolor\":\"white\",\"minorgridcolor\":\"white\",\"startlinecolor\":\"#2a3f5f\"},\"type\":\"carpet\"}],\"table\":[{\"cells\":{\"fill\":{\"color\":\"#EBF0F8\"},\"line\":{\"color\":\"white\"}},\"header\":{\"fill\":{\"color\":\"#C8D4E3\"},\"line\":{\"color\":\"white\"}},\"type\":\"table\"}],\"barpolar\":[{\"marker\":{\"line\":{\"color\":\"#E5ECF6\",\"width\":0.5},\"pattern\":{\"fillmode\":\"overlay\",\"size\":10,\"solidity\":0.2}},\"type\":\"barpolar\"}],\"pie\":[{\"automargin\":true,\"type\":\"pie\"}]},\"layout\":{\"autotypenumbers\":\"strict\",\"colorway\":[\"#636efa\",\"#EF553B\",\"#00cc96\",\"#ab63fa\",\"#FFA15A\",\"#19d3f3\",\"#FF6692\",\"#B6E880\",\"#FF97FF\",\"#FECB52\"],\"font\":{\"color\":\"#2a3f5f\"},\"hovermode\":\"closest\",\"hoverlabel\":{\"align\":\"left\"},\"paper_bgcolor\":\"white\",\"plot_bgcolor\":\"#E5ECF6\",\"polar\":{\"bgcolor\":\"#E5ECF6\",\"angularaxis\":{\"gridcolor\":\"white\",\"linecolor\":\"white\",\"ticks\":\"\"},\"radialaxis\":{\"gridcolor\":\"white\",\"linecolor\":\"white\",\"ticks\":\"\"}},\"ternary\":{\"bgcolor\":\"#E5ECF6\",\"aaxis\":{\"gridcolor\":\"white\",\"linecolor\":\"white\",\"ticks\":\"\"},\"baxis\":{\"gridcolor\":\"white\",\"linecolor\":\"white\",\"ticks\":\"\"},\"caxis\":{\"gridcolor\":\"white\",\"linecolor\":\"white\",\"ticks\":\"\"}},\"coloraxis\":{\"colorbar\":{\"outlinewidth\":0,\"ticks\":\"\"}},\"colorscale\":{\"sequential\":[[0.0,\"#0d0887\"],[0.1111111111111111,\"#46039f\"],[0.2222222222222222,\"#7201a8\"],[0.3333333333333333,\"#9c179e\"],[0.4444444444444444,\"#bd3786\"],[0.5555555555555556,\"#d8576b\"],[0.6666666666666666,\"#ed7953\"],[0.7777777777777778,\"#fb9f3a\"],[0.8888888888888888,\"#fdca26\"],[1.0,\"#f0f921\"]],\"sequentialminus\":[[0.0,\"#0d0887\"],[0.1111111111111111,\"#46039f\"],[0.2222222222222222,\"#7201a8\"],[0.3333333333333333,\"#9c179e\"],[0.4444444444444444,\"#bd3786\"],[0.5555555555555556,\"#d8576b\"],[0.6666666666666666,\"#ed7953\"],[0.7777777777777778,\"#fb9f3a\"],[0.8888888888888888,\"#fdca26\"],[1.0,\"#f0f921\"]],\"diverging\":[[0,\"#8e0152\"],[0.1,\"#c51b7d\"],[0.2,\"#de77ae\"],[0.3,\"#f1b6da\"],[0.4,\"#fde0ef\"],[0.5,\"#f7f7f7\"],[0.6,\"#e6f5d0\"],[0.7,\"#b8e186\"],[0.8,\"#7fbc41\"],[0.9,\"#4d9221\"],[1,\"#276419\"]]},\"xaxis\":{\"gridcolor\":\"white\",\"linecolor\":\"white\",\"ticks\":\"\",\"title\":{\"standoff\":15},\"zerolinecolor\":\"white\",\"automargin\":true,\"zerolinewidth\":2},\"yaxis\":{\"gridcolor\":\"white\",\"linecolor\":\"white\",\"ticks\":\"\",\"title\":{\"standoff\":15},\"zerolinecolor\":\"white\",\"automargin\":true,\"zerolinewidth\":2},\"scene\":{\"xaxis\":{\"backgroundcolor\":\"#E5ECF6\",\"gridcolor\":\"white\",\"linecolor\":\"white\",\"showbackground\":true,\"ticks\":\"\",\"zerolinecolor\":\"white\",\"gridwidth\":2},\"yaxis\":{\"backgroundcolor\":\"#E5ECF6\",\"gridcolor\":\"white\",\"linecolor\":\"white\",\"showbackground\":true,\"ticks\":\"\",\"zerolinecolor\":\"white\",\"gridwidth\":2},\"zaxis\":{\"backgroundcolor\":\"#E5ECF6\",\"gridcolor\":\"white\",\"linecolor\":\"white\",\"showbackground\":true,\"ticks\":\"\",\"zerolinecolor\":\"white\",\"gridwidth\":2}},\"shapedefaults\":{\"line\":{\"color\":\"#2a3f5f\"}},\"annotationdefaults\":{\"arrowcolor\":\"#2a3f5f\",\"arrowhead\":0,\"arrowwidth\":1},\"geo\":{\"bgcolor\":\"white\",\"landcolor\":\"#E5ECF6\",\"subunitcolor\":\"white\",\"showland\":true,\"showlakes\":true,\"lakecolor\":\"white\"},\"title\":{\"x\":0.05},\"mapbox\":{\"style\":\"light\"}}},\"font\":{\"size\":12},\"title\":{\"text\":\"Temperatura - Padova\"},\"xaxis\":{\"title\":{\"text\":\"Data\\u002fOra\"},\"tickangle\":45},\"yaxis\":{\"title\":{\"text\":\"Temperatura (\\u00b0C)\"}},\"height\":500,\"width\":1000},                        {\"responsive\": true}                    ).then(function(){\n",
       "                            \n",
       "var gd = document.getElementById('6633119d-78f0-4bfb-b2de-b6f73c368890');\n",
       "var x = new MutationObserver(function (mutations, observer) {{\n",
       "        var display = window.getComputedStyle(gd).display;\n",
       "        if (!display || display === 'none') {{\n",
       "            console.log([gd, 'removed!']);\n",
       "            Plotly.purge(gd);\n",
       "            observer.disconnect();\n",
       "        }}\n",
       "}});\n",
       "\n",
       "// Listen for the removal of the full notebook cells\n",
       "var notebookContainer = gd.closest('#notebook-container');\n",
       "if (notebookContainer) {{\n",
       "    x.observe(notebookContainer, {childList: true});\n",
       "}}\n",
       "\n",
       "// Listen for the clearing of the current output cell\n",
       "var outputEl = gd.closest('.output');\n",
       "if (outputEl) {{\n",
       "    x.observe(outputEl, {childList: true});\n",
       "}}\n",
       "\n",
       "                        })                };                });            </script>        </div>"
      ]
     },
     "metadata": {},
     "output_type": "display_data"
    },
    {
     "data": {
      "application/vnd.plotly.v1+json": {
       "config": {
        "plotlyServerURL": "https://plot.ly"
       },
       "data": [
        {
         "fill": "tonexty",
         "fillcolor": "rgba(0,100,255,0.3)",
         "line": {
          "color": "blue",
          "width": 2
         },
         "mode": "lines",
         "name": "Umidità",
         "type": "scatter",
         "x": [
          "2025-07-10T00:00",
          "2025-07-10T01:00",
          "2025-07-10T02:00",
          "2025-07-10T03:00",
          "2025-07-10T04:00",
          "2025-07-10T05:00",
          "2025-07-10T06:00",
          "2025-07-10T07:00",
          "2025-07-10T08:00",
          "2025-07-10T09:00",
          "2025-07-10T10:00",
          "2025-07-10T11:00",
          "2025-07-10T12:00",
          "2025-07-10T13:00",
          "2025-07-10T14:00",
          "2025-07-10T15:00",
          "2025-07-10T16:00",
          "2025-07-10T17:00",
          "2025-07-10T18:00",
          "2025-07-10T19:00",
          "2025-07-10T20:00",
          "2025-07-10T21:00",
          "2025-07-10T22:00",
          "2025-07-10T23:00",
          "2025-07-11T00:00",
          "2025-07-11T01:00",
          "2025-07-11T02:00",
          "2025-07-11T03:00",
          "2025-07-11T04:00",
          "2025-07-11T05:00",
          "2025-07-11T06:00",
          "2025-07-11T07:00",
          "2025-07-11T08:00",
          "2025-07-11T09:00",
          "2025-07-11T10:00",
          "2025-07-11T11:00",
          "2025-07-11T12:00",
          "2025-07-11T13:00",
          "2025-07-11T14:00",
          "2025-07-11T15:00",
          "2025-07-11T16:00",
          "2025-07-11T17:00",
          "2025-07-11T18:00",
          "2025-07-11T19:00",
          "2025-07-11T20:00",
          "2025-07-11T21:00",
          "2025-07-11T22:00",
          "2025-07-11T23:00",
          "2025-07-12T00:00",
          "2025-07-12T01:00",
          "2025-07-12T02:00",
          "2025-07-12T03:00",
          "2025-07-12T04:00",
          "2025-07-12T05:00",
          "2025-07-12T06:00",
          "2025-07-12T07:00",
          "2025-07-12T08:00",
          "2025-07-12T09:00",
          "2025-07-12T10:00",
          "2025-07-12T11:00",
          "2025-07-12T12:00",
          "2025-07-12T13:00",
          "2025-07-12T14:00",
          "2025-07-12T15:00",
          "2025-07-12T16:00",
          "2025-07-12T17:00",
          "2025-07-12T18:00",
          "2025-07-12T19:00",
          "2025-07-12T20:00",
          "2025-07-12T21:00",
          "2025-07-12T22:00",
          "2025-07-12T23:00",
          "2025-07-13T00:00",
          "2025-07-13T01:00",
          "2025-07-13T02:00",
          "2025-07-13T03:00",
          "2025-07-13T04:00",
          "2025-07-13T05:00",
          "2025-07-13T06:00",
          "2025-07-13T07:00",
          "2025-07-13T08:00",
          "2025-07-13T09:00",
          "2025-07-13T10:00",
          "2025-07-13T11:00",
          "2025-07-13T12:00",
          "2025-07-13T13:00",
          "2025-07-13T14:00",
          "2025-07-13T15:00",
          "2025-07-13T16:00",
          "2025-07-13T17:00",
          "2025-07-13T18:00",
          "2025-07-13T19:00",
          "2025-07-13T20:00",
          "2025-07-13T21:00",
          "2025-07-13T22:00",
          "2025-07-13T23:00",
          "2025-07-14T00:00",
          "2025-07-14T01:00",
          "2025-07-14T02:00",
          "2025-07-14T03:00",
          "2025-07-14T04:00",
          "2025-07-14T05:00",
          "2025-07-14T06:00",
          "2025-07-14T07:00",
          "2025-07-14T08:00",
          "2025-07-14T09:00",
          "2025-07-14T10:00",
          "2025-07-14T11:00",
          "2025-07-14T12:00",
          "2025-07-14T13:00",
          "2025-07-14T14:00",
          "2025-07-14T15:00",
          "2025-07-14T16:00",
          "2025-07-14T17:00",
          "2025-07-14T18:00",
          "2025-07-14T19:00",
          "2025-07-14T20:00",
          "2025-07-14T21:00",
          "2025-07-14T22:00",
          "2025-07-14T23:00",
          "2025-07-15T00:00",
          "2025-07-15T01:00",
          "2025-07-15T02:00",
          "2025-07-15T03:00",
          "2025-07-15T04:00",
          "2025-07-15T05:00",
          "2025-07-15T06:00",
          "2025-07-15T07:00",
          "2025-07-15T08:00",
          "2025-07-15T09:00",
          "2025-07-15T10:00",
          "2025-07-15T11:00",
          "2025-07-15T12:00",
          "2025-07-15T13:00",
          "2025-07-15T14:00",
          "2025-07-15T15:00",
          "2025-07-15T16:00",
          "2025-07-15T17:00",
          "2025-07-15T18:00",
          "2025-07-15T19:00",
          "2025-07-15T20:00",
          "2025-07-15T21:00",
          "2025-07-15T22:00",
          "2025-07-15T23:00",
          "2025-07-16T00:00",
          "2025-07-16T01:00",
          "2025-07-16T02:00",
          "2025-07-16T03:00",
          "2025-07-16T04:00",
          "2025-07-16T05:00",
          "2025-07-16T06:00",
          "2025-07-16T07:00",
          "2025-07-16T08:00",
          "2025-07-16T09:00",
          "2025-07-16T10:00",
          "2025-07-16T11:00",
          "2025-07-16T12:00",
          "2025-07-16T13:00",
          "2025-07-16T14:00",
          "2025-07-16T15:00",
          "2025-07-16T16:00",
          "2025-07-16T17:00",
          "2025-07-16T18:00",
          "2025-07-16T19:00",
          "2025-07-16T20:00",
          "2025-07-16T21:00",
          "2025-07-16T22:00",
          "2025-07-16T23:00"
         ],
         "y": [
          64,
          71,
          76,
          75,
          77,
          80,
          75,
          65,
          57,
          45,
          40,
          34,
          28,
          26,
          28,
          27,
          28,
          27,
          33,
          50,
          54,
          57,
          61,
          63,
          66,
          70,
          77,
          78,
          77,
          77,
          73,
          66,
          57,
          46,
          42,
          40,
          37,
          33,
          32,
          29,
          33,
          53,
          52,
          60,
          61,
          71,
          75,
          71,
          71,
          76,
          79,
          81,
          82,
          80,
          73,
          66,
          60,
          57,
          58,
          62,
          60,
          56,
          54,
          48,
          52,
          61,
          64,
          70,
          78,
          80,
          81,
          82,
          84,
          85,
          85,
          86,
          83,
          83,
          82,
          81,
          75,
          66,
          58,
          52,
          51,
          48,
          46,
          58,
          60,
          67,
          80,
          85,
          88,
          91,
          92,
          92,
          92,
          93,
          94,
          94,
          93,
          90,
          88,
          86,
          84,
          82,
          81,
          79,
          78,
          76,
          75,
          74,
          74,
          76,
          78,
          82,
          87,
          91,
          93,
          95,
          96,
          97,
          98,
          99,
          100,
          100,
          97,
          88,
          76,
          65,
          56,
          48,
          43,
          39,
          38,
          37,
          37,
          39,
          41,
          45,
          50,
          55,
          58,
          59,
          62,
          67,
          72,
          77,
          80,
          83,
          83,
          79,
          73,
          67,
          61,
          54,
          49,
          46,
          45,
          44,
          44,
          44,
          47,
          53,
          62,
          69,
          73,
          75
         ]
        }
       ],
       "layout": {
        "font": {
         "size": 12
        },
        "height": 500,
        "template": {
         "data": {
          "bar": [
           {
            "error_x": {
             "color": "#2a3f5f"
            },
            "error_y": {
             "color": "#2a3f5f"
            },
            "marker": {
             "line": {
              "color": "#E5ECF6",
              "width": 0.5
             },
             "pattern": {
              "fillmode": "overlay",
              "size": 10,
              "solidity": 0.2
             }
            },
            "type": "bar"
           }
          ],
          "barpolar": [
           {
            "marker": {
             "line": {
              "color": "#E5ECF6",
              "width": 0.5
             },
             "pattern": {
              "fillmode": "overlay",
              "size": 10,
              "solidity": 0.2
             }
            },
            "type": "barpolar"
           }
          ],
          "carpet": [
           {
            "aaxis": {
             "endlinecolor": "#2a3f5f",
             "gridcolor": "white",
             "linecolor": "white",
             "minorgridcolor": "white",
             "startlinecolor": "#2a3f5f"
            },
            "baxis": {
             "endlinecolor": "#2a3f5f",
             "gridcolor": "white",
             "linecolor": "white",
             "minorgridcolor": "white",
             "startlinecolor": "#2a3f5f"
            },
            "type": "carpet"
           }
          ],
          "choropleth": [
           {
            "colorbar": {
             "outlinewidth": 0,
             "ticks": ""
            },
            "type": "choropleth"
           }
          ],
          "contour": [
           {
            "colorbar": {
             "outlinewidth": 0,
             "ticks": ""
            },
            "colorscale": [
             [
              0,
              "#0d0887"
             ],
             [
              0.1111111111111111,
              "#46039f"
             ],
             [
              0.2222222222222222,
              "#7201a8"
             ],
             [
              0.3333333333333333,
              "#9c179e"
             ],
             [
              0.4444444444444444,
              "#bd3786"
             ],
             [
              0.5555555555555556,
              "#d8576b"
             ],
             [
              0.6666666666666666,
              "#ed7953"
             ],
             [
              0.7777777777777778,
              "#fb9f3a"
             ],
             [
              0.8888888888888888,
              "#fdca26"
             ],
             [
              1,
              "#f0f921"
             ]
            ],
            "type": "contour"
           }
          ],
          "contourcarpet": [
           {
            "colorbar": {
             "outlinewidth": 0,
             "ticks": ""
            },
            "type": "contourcarpet"
           }
          ],
          "heatmap": [
           {
            "colorbar": {
             "outlinewidth": 0,
             "ticks": ""
            },
            "colorscale": [
             [
              0,
              "#0d0887"
             ],
             [
              0.1111111111111111,
              "#46039f"
             ],
             [
              0.2222222222222222,
              "#7201a8"
             ],
             [
              0.3333333333333333,
              "#9c179e"
             ],
             [
              0.4444444444444444,
              "#bd3786"
             ],
             [
              0.5555555555555556,
              "#d8576b"
             ],
             [
              0.6666666666666666,
              "#ed7953"
             ],
             [
              0.7777777777777778,
              "#fb9f3a"
             ],
             [
              0.8888888888888888,
              "#fdca26"
             ],
             [
              1,
              "#f0f921"
             ]
            ],
            "type": "heatmap"
           }
          ],
          "heatmapgl": [
           {
            "colorbar": {
             "outlinewidth": 0,
             "ticks": ""
            },
            "colorscale": [
             [
              0,
              "#0d0887"
             ],
             [
              0.1111111111111111,
              "#46039f"
             ],
             [
              0.2222222222222222,
              "#7201a8"
             ],
             [
              0.3333333333333333,
              "#9c179e"
             ],
             [
              0.4444444444444444,
              "#bd3786"
             ],
             [
              0.5555555555555556,
              "#d8576b"
             ],
             [
              0.6666666666666666,
              "#ed7953"
             ],
             [
              0.7777777777777778,
              "#fb9f3a"
             ],
             [
              0.8888888888888888,
              "#fdca26"
             ],
             [
              1,
              "#f0f921"
             ]
            ],
            "type": "heatmapgl"
           }
          ],
          "histogram": [
           {
            "marker": {
             "pattern": {
              "fillmode": "overlay",
              "size": 10,
              "solidity": 0.2
             }
            },
            "type": "histogram"
           }
          ],
          "histogram2d": [
           {
            "colorbar": {
             "outlinewidth": 0,
             "ticks": ""
            },
            "colorscale": [
             [
              0,
              "#0d0887"
             ],
             [
              0.1111111111111111,
              "#46039f"
             ],
             [
              0.2222222222222222,
              "#7201a8"
             ],
             [
              0.3333333333333333,
              "#9c179e"
             ],
             [
              0.4444444444444444,
              "#bd3786"
             ],
             [
              0.5555555555555556,
              "#d8576b"
             ],
             [
              0.6666666666666666,
              "#ed7953"
             ],
             [
              0.7777777777777778,
              "#fb9f3a"
             ],
             [
              0.8888888888888888,
              "#fdca26"
             ],
             [
              1,
              "#f0f921"
             ]
            ],
            "type": "histogram2d"
           }
          ],
          "histogram2dcontour": [
           {
            "colorbar": {
             "outlinewidth": 0,
             "ticks": ""
            },
            "colorscale": [
             [
              0,
              "#0d0887"
             ],
             [
              0.1111111111111111,
              "#46039f"
             ],
             [
              0.2222222222222222,
              "#7201a8"
             ],
             [
              0.3333333333333333,
              "#9c179e"
             ],
             [
              0.4444444444444444,
              "#bd3786"
             ],
             [
              0.5555555555555556,
              "#d8576b"
             ],
             [
              0.6666666666666666,
              "#ed7953"
             ],
             [
              0.7777777777777778,
              "#fb9f3a"
             ],
             [
              0.8888888888888888,
              "#fdca26"
             ],
             [
              1,
              "#f0f921"
             ]
            ],
            "type": "histogram2dcontour"
           }
          ],
          "mesh3d": [
           {
            "colorbar": {
             "outlinewidth": 0,
             "ticks": ""
            },
            "type": "mesh3d"
           }
          ],
          "parcoords": [
           {
            "line": {
             "colorbar": {
              "outlinewidth": 0,
              "ticks": ""
             }
            },
            "type": "parcoords"
           }
          ],
          "pie": [
           {
            "automargin": true,
            "type": "pie"
           }
          ],
          "scatter": [
           {
            "fillpattern": {
             "fillmode": "overlay",
             "size": 10,
             "solidity": 0.2
            },
            "type": "scatter"
           }
          ],
          "scatter3d": [
           {
            "line": {
             "colorbar": {
              "outlinewidth": 0,
              "ticks": ""
             }
            },
            "marker": {
             "colorbar": {
              "outlinewidth": 0,
              "ticks": ""
             }
            },
            "type": "scatter3d"
           }
          ],
          "scattercarpet": [
           {
            "marker": {
             "colorbar": {
              "outlinewidth": 0,
              "ticks": ""
             }
            },
            "type": "scattercarpet"
           }
          ],
          "scattergeo": [
           {
            "marker": {
             "colorbar": {
              "outlinewidth": 0,
              "ticks": ""
             }
            },
            "type": "scattergeo"
           }
          ],
          "scattergl": [
           {
            "marker": {
             "colorbar": {
              "outlinewidth": 0,
              "ticks": ""
             }
            },
            "type": "scattergl"
           }
          ],
          "scattermapbox": [
           {
            "marker": {
             "colorbar": {
              "outlinewidth": 0,
              "ticks": ""
             }
            },
            "type": "scattermapbox"
           }
          ],
          "scatterpolar": [
           {
            "marker": {
             "colorbar": {
              "outlinewidth": 0,
              "ticks": ""
             }
            },
            "type": "scatterpolar"
           }
          ],
          "scatterpolargl": [
           {
            "marker": {
             "colorbar": {
              "outlinewidth": 0,
              "ticks": ""
             }
            },
            "type": "scatterpolargl"
           }
          ],
          "scatterternary": [
           {
            "marker": {
             "colorbar": {
              "outlinewidth": 0,
              "ticks": ""
             }
            },
            "type": "scatterternary"
           }
          ],
          "surface": [
           {
            "colorbar": {
             "outlinewidth": 0,
             "ticks": ""
            },
            "colorscale": [
             [
              0,
              "#0d0887"
             ],
             [
              0.1111111111111111,
              "#46039f"
             ],
             [
              0.2222222222222222,
              "#7201a8"
             ],
             [
              0.3333333333333333,
              "#9c179e"
             ],
             [
              0.4444444444444444,
              "#bd3786"
             ],
             [
              0.5555555555555556,
              "#d8576b"
             ],
             [
              0.6666666666666666,
              "#ed7953"
             ],
             [
              0.7777777777777778,
              "#fb9f3a"
             ],
             [
              0.8888888888888888,
              "#fdca26"
             ],
             [
              1,
              "#f0f921"
             ]
            ],
            "type": "surface"
           }
          ],
          "table": [
           {
            "cells": {
             "fill": {
              "color": "#EBF0F8"
             },
             "line": {
              "color": "white"
             }
            },
            "header": {
             "fill": {
              "color": "#C8D4E3"
             },
             "line": {
              "color": "white"
             }
            },
            "type": "table"
           }
          ]
         },
         "layout": {
          "annotationdefaults": {
           "arrowcolor": "#2a3f5f",
           "arrowhead": 0,
           "arrowwidth": 1
          },
          "autotypenumbers": "strict",
          "coloraxis": {
           "colorbar": {
            "outlinewidth": 0,
            "ticks": ""
           }
          },
          "colorscale": {
           "diverging": [
            [
             0,
             "#8e0152"
            ],
            [
             0.1,
             "#c51b7d"
            ],
            [
             0.2,
             "#de77ae"
            ],
            [
             0.3,
             "#f1b6da"
            ],
            [
             0.4,
             "#fde0ef"
            ],
            [
             0.5,
             "#f7f7f7"
            ],
            [
             0.6,
             "#e6f5d0"
            ],
            [
             0.7,
             "#b8e186"
            ],
            [
             0.8,
             "#7fbc41"
            ],
            [
             0.9,
             "#4d9221"
            ],
            [
             1,
             "#276419"
            ]
           ],
           "sequential": [
            [
             0,
             "#0d0887"
            ],
            [
             0.1111111111111111,
             "#46039f"
            ],
            [
             0.2222222222222222,
             "#7201a8"
            ],
            [
             0.3333333333333333,
             "#9c179e"
            ],
            [
             0.4444444444444444,
             "#bd3786"
            ],
            [
             0.5555555555555556,
             "#d8576b"
            ],
            [
             0.6666666666666666,
             "#ed7953"
            ],
            [
             0.7777777777777778,
             "#fb9f3a"
            ],
            [
             0.8888888888888888,
             "#fdca26"
            ],
            [
             1,
             "#f0f921"
            ]
           ],
           "sequentialminus": [
            [
             0,
             "#0d0887"
            ],
            [
             0.1111111111111111,
             "#46039f"
            ],
            [
             0.2222222222222222,
             "#7201a8"
            ],
            [
             0.3333333333333333,
             "#9c179e"
            ],
            [
             0.4444444444444444,
             "#bd3786"
            ],
            [
             0.5555555555555556,
             "#d8576b"
            ],
            [
             0.6666666666666666,
             "#ed7953"
            ],
            [
             0.7777777777777778,
             "#fb9f3a"
            ],
            [
             0.8888888888888888,
             "#fdca26"
            ],
            [
             1,
             "#f0f921"
            ]
           ]
          },
          "colorway": [
           "#636efa",
           "#EF553B",
           "#00cc96",
           "#ab63fa",
           "#FFA15A",
           "#19d3f3",
           "#FF6692",
           "#B6E880",
           "#FF97FF",
           "#FECB52"
          ],
          "font": {
           "color": "#2a3f5f"
          },
          "geo": {
           "bgcolor": "white",
           "lakecolor": "white",
           "landcolor": "#E5ECF6",
           "showlakes": true,
           "showland": true,
           "subunitcolor": "white"
          },
          "hoverlabel": {
           "align": "left"
          },
          "hovermode": "closest",
          "mapbox": {
           "style": "light"
          },
          "paper_bgcolor": "white",
          "plot_bgcolor": "#E5ECF6",
          "polar": {
           "angularaxis": {
            "gridcolor": "white",
            "linecolor": "white",
            "ticks": ""
           },
           "bgcolor": "#E5ECF6",
           "radialaxis": {
            "gridcolor": "white",
            "linecolor": "white",
            "ticks": ""
           }
          },
          "scene": {
           "xaxis": {
            "backgroundcolor": "#E5ECF6",
            "gridcolor": "white",
            "gridwidth": 2,
            "linecolor": "white",
            "showbackground": true,
            "ticks": "",
            "zerolinecolor": "white"
           },
           "yaxis": {
            "backgroundcolor": "#E5ECF6",
            "gridcolor": "white",
            "gridwidth": 2,
            "linecolor": "white",
            "showbackground": true,
            "ticks": "",
            "zerolinecolor": "white"
           },
           "zaxis": {
            "backgroundcolor": "#E5ECF6",
            "gridcolor": "white",
            "gridwidth": 2,
            "linecolor": "white",
            "showbackground": true,
            "ticks": "",
            "zerolinecolor": "white"
           }
          },
          "shapedefaults": {
           "line": {
            "color": "#2a3f5f"
           }
          },
          "ternary": {
           "aaxis": {
            "gridcolor": "white",
            "linecolor": "white",
            "ticks": ""
           },
           "baxis": {
            "gridcolor": "white",
            "linecolor": "white",
            "ticks": ""
           },
           "bgcolor": "#E5ECF6",
           "caxis": {
            "gridcolor": "white",
            "linecolor": "white",
            "ticks": ""
           }
          },
          "title": {
           "x": 0.05
          },
          "xaxis": {
           "automargin": true,
           "gridcolor": "white",
           "linecolor": "white",
           "ticks": "",
           "title": {
            "standoff": 15
           },
           "zerolinecolor": "white",
           "zerolinewidth": 2
          },
          "yaxis": {
           "automargin": true,
           "gridcolor": "white",
           "linecolor": "white",
           "ticks": "",
           "title": {
            "standoff": 15
           },
           "zerolinecolor": "white",
           "zerolinewidth": 2
          }
         }
        },
        "title": {
         "text": "Umidità Relativa - Padova"
        },
        "width": 1000,
        "xaxis": {
         "tickangle": 45,
         "title": {
          "text": "Data/Ora"
         }
        },
        "yaxis": {
         "title": {
          "text": "Umidità (%)"
         }
        }
       }
      },
      "text/html": [
       "<div>                            <div id=\"9254a119-5c77-458f-9067-e78460c31be4\" class=\"plotly-graph-div\" style=\"height:500px; width:1000px;\"></div>            <script type=\"text/javascript\">                require([\"plotly\"], function(Plotly) {                    window.PLOTLYENV=window.PLOTLYENV || {};                                    if (document.getElementById(\"9254a119-5c77-458f-9067-e78460c31be4\")) {                    Plotly.newPlot(                        \"9254a119-5c77-458f-9067-e78460c31be4\",                        [{\"fill\":\"tonexty\",\"fillcolor\":\"rgba(0,100,255,0.3)\",\"line\":{\"color\":\"blue\",\"width\":2},\"mode\":\"lines\",\"name\":\"Umidit\\u00e0\",\"x\":[\"2025-07-10T00:00\",\"2025-07-10T01:00\",\"2025-07-10T02:00\",\"2025-07-10T03:00\",\"2025-07-10T04:00\",\"2025-07-10T05:00\",\"2025-07-10T06:00\",\"2025-07-10T07:00\",\"2025-07-10T08:00\",\"2025-07-10T09:00\",\"2025-07-10T10:00\",\"2025-07-10T11:00\",\"2025-07-10T12:00\",\"2025-07-10T13:00\",\"2025-07-10T14:00\",\"2025-07-10T15:00\",\"2025-07-10T16:00\",\"2025-07-10T17:00\",\"2025-07-10T18:00\",\"2025-07-10T19:00\",\"2025-07-10T20:00\",\"2025-07-10T21:00\",\"2025-07-10T22:00\",\"2025-07-10T23:00\",\"2025-07-11T00:00\",\"2025-07-11T01:00\",\"2025-07-11T02:00\",\"2025-07-11T03:00\",\"2025-07-11T04:00\",\"2025-07-11T05:00\",\"2025-07-11T06:00\",\"2025-07-11T07:00\",\"2025-07-11T08:00\",\"2025-07-11T09:00\",\"2025-07-11T10:00\",\"2025-07-11T11:00\",\"2025-07-11T12:00\",\"2025-07-11T13:00\",\"2025-07-11T14:00\",\"2025-07-11T15:00\",\"2025-07-11T16:00\",\"2025-07-11T17:00\",\"2025-07-11T18:00\",\"2025-07-11T19:00\",\"2025-07-11T20:00\",\"2025-07-11T21:00\",\"2025-07-11T22:00\",\"2025-07-11T23:00\",\"2025-07-12T00:00\",\"2025-07-12T01:00\",\"2025-07-12T02:00\",\"2025-07-12T03:00\",\"2025-07-12T04:00\",\"2025-07-12T05:00\",\"2025-07-12T06:00\",\"2025-07-12T07:00\",\"2025-07-12T08:00\",\"2025-07-12T09:00\",\"2025-07-12T10:00\",\"2025-07-12T11:00\",\"2025-07-12T12:00\",\"2025-07-12T13:00\",\"2025-07-12T14:00\",\"2025-07-12T15:00\",\"2025-07-12T16:00\",\"2025-07-12T17:00\",\"2025-07-12T18:00\",\"2025-07-12T19:00\",\"2025-07-12T20:00\",\"2025-07-12T21:00\",\"2025-07-12T22:00\",\"2025-07-12T23:00\",\"2025-07-13T00:00\",\"2025-07-13T01:00\",\"2025-07-13T02:00\",\"2025-07-13T03:00\",\"2025-07-13T04:00\",\"2025-07-13T05:00\",\"2025-07-13T06:00\",\"2025-07-13T07:00\",\"2025-07-13T08:00\",\"2025-07-13T09:00\",\"2025-07-13T10:00\",\"2025-07-13T11:00\",\"2025-07-13T12:00\",\"2025-07-13T13:00\",\"2025-07-13T14:00\",\"2025-07-13T15:00\",\"2025-07-13T16:00\",\"2025-07-13T17:00\",\"2025-07-13T18:00\",\"2025-07-13T19:00\",\"2025-07-13T20:00\",\"2025-07-13T21:00\",\"2025-07-13T22:00\",\"2025-07-13T23:00\",\"2025-07-14T00:00\",\"2025-07-14T01:00\",\"2025-07-14T02:00\",\"2025-07-14T03:00\",\"2025-07-14T04:00\",\"2025-07-14T05:00\",\"2025-07-14T06:00\",\"2025-07-14T07:00\",\"2025-07-14T08:00\",\"2025-07-14T09:00\",\"2025-07-14T10:00\",\"2025-07-14T11:00\",\"2025-07-14T12:00\",\"2025-07-14T13:00\",\"2025-07-14T14:00\",\"2025-07-14T15:00\",\"2025-07-14T16:00\",\"2025-07-14T17:00\",\"2025-07-14T18:00\",\"2025-07-14T19:00\",\"2025-07-14T20:00\",\"2025-07-14T21:00\",\"2025-07-14T22:00\",\"2025-07-14T23:00\",\"2025-07-15T00:00\",\"2025-07-15T01:00\",\"2025-07-15T02:00\",\"2025-07-15T03:00\",\"2025-07-15T04:00\",\"2025-07-15T05:00\",\"2025-07-15T06:00\",\"2025-07-15T07:00\",\"2025-07-15T08:00\",\"2025-07-15T09:00\",\"2025-07-15T10:00\",\"2025-07-15T11:00\",\"2025-07-15T12:00\",\"2025-07-15T13:00\",\"2025-07-15T14:00\",\"2025-07-15T15:00\",\"2025-07-15T16:00\",\"2025-07-15T17:00\",\"2025-07-15T18:00\",\"2025-07-15T19:00\",\"2025-07-15T20:00\",\"2025-07-15T21:00\",\"2025-07-15T22:00\",\"2025-07-15T23:00\",\"2025-07-16T00:00\",\"2025-07-16T01:00\",\"2025-07-16T02:00\",\"2025-07-16T03:00\",\"2025-07-16T04:00\",\"2025-07-16T05:00\",\"2025-07-16T06:00\",\"2025-07-16T07:00\",\"2025-07-16T08:00\",\"2025-07-16T09:00\",\"2025-07-16T10:00\",\"2025-07-16T11:00\",\"2025-07-16T12:00\",\"2025-07-16T13:00\",\"2025-07-16T14:00\",\"2025-07-16T15:00\",\"2025-07-16T16:00\",\"2025-07-16T17:00\",\"2025-07-16T18:00\",\"2025-07-16T19:00\",\"2025-07-16T20:00\",\"2025-07-16T21:00\",\"2025-07-16T22:00\",\"2025-07-16T23:00\"],\"y\":[64,71,76,75,77,80,75,65,57,45,40,34,28,26,28,27,28,27,33,50,54,57,61,63,66,70,77,78,77,77,73,66,57,46,42,40,37,33,32,29,33,53,52,60,61,71,75,71,71,76,79,81,82,80,73,66,60,57,58,62,60,56,54,48,52,61,64,70,78,80,81,82,84,85,85,86,83,83,82,81,75,66,58,52,51,48,46,58,60,67,80,85,88,91,92,92,92,93,94,94,93,90,88,86,84,82,81,79,78,76,75,74,74,76,78,82,87,91,93,95,96,97,98,99,100,100,97,88,76,65,56,48,43,39,38,37,37,39,41,45,50,55,58,59,62,67,72,77,80,83,83,79,73,67,61,54,49,46,45,44,44,44,47,53,62,69,73,75],\"type\":\"scatter\"}],                        {\"template\":{\"data\":{\"histogram2dcontour\":[{\"type\":\"histogram2dcontour\",\"colorbar\":{\"outlinewidth\":0,\"ticks\":\"\"},\"colorscale\":[[0.0,\"#0d0887\"],[0.1111111111111111,\"#46039f\"],[0.2222222222222222,\"#7201a8\"],[0.3333333333333333,\"#9c179e\"],[0.4444444444444444,\"#bd3786\"],[0.5555555555555556,\"#d8576b\"],[0.6666666666666666,\"#ed7953\"],[0.7777777777777778,\"#fb9f3a\"],[0.8888888888888888,\"#fdca26\"],[1.0,\"#f0f921\"]]}],\"choropleth\":[{\"type\":\"choropleth\",\"colorbar\":{\"outlinewidth\":0,\"ticks\":\"\"}}],\"histogram2d\":[{\"type\":\"histogram2d\",\"colorbar\":{\"outlinewidth\":0,\"ticks\":\"\"},\"colorscale\":[[0.0,\"#0d0887\"],[0.1111111111111111,\"#46039f\"],[0.2222222222222222,\"#7201a8\"],[0.3333333333333333,\"#9c179e\"],[0.4444444444444444,\"#bd3786\"],[0.5555555555555556,\"#d8576b\"],[0.6666666666666666,\"#ed7953\"],[0.7777777777777778,\"#fb9f3a\"],[0.8888888888888888,\"#fdca26\"],[1.0,\"#f0f921\"]]}],\"heatmap\":[{\"type\":\"heatmap\",\"colorbar\":{\"outlinewidth\":0,\"ticks\":\"\"},\"colorscale\":[[0.0,\"#0d0887\"],[0.1111111111111111,\"#46039f\"],[0.2222222222222222,\"#7201a8\"],[0.3333333333333333,\"#9c179e\"],[0.4444444444444444,\"#bd3786\"],[0.5555555555555556,\"#d8576b\"],[0.6666666666666666,\"#ed7953\"],[0.7777777777777778,\"#fb9f3a\"],[0.8888888888888888,\"#fdca26\"],[1.0,\"#f0f921\"]]}],\"heatmapgl\":[{\"type\":\"heatmapgl\",\"colorbar\":{\"outlinewidth\":0,\"ticks\":\"\"},\"colorscale\":[[0.0,\"#0d0887\"],[0.1111111111111111,\"#46039f\"],[0.2222222222222222,\"#7201a8\"],[0.3333333333333333,\"#9c179e\"],[0.4444444444444444,\"#bd3786\"],[0.5555555555555556,\"#d8576b\"],[0.6666666666666666,\"#ed7953\"],[0.7777777777777778,\"#fb9f3a\"],[0.8888888888888888,\"#fdca26\"],[1.0,\"#f0f921\"]]}],\"contourcarpet\":[{\"type\":\"contourcarpet\",\"colorbar\":{\"outlinewidth\":0,\"ticks\":\"\"}}],\"contour\":[{\"type\":\"contour\",\"colorbar\":{\"outlinewidth\":0,\"ticks\":\"\"},\"colorscale\":[[0.0,\"#0d0887\"],[0.1111111111111111,\"#46039f\"],[0.2222222222222222,\"#7201a8\"],[0.3333333333333333,\"#9c179e\"],[0.4444444444444444,\"#bd3786\"],[0.5555555555555556,\"#d8576b\"],[0.6666666666666666,\"#ed7953\"],[0.7777777777777778,\"#fb9f3a\"],[0.8888888888888888,\"#fdca26\"],[1.0,\"#f0f921\"]]}],\"surface\":[{\"type\":\"surface\",\"colorbar\":{\"outlinewidth\":0,\"ticks\":\"\"},\"colorscale\":[[0.0,\"#0d0887\"],[0.1111111111111111,\"#46039f\"],[0.2222222222222222,\"#7201a8\"],[0.3333333333333333,\"#9c179e\"],[0.4444444444444444,\"#bd3786\"],[0.5555555555555556,\"#d8576b\"],[0.6666666666666666,\"#ed7953\"],[0.7777777777777778,\"#fb9f3a\"],[0.8888888888888888,\"#fdca26\"],[1.0,\"#f0f921\"]]}],\"mesh3d\":[{\"type\":\"mesh3d\",\"colorbar\":{\"outlinewidth\":0,\"ticks\":\"\"}}],\"scatter\":[{\"fillpattern\":{\"fillmode\":\"overlay\",\"size\":10,\"solidity\":0.2},\"type\":\"scatter\"}],\"parcoords\":[{\"type\":\"parcoords\",\"line\":{\"colorbar\":{\"outlinewidth\":0,\"ticks\":\"\"}}}],\"scatterpolargl\":[{\"type\":\"scatterpolargl\",\"marker\":{\"colorbar\":{\"outlinewidth\":0,\"ticks\":\"\"}}}],\"bar\":[{\"error_x\":{\"color\":\"#2a3f5f\"},\"error_y\":{\"color\":\"#2a3f5f\"},\"marker\":{\"line\":{\"color\":\"#E5ECF6\",\"width\":0.5},\"pattern\":{\"fillmode\":\"overlay\",\"size\":10,\"solidity\":0.2}},\"type\":\"bar\"}],\"scattergeo\":[{\"type\":\"scattergeo\",\"marker\":{\"colorbar\":{\"outlinewidth\":0,\"ticks\":\"\"}}}],\"scatterpolar\":[{\"type\":\"scatterpolar\",\"marker\":{\"colorbar\":{\"outlinewidth\":0,\"ticks\":\"\"}}}],\"histogram\":[{\"marker\":{\"pattern\":{\"fillmode\":\"overlay\",\"size\":10,\"solidity\":0.2}},\"type\":\"histogram\"}],\"scattergl\":[{\"type\":\"scattergl\",\"marker\":{\"colorbar\":{\"outlinewidth\":0,\"ticks\":\"\"}}}],\"scatter3d\":[{\"type\":\"scatter3d\",\"line\":{\"colorbar\":{\"outlinewidth\":0,\"ticks\":\"\"}},\"marker\":{\"colorbar\":{\"outlinewidth\":0,\"ticks\":\"\"}}}],\"scattermapbox\":[{\"type\":\"scattermapbox\",\"marker\":{\"colorbar\":{\"outlinewidth\":0,\"ticks\":\"\"}}}],\"scatterternary\":[{\"type\":\"scatterternary\",\"marker\":{\"colorbar\":{\"outlinewidth\":0,\"ticks\":\"\"}}}],\"scattercarpet\":[{\"type\":\"scattercarpet\",\"marker\":{\"colorbar\":{\"outlinewidth\":0,\"ticks\":\"\"}}}],\"carpet\":[{\"aaxis\":{\"endlinecolor\":\"#2a3f5f\",\"gridcolor\":\"white\",\"linecolor\":\"white\",\"minorgridcolor\":\"white\",\"startlinecolor\":\"#2a3f5f\"},\"baxis\":{\"endlinecolor\":\"#2a3f5f\",\"gridcolor\":\"white\",\"linecolor\":\"white\",\"minorgridcolor\":\"white\",\"startlinecolor\":\"#2a3f5f\"},\"type\":\"carpet\"}],\"table\":[{\"cells\":{\"fill\":{\"color\":\"#EBF0F8\"},\"line\":{\"color\":\"white\"}},\"header\":{\"fill\":{\"color\":\"#C8D4E3\"},\"line\":{\"color\":\"white\"}},\"type\":\"table\"}],\"barpolar\":[{\"marker\":{\"line\":{\"color\":\"#E5ECF6\",\"width\":0.5},\"pattern\":{\"fillmode\":\"overlay\",\"size\":10,\"solidity\":0.2}},\"type\":\"barpolar\"}],\"pie\":[{\"automargin\":true,\"type\":\"pie\"}]},\"layout\":{\"autotypenumbers\":\"strict\",\"colorway\":[\"#636efa\",\"#EF553B\",\"#00cc96\",\"#ab63fa\",\"#FFA15A\",\"#19d3f3\",\"#FF6692\",\"#B6E880\",\"#FF97FF\",\"#FECB52\"],\"font\":{\"color\":\"#2a3f5f\"},\"hovermode\":\"closest\",\"hoverlabel\":{\"align\":\"left\"},\"paper_bgcolor\":\"white\",\"plot_bgcolor\":\"#E5ECF6\",\"polar\":{\"bgcolor\":\"#E5ECF6\",\"angularaxis\":{\"gridcolor\":\"white\",\"linecolor\":\"white\",\"ticks\":\"\"},\"radialaxis\":{\"gridcolor\":\"white\",\"linecolor\":\"white\",\"ticks\":\"\"}},\"ternary\":{\"bgcolor\":\"#E5ECF6\",\"aaxis\":{\"gridcolor\":\"white\",\"linecolor\":\"white\",\"ticks\":\"\"},\"baxis\":{\"gridcolor\":\"white\",\"linecolor\":\"white\",\"ticks\":\"\"},\"caxis\":{\"gridcolor\":\"white\",\"linecolor\":\"white\",\"ticks\":\"\"}},\"coloraxis\":{\"colorbar\":{\"outlinewidth\":0,\"ticks\":\"\"}},\"colorscale\":{\"sequential\":[[0.0,\"#0d0887\"],[0.1111111111111111,\"#46039f\"],[0.2222222222222222,\"#7201a8\"],[0.3333333333333333,\"#9c179e\"],[0.4444444444444444,\"#bd3786\"],[0.5555555555555556,\"#d8576b\"],[0.6666666666666666,\"#ed7953\"],[0.7777777777777778,\"#fb9f3a\"],[0.8888888888888888,\"#fdca26\"],[1.0,\"#f0f921\"]],\"sequentialminus\":[[0.0,\"#0d0887\"],[0.1111111111111111,\"#46039f\"],[0.2222222222222222,\"#7201a8\"],[0.3333333333333333,\"#9c179e\"],[0.4444444444444444,\"#bd3786\"],[0.5555555555555556,\"#d8576b\"],[0.6666666666666666,\"#ed7953\"],[0.7777777777777778,\"#fb9f3a\"],[0.8888888888888888,\"#fdca26\"],[1.0,\"#f0f921\"]],\"diverging\":[[0,\"#8e0152\"],[0.1,\"#c51b7d\"],[0.2,\"#de77ae\"],[0.3,\"#f1b6da\"],[0.4,\"#fde0ef\"],[0.5,\"#f7f7f7\"],[0.6,\"#e6f5d0\"],[0.7,\"#b8e186\"],[0.8,\"#7fbc41\"],[0.9,\"#4d9221\"],[1,\"#276419\"]]},\"xaxis\":{\"gridcolor\":\"white\",\"linecolor\":\"white\",\"ticks\":\"\",\"title\":{\"standoff\":15},\"zerolinecolor\":\"white\",\"automargin\":true,\"zerolinewidth\":2},\"yaxis\":{\"gridcolor\":\"white\",\"linecolor\":\"white\",\"ticks\":\"\",\"title\":{\"standoff\":15},\"zerolinecolor\":\"white\",\"automargin\":true,\"zerolinewidth\":2},\"scene\":{\"xaxis\":{\"backgroundcolor\":\"#E5ECF6\",\"gridcolor\":\"white\",\"linecolor\":\"white\",\"showbackground\":true,\"ticks\":\"\",\"zerolinecolor\":\"white\",\"gridwidth\":2},\"yaxis\":{\"backgroundcolor\":\"#E5ECF6\",\"gridcolor\":\"white\",\"linecolor\":\"white\",\"showbackground\":true,\"ticks\":\"\",\"zerolinecolor\":\"white\",\"gridwidth\":2},\"zaxis\":{\"backgroundcolor\":\"#E5ECF6\",\"gridcolor\":\"white\",\"linecolor\":\"white\",\"showbackground\":true,\"ticks\":\"\",\"zerolinecolor\":\"white\",\"gridwidth\":2}},\"shapedefaults\":{\"line\":{\"color\":\"#2a3f5f\"}},\"annotationdefaults\":{\"arrowcolor\":\"#2a3f5f\",\"arrowhead\":0,\"arrowwidth\":1},\"geo\":{\"bgcolor\":\"white\",\"landcolor\":\"#E5ECF6\",\"subunitcolor\":\"white\",\"showland\":true,\"showlakes\":true,\"lakecolor\":\"white\"},\"title\":{\"x\":0.05},\"mapbox\":{\"style\":\"light\"}}},\"font\":{\"size\":12},\"title\":{\"text\":\"Umidit\\u00e0 Relativa - Padova\"},\"xaxis\":{\"title\":{\"text\":\"Data\\u002fOra\"},\"tickangle\":45},\"yaxis\":{\"title\":{\"text\":\"Umidit\\u00e0 (%)\"}},\"height\":500,\"width\":1000},                        {\"responsive\": true}                    ).then(function(){\n",
       "                            \n",
       "var gd = document.getElementById('9254a119-5c77-458f-9067-e78460c31be4');\n",
       "var x = new MutationObserver(function (mutations, observer) {{\n",
       "        var display = window.getComputedStyle(gd).display;\n",
       "        if (!display || display === 'none') {{\n",
       "            console.log([gd, 'removed!']);\n",
       "            Plotly.purge(gd);\n",
       "            observer.disconnect();\n",
       "        }}\n",
       "}});\n",
       "\n",
       "// Listen for the removal of the full notebook cells\n",
       "var notebookContainer = gd.closest('#notebook-container');\n",
       "if (notebookContainer) {{\n",
       "    x.observe(notebookContainer, {childList: true});\n",
       "}}\n",
       "\n",
       "// Listen for the clearing of the current output cell\n",
       "var outputEl = gd.closest('.output');\n",
       "if (outputEl) {{\n",
       "    x.observe(outputEl, {childList: true});\n",
       "}}\n",
       "\n",
       "                        })                };                });            </script>        </div>"
      ]
     },
     "metadata": {},
     "output_type": "display_data"
    },
    {
     "data": {
      "application/vnd.plotly.v1+json": {
       "config": {
        "plotlyServerURL": "https://plot.ly"
       },
       "data": [
        {
         "line": {
          "color": "green",
          "width": 3
         },
         "marker": {
          "color": "green",
          "size": 6
         },
         "mode": "lines+markers",
         "name": "Punto di Rugiada",
         "type": "scatter",
         "x": [
          "2025-07-10T00:00",
          "2025-07-10T01:00",
          "2025-07-10T02:00",
          "2025-07-10T03:00",
          "2025-07-10T04:00",
          "2025-07-10T05:00",
          "2025-07-10T06:00",
          "2025-07-10T07:00",
          "2025-07-10T08:00",
          "2025-07-10T09:00",
          "2025-07-10T10:00",
          "2025-07-10T11:00",
          "2025-07-10T12:00",
          "2025-07-10T13:00",
          "2025-07-10T14:00",
          "2025-07-10T15:00",
          "2025-07-10T16:00",
          "2025-07-10T17:00",
          "2025-07-10T18:00",
          "2025-07-10T19:00",
          "2025-07-10T20:00",
          "2025-07-10T21:00",
          "2025-07-10T22:00",
          "2025-07-10T23:00",
          "2025-07-11T00:00",
          "2025-07-11T01:00",
          "2025-07-11T02:00",
          "2025-07-11T03:00",
          "2025-07-11T04:00",
          "2025-07-11T05:00",
          "2025-07-11T06:00",
          "2025-07-11T07:00",
          "2025-07-11T08:00",
          "2025-07-11T09:00",
          "2025-07-11T10:00",
          "2025-07-11T11:00",
          "2025-07-11T12:00",
          "2025-07-11T13:00",
          "2025-07-11T14:00",
          "2025-07-11T15:00",
          "2025-07-11T16:00",
          "2025-07-11T17:00",
          "2025-07-11T18:00",
          "2025-07-11T19:00",
          "2025-07-11T20:00",
          "2025-07-11T21:00",
          "2025-07-11T22:00",
          "2025-07-11T23:00",
          "2025-07-12T00:00",
          "2025-07-12T01:00",
          "2025-07-12T02:00",
          "2025-07-12T03:00",
          "2025-07-12T04:00",
          "2025-07-12T05:00",
          "2025-07-12T06:00",
          "2025-07-12T07:00",
          "2025-07-12T08:00",
          "2025-07-12T09:00",
          "2025-07-12T10:00",
          "2025-07-12T11:00",
          "2025-07-12T12:00",
          "2025-07-12T13:00",
          "2025-07-12T14:00",
          "2025-07-12T15:00",
          "2025-07-12T16:00",
          "2025-07-12T17:00",
          "2025-07-12T18:00",
          "2025-07-12T19:00",
          "2025-07-12T20:00",
          "2025-07-12T21:00",
          "2025-07-12T22:00",
          "2025-07-12T23:00",
          "2025-07-13T00:00",
          "2025-07-13T01:00",
          "2025-07-13T02:00",
          "2025-07-13T03:00",
          "2025-07-13T04:00",
          "2025-07-13T05:00",
          "2025-07-13T06:00",
          "2025-07-13T07:00",
          "2025-07-13T08:00",
          "2025-07-13T09:00",
          "2025-07-13T10:00",
          "2025-07-13T11:00",
          "2025-07-13T12:00",
          "2025-07-13T13:00",
          "2025-07-13T14:00",
          "2025-07-13T15:00",
          "2025-07-13T16:00",
          "2025-07-13T17:00",
          "2025-07-13T18:00",
          "2025-07-13T19:00",
          "2025-07-13T20:00",
          "2025-07-13T21:00",
          "2025-07-13T22:00",
          "2025-07-13T23:00",
          "2025-07-14T00:00",
          "2025-07-14T01:00",
          "2025-07-14T02:00",
          "2025-07-14T03:00",
          "2025-07-14T04:00",
          "2025-07-14T05:00",
          "2025-07-14T06:00",
          "2025-07-14T07:00",
          "2025-07-14T08:00",
          "2025-07-14T09:00",
          "2025-07-14T10:00",
          "2025-07-14T11:00",
          "2025-07-14T12:00",
          "2025-07-14T13:00",
          "2025-07-14T14:00",
          "2025-07-14T15:00",
          "2025-07-14T16:00",
          "2025-07-14T17:00",
          "2025-07-14T18:00",
          "2025-07-14T19:00",
          "2025-07-14T20:00",
          "2025-07-14T21:00",
          "2025-07-14T22:00",
          "2025-07-14T23:00",
          "2025-07-15T00:00",
          "2025-07-15T01:00",
          "2025-07-15T02:00",
          "2025-07-15T03:00",
          "2025-07-15T04:00",
          "2025-07-15T05:00",
          "2025-07-15T06:00",
          "2025-07-15T07:00",
          "2025-07-15T08:00",
          "2025-07-15T09:00",
          "2025-07-15T10:00",
          "2025-07-15T11:00",
          "2025-07-15T12:00",
          "2025-07-15T13:00",
          "2025-07-15T14:00",
          "2025-07-15T15:00",
          "2025-07-15T16:00",
          "2025-07-15T17:00",
          "2025-07-15T18:00",
          "2025-07-15T19:00",
          "2025-07-15T20:00",
          "2025-07-15T21:00",
          "2025-07-15T22:00",
          "2025-07-15T23:00",
          "2025-07-16T00:00",
          "2025-07-16T01:00",
          "2025-07-16T02:00",
          "2025-07-16T03:00",
          "2025-07-16T04:00",
          "2025-07-16T05:00",
          "2025-07-16T06:00",
          "2025-07-16T07:00",
          "2025-07-16T08:00",
          "2025-07-16T09:00",
          "2025-07-16T10:00",
          "2025-07-16T11:00",
          "2025-07-16T12:00",
          "2025-07-16T13:00",
          "2025-07-16T14:00",
          "2025-07-16T15:00",
          "2025-07-16T16:00",
          "2025-07-16T17:00",
          "2025-07-16T18:00",
          "2025-07-16T19:00",
          "2025-07-16T20:00",
          "2025-07-16T21:00",
          "2025-07-16T22:00",
          "2025-07-16T23:00"
         ],
         "y": [
          12.4,
          13.3,
          13.8,
          13.1,
          13,
          13.8,
          14,
          13.7,
          13.6,
          12.1,
          11.6,
          9.8,
          7.9,
          7.3,
          8.3,
          7.6,
          8.1,
          7.3,
          9.4,
          13.6,
          12.9,
          12.5,
          12.8,
          13.1,
          13.4,
          13.6,
          14.8,
          14.9,
          14.6,
          14.7,
          15.1,
          15.1,
          14.7,
          13.3,
          12.8,
          12.6,
          12.4,
          11.1,
          10.5,
          9.4,
          10.8,
          16,
          14.9,
          16.4,
          13.8,
          15.1,
          15.4,
          14.2,
          14,
          15,
          15.5,
          15.8,
          15.9,
          16,
          15.7,
          15.5,
          15.1,
          15.6,
          16.7,
          17.9,
          18.5,
          18.4,
          18.1,
          16.9,
          16.7,
          18.4,
          18.3,
          18.7,
          19.5,
          19.2,
          18.1,
          17.5,
          17.4,
          17.3,
          17.1,
          17.2,
          16.9,
          17.2,
          17.4,
          18.1,
          18.6,
          18.3,
          17.7,
          17,
          17.2,
          17,
          16.4,
          18.9,
          19,
          19.5,
          20.9,
          20.8,
          20.2,
          19.9,
          19.5,
          19.1,
          18.8,
          18.8,
          18.9,
          19,
          19.2,
          19.2,
          19.4,
          19.7,
          20,
          20.2,
          20.7,
          20.9,
          21.2,
          21.1,
          21.3,
          21.1,
          21,
          21.2,
          21.2,
          21.3,
          21.4,
          21.3,
          21.1,
          21,
          20.7,
          20.3,
          20.1,
          20,
          20.1,
          20.4,
          20.8,
          21.1,
          21.2,
          20.7,
          19.8,
          18.6,
          17.6,
          16.7,
          16.5,
          16,
          15.8,
          16.2,
          16.1,
          16.1,
          15.9,
          15.9,
          15.9,
          15.8,
          16,
          16.4,
          16.6,
          17.1,
          17.7,
          18.5,
          19.1,
          19,
          18.8,
          18.6,
          18.5,
          17.9,
          17.5,
          16.9,
          16.7,
          16.2,
          15.9,
          15.4,
          15.7,
          16.4,
          17.4,
          17.8,
          18,
          17.9
         ]
        }
       ],
       "layout": {
        "font": {
         "size": 12
        },
        "height": 500,
        "template": {
         "data": {
          "bar": [
           {
            "error_x": {
             "color": "#2a3f5f"
            },
            "error_y": {
             "color": "#2a3f5f"
            },
            "marker": {
             "line": {
              "color": "#E5ECF6",
              "width": 0.5
             },
             "pattern": {
              "fillmode": "overlay",
              "size": 10,
              "solidity": 0.2
             }
            },
            "type": "bar"
           }
          ],
          "barpolar": [
           {
            "marker": {
             "line": {
              "color": "#E5ECF6",
              "width": 0.5
             },
             "pattern": {
              "fillmode": "overlay",
              "size": 10,
              "solidity": 0.2
             }
            },
            "type": "barpolar"
           }
          ],
          "carpet": [
           {
            "aaxis": {
             "endlinecolor": "#2a3f5f",
             "gridcolor": "white",
             "linecolor": "white",
             "minorgridcolor": "white",
             "startlinecolor": "#2a3f5f"
            },
            "baxis": {
             "endlinecolor": "#2a3f5f",
             "gridcolor": "white",
             "linecolor": "white",
             "minorgridcolor": "white",
             "startlinecolor": "#2a3f5f"
            },
            "type": "carpet"
           }
          ],
          "choropleth": [
           {
            "colorbar": {
             "outlinewidth": 0,
             "ticks": ""
            },
            "type": "choropleth"
           }
          ],
          "contour": [
           {
            "colorbar": {
             "outlinewidth": 0,
             "ticks": ""
            },
            "colorscale": [
             [
              0,
              "#0d0887"
             ],
             [
              0.1111111111111111,
              "#46039f"
             ],
             [
              0.2222222222222222,
              "#7201a8"
             ],
             [
              0.3333333333333333,
              "#9c179e"
             ],
             [
              0.4444444444444444,
              "#bd3786"
             ],
             [
              0.5555555555555556,
              "#d8576b"
             ],
             [
              0.6666666666666666,
              "#ed7953"
             ],
             [
              0.7777777777777778,
              "#fb9f3a"
             ],
             [
              0.8888888888888888,
              "#fdca26"
             ],
             [
              1,
              "#f0f921"
             ]
            ],
            "type": "contour"
           }
          ],
          "contourcarpet": [
           {
            "colorbar": {
             "outlinewidth": 0,
             "ticks": ""
            },
            "type": "contourcarpet"
           }
          ],
          "heatmap": [
           {
            "colorbar": {
             "outlinewidth": 0,
             "ticks": ""
            },
            "colorscale": [
             [
              0,
              "#0d0887"
             ],
             [
              0.1111111111111111,
              "#46039f"
             ],
             [
              0.2222222222222222,
              "#7201a8"
             ],
             [
              0.3333333333333333,
              "#9c179e"
             ],
             [
              0.4444444444444444,
              "#bd3786"
             ],
             [
              0.5555555555555556,
              "#d8576b"
             ],
             [
              0.6666666666666666,
              "#ed7953"
             ],
             [
              0.7777777777777778,
              "#fb9f3a"
             ],
             [
              0.8888888888888888,
              "#fdca26"
             ],
             [
              1,
              "#f0f921"
             ]
            ],
            "type": "heatmap"
           }
          ],
          "heatmapgl": [
           {
            "colorbar": {
             "outlinewidth": 0,
             "ticks": ""
            },
            "colorscale": [
             [
              0,
              "#0d0887"
             ],
             [
              0.1111111111111111,
              "#46039f"
             ],
             [
              0.2222222222222222,
              "#7201a8"
             ],
             [
              0.3333333333333333,
              "#9c179e"
             ],
             [
              0.4444444444444444,
              "#bd3786"
             ],
             [
              0.5555555555555556,
              "#d8576b"
             ],
             [
              0.6666666666666666,
              "#ed7953"
             ],
             [
              0.7777777777777778,
              "#fb9f3a"
             ],
             [
              0.8888888888888888,
              "#fdca26"
             ],
             [
              1,
              "#f0f921"
             ]
            ],
            "type": "heatmapgl"
           }
          ],
          "histogram": [
           {
            "marker": {
             "pattern": {
              "fillmode": "overlay",
              "size": 10,
              "solidity": 0.2
             }
            },
            "type": "histogram"
           }
          ],
          "histogram2d": [
           {
            "colorbar": {
             "outlinewidth": 0,
             "ticks": ""
            },
            "colorscale": [
             [
              0,
              "#0d0887"
             ],
             [
              0.1111111111111111,
              "#46039f"
             ],
             [
              0.2222222222222222,
              "#7201a8"
             ],
             [
              0.3333333333333333,
              "#9c179e"
             ],
             [
              0.4444444444444444,
              "#bd3786"
             ],
             [
              0.5555555555555556,
              "#d8576b"
             ],
             [
              0.6666666666666666,
              "#ed7953"
             ],
             [
              0.7777777777777778,
              "#fb9f3a"
             ],
             [
              0.8888888888888888,
              "#fdca26"
             ],
             [
              1,
              "#f0f921"
             ]
            ],
            "type": "histogram2d"
           }
          ],
          "histogram2dcontour": [
           {
            "colorbar": {
             "outlinewidth": 0,
             "ticks": ""
            },
            "colorscale": [
             [
              0,
              "#0d0887"
             ],
             [
              0.1111111111111111,
              "#46039f"
             ],
             [
              0.2222222222222222,
              "#7201a8"
             ],
             [
              0.3333333333333333,
              "#9c179e"
             ],
             [
              0.4444444444444444,
              "#bd3786"
             ],
             [
              0.5555555555555556,
              "#d8576b"
             ],
             [
              0.6666666666666666,
              "#ed7953"
             ],
             [
              0.7777777777777778,
              "#fb9f3a"
             ],
             [
              0.8888888888888888,
              "#fdca26"
             ],
             [
              1,
              "#f0f921"
             ]
            ],
            "type": "histogram2dcontour"
           }
          ],
          "mesh3d": [
           {
            "colorbar": {
             "outlinewidth": 0,
             "ticks": ""
            },
            "type": "mesh3d"
           }
          ],
          "parcoords": [
           {
            "line": {
             "colorbar": {
              "outlinewidth": 0,
              "ticks": ""
             }
            },
            "type": "parcoords"
           }
          ],
          "pie": [
           {
            "automargin": true,
            "type": "pie"
           }
          ],
          "scatter": [
           {
            "fillpattern": {
             "fillmode": "overlay",
             "size": 10,
             "solidity": 0.2
            },
            "type": "scatter"
           }
          ],
          "scatter3d": [
           {
            "line": {
             "colorbar": {
              "outlinewidth": 0,
              "ticks": ""
             }
            },
            "marker": {
             "colorbar": {
              "outlinewidth": 0,
              "ticks": ""
             }
            },
            "type": "scatter3d"
           }
          ],
          "scattercarpet": [
           {
            "marker": {
             "colorbar": {
              "outlinewidth": 0,
              "ticks": ""
             }
            },
            "type": "scattercarpet"
           }
          ],
          "scattergeo": [
           {
            "marker": {
             "colorbar": {
              "outlinewidth": 0,
              "ticks": ""
             }
            },
            "type": "scattergeo"
           }
          ],
          "scattergl": [
           {
            "marker": {
             "colorbar": {
              "outlinewidth": 0,
              "ticks": ""
             }
            },
            "type": "scattergl"
           }
          ],
          "scattermapbox": [
           {
            "marker": {
             "colorbar": {
              "outlinewidth": 0,
              "ticks": ""
             }
            },
            "type": "scattermapbox"
           }
          ],
          "scatterpolar": [
           {
            "marker": {
             "colorbar": {
              "outlinewidth": 0,
              "ticks": ""
             }
            },
            "type": "scatterpolar"
           }
          ],
          "scatterpolargl": [
           {
            "marker": {
             "colorbar": {
              "outlinewidth": 0,
              "ticks": ""
             }
            },
            "type": "scatterpolargl"
           }
          ],
          "scatterternary": [
           {
            "marker": {
             "colorbar": {
              "outlinewidth": 0,
              "ticks": ""
             }
            },
            "type": "scatterternary"
           }
          ],
          "surface": [
           {
            "colorbar": {
             "outlinewidth": 0,
             "ticks": ""
            },
            "colorscale": [
             [
              0,
              "#0d0887"
             ],
             [
              0.1111111111111111,
              "#46039f"
             ],
             [
              0.2222222222222222,
              "#7201a8"
             ],
             [
              0.3333333333333333,
              "#9c179e"
             ],
             [
              0.4444444444444444,
              "#bd3786"
             ],
             [
              0.5555555555555556,
              "#d8576b"
             ],
             [
              0.6666666666666666,
              "#ed7953"
             ],
             [
              0.7777777777777778,
              "#fb9f3a"
             ],
             [
              0.8888888888888888,
              "#fdca26"
             ],
             [
              1,
              "#f0f921"
             ]
            ],
            "type": "surface"
           }
          ],
          "table": [
           {
            "cells": {
             "fill": {
              "color": "#EBF0F8"
             },
             "line": {
              "color": "white"
             }
            },
            "header": {
             "fill": {
              "color": "#C8D4E3"
             },
             "line": {
              "color": "white"
             }
            },
            "type": "table"
           }
          ]
         },
         "layout": {
          "annotationdefaults": {
           "arrowcolor": "#2a3f5f",
           "arrowhead": 0,
           "arrowwidth": 1
          },
          "autotypenumbers": "strict",
          "coloraxis": {
           "colorbar": {
            "outlinewidth": 0,
            "ticks": ""
           }
          },
          "colorscale": {
           "diverging": [
            [
             0,
             "#8e0152"
            ],
            [
             0.1,
             "#c51b7d"
            ],
            [
             0.2,
             "#de77ae"
            ],
            [
             0.3,
             "#f1b6da"
            ],
            [
             0.4,
             "#fde0ef"
            ],
            [
             0.5,
             "#f7f7f7"
            ],
            [
             0.6,
             "#e6f5d0"
            ],
            [
             0.7,
             "#b8e186"
            ],
            [
             0.8,
             "#7fbc41"
            ],
            [
             0.9,
             "#4d9221"
            ],
            [
             1,
             "#276419"
            ]
           ],
           "sequential": [
            [
             0,
             "#0d0887"
            ],
            [
             0.1111111111111111,
             "#46039f"
            ],
            [
             0.2222222222222222,
             "#7201a8"
            ],
            [
             0.3333333333333333,
             "#9c179e"
            ],
            [
             0.4444444444444444,
             "#bd3786"
            ],
            [
             0.5555555555555556,
             "#d8576b"
            ],
            [
             0.6666666666666666,
             "#ed7953"
            ],
            [
             0.7777777777777778,
             "#fb9f3a"
            ],
            [
             0.8888888888888888,
             "#fdca26"
            ],
            [
             1,
             "#f0f921"
            ]
           ],
           "sequentialminus": [
            [
             0,
             "#0d0887"
            ],
            [
             0.1111111111111111,
             "#46039f"
            ],
            [
             0.2222222222222222,
             "#7201a8"
            ],
            [
             0.3333333333333333,
             "#9c179e"
            ],
            [
             0.4444444444444444,
             "#bd3786"
            ],
            [
             0.5555555555555556,
             "#d8576b"
            ],
            [
             0.6666666666666666,
             "#ed7953"
            ],
            [
             0.7777777777777778,
             "#fb9f3a"
            ],
            [
             0.8888888888888888,
             "#fdca26"
            ],
            [
             1,
             "#f0f921"
            ]
           ]
          },
          "colorway": [
           "#636efa",
           "#EF553B",
           "#00cc96",
           "#ab63fa",
           "#FFA15A",
           "#19d3f3",
           "#FF6692",
           "#B6E880",
           "#FF97FF",
           "#FECB52"
          ],
          "font": {
           "color": "#2a3f5f"
          },
          "geo": {
           "bgcolor": "white",
           "lakecolor": "white",
           "landcolor": "#E5ECF6",
           "showlakes": true,
           "showland": true,
           "subunitcolor": "white"
          },
          "hoverlabel": {
           "align": "left"
          },
          "hovermode": "closest",
          "mapbox": {
           "style": "light"
          },
          "paper_bgcolor": "white",
          "plot_bgcolor": "#E5ECF6",
          "polar": {
           "angularaxis": {
            "gridcolor": "white",
            "linecolor": "white",
            "ticks": ""
           },
           "bgcolor": "#E5ECF6",
           "radialaxis": {
            "gridcolor": "white",
            "linecolor": "white",
            "ticks": ""
           }
          },
          "scene": {
           "xaxis": {
            "backgroundcolor": "#E5ECF6",
            "gridcolor": "white",
            "gridwidth": 2,
            "linecolor": "white",
            "showbackground": true,
            "ticks": "",
            "zerolinecolor": "white"
           },
           "yaxis": {
            "backgroundcolor": "#E5ECF6",
            "gridcolor": "white",
            "gridwidth": 2,
            "linecolor": "white",
            "showbackground": true,
            "ticks": "",
            "zerolinecolor": "white"
           },
           "zaxis": {
            "backgroundcolor": "#E5ECF6",
            "gridcolor": "white",
            "gridwidth": 2,
            "linecolor": "white",
            "showbackground": true,
            "ticks": "",
            "zerolinecolor": "white"
           }
          },
          "shapedefaults": {
           "line": {
            "color": "#2a3f5f"
           }
          },
          "ternary": {
           "aaxis": {
            "gridcolor": "white",
            "linecolor": "white",
            "ticks": ""
           },
           "baxis": {
            "gridcolor": "white",
            "linecolor": "white",
            "ticks": ""
           },
           "bgcolor": "#E5ECF6",
           "caxis": {
            "gridcolor": "white",
            "linecolor": "white",
            "ticks": ""
           }
          },
          "title": {
           "x": 0.05
          },
          "xaxis": {
           "automargin": true,
           "gridcolor": "white",
           "linecolor": "white",
           "ticks": "",
           "title": {
            "standoff": 15
           },
           "zerolinecolor": "white",
           "zerolinewidth": 2
          },
          "yaxis": {
           "automargin": true,
           "gridcolor": "white",
           "linecolor": "white",
           "ticks": "",
           "title": {
            "standoff": 15
           },
           "zerolinecolor": "white",
           "zerolinewidth": 2
          }
         }
        },
        "title": {
         "text": "Punto di Rugiada - Padova"
        },
        "width": 1000,
        "xaxis": {
         "tickangle": 45,
         "title": {
          "text": "Data/Ora"
         }
        },
        "yaxis": {
         "title": {
          "text": "Punto di Rugiada (°C)"
         }
        }
       }
      },
      "text/html": [
       "<div>                            <div id=\"1d3c1d0d-6f53-47a6-abc6-b45c0cfc7eae\" class=\"plotly-graph-div\" style=\"height:500px; width:1000px;\"></div>            <script type=\"text/javascript\">                require([\"plotly\"], function(Plotly) {                    window.PLOTLYENV=window.PLOTLYENV || {};                                    if (document.getElementById(\"1d3c1d0d-6f53-47a6-abc6-b45c0cfc7eae\")) {                    Plotly.newPlot(                        \"1d3c1d0d-6f53-47a6-abc6-b45c0cfc7eae\",                        [{\"line\":{\"color\":\"green\",\"width\":3},\"marker\":{\"color\":\"green\",\"size\":6},\"mode\":\"lines+markers\",\"name\":\"Punto di Rugiada\",\"x\":[\"2025-07-10T00:00\",\"2025-07-10T01:00\",\"2025-07-10T02:00\",\"2025-07-10T03:00\",\"2025-07-10T04:00\",\"2025-07-10T05:00\",\"2025-07-10T06:00\",\"2025-07-10T07:00\",\"2025-07-10T08:00\",\"2025-07-10T09:00\",\"2025-07-10T10:00\",\"2025-07-10T11:00\",\"2025-07-10T12:00\",\"2025-07-10T13:00\",\"2025-07-10T14:00\",\"2025-07-10T15:00\",\"2025-07-10T16:00\",\"2025-07-10T17:00\",\"2025-07-10T18:00\",\"2025-07-10T19:00\",\"2025-07-10T20:00\",\"2025-07-10T21:00\",\"2025-07-10T22:00\",\"2025-07-10T23:00\",\"2025-07-11T00:00\",\"2025-07-11T01:00\",\"2025-07-11T02:00\",\"2025-07-11T03:00\",\"2025-07-11T04:00\",\"2025-07-11T05:00\",\"2025-07-11T06:00\",\"2025-07-11T07:00\",\"2025-07-11T08:00\",\"2025-07-11T09:00\",\"2025-07-11T10:00\",\"2025-07-11T11:00\",\"2025-07-11T12:00\",\"2025-07-11T13:00\",\"2025-07-11T14:00\",\"2025-07-11T15:00\",\"2025-07-11T16:00\",\"2025-07-11T17:00\",\"2025-07-11T18:00\",\"2025-07-11T19:00\",\"2025-07-11T20:00\",\"2025-07-11T21:00\",\"2025-07-11T22:00\",\"2025-07-11T23:00\",\"2025-07-12T00:00\",\"2025-07-12T01:00\",\"2025-07-12T02:00\",\"2025-07-12T03:00\",\"2025-07-12T04:00\",\"2025-07-12T05:00\",\"2025-07-12T06:00\",\"2025-07-12T07:00\",\"2025-07-12T08:00\",\"2025-07-12T09:00\",\"2025-07-12T10:00\",\"2025-07-12T11:00\",\"2025-07-12T12:00\",\"2025-07-12T13:00\",\"2025-07-12T14:00\",\"2025-07-12T15:00\",\"2025-07-12T16:00\",\"2025-07-12T17:00\",\"2025-07-12T18:00\",\"2025-07-12T19:00\",\"2025-07-12T20:00\",\"2025-07-12T21:00\",\"2025-07-12T22:00\",\"2025-07-12T23:00\",\"2025-07-13T00:00\",\"2025-07-13T01:00\",\"2025-07-13T02:00\",\"2025-07-13T03:00\",\"2025-07-13T04:00\",\"2025-07-13T05:00\",\"2025-07-13T06:00\",\"2025-07-13T07:00\",\"2025-07-13T08:00\",\"2025-07-13T09:00\",\"2025-07-13T10:00\",\"2025-07-13T11:00\",\"2025-07-13T12:00\",\"2025-07-13T13:00\",\"2025-07-13T14:00\",\"2025-07-13T15:00\",\"2025-07-13T16:00\",\"2025-07-13T17:00\",\"2025-07-13T18:00\",\"2025-07-13T19:00\",\"2025-07-13T20:00\",\"2025-07-13T21:00\",\"2025-07-13T22:00\",\"2025-07-13T23:00\",\"2025-07-14T00:00\",\"2025-07-14T01:00\",\"2025-07-14T02:00\",\"2025-07-14T03:00\",\"2025-07-14T04:00\",\"2025-07-14T05:00\",\"2025-07-14T06:00\",\"2025-07-14T07:00\",\"2025-07-14T08:00\",\"2025-07-14T09:00\",\"2025-07-14T10:00\",\"2025-07-14T11:00\",\"2025-07-14T12:00\",\"2025-07-14T13:00\",\"2025-07-14T14:00\",\"2025-07-14T15:00\",\"2025-07-14T16:00\",\"2025-07-14T17:00\",\"2025-07-14T18:00\",\"2025-07-14T19:00\",\"2025-07-14T20:00\",\"2025-07-14T21:00\",\"2025-07-14T22:00\",\"2025-07-14T23:00\",\"2025-07-15T00:00\",\"2025-07-15T01:00\",\"2025-07-15T02:00\",\"2025-07-15T03:00\",\"2025-07-15T04:00\",\"2025-07-15T05:00\",\"2025-07-15T06:00\",\"2025-07-15T07:00\",\"2025-07-15T08:00\",\"2025-07-15T09:00\",\"2025-07-15T10:00\",\"2025-07-15T11:00\",\"2025-07-15T12:00\",\"2025-07-15T13:00\",\"2025-07-15T14:00\",\"2025-07-15T15:00\",\"2025-07-15T16:00\",\"2025-07-15T17:00\",\"2025-07-15T18:00\",\"2025-07-15T19:00\",\"2025-07-15T20:00\",\"2025-07-15T21:00\",\"2025-07-15T22:00\",\"2025-07-15T23:00\",\"2025-07-16T00:00\",\"2025-07-16T01:00\",\"2025-07-16T02:00\",\"2025-07-16T03:00\",\"2025-07-16T04:00\",\"2025-07-16T05:00\",\"2025-07-16T06:00\",\"2025-07-16T07:00\",\"2025-07-16T08:00\",\"2025-07-16T09:00\",\"2025-07-16T10:00\",\"2025-07-16T11:00\",\"2025-07-16T12:00\",\"2025-07-16T13:00\",\"2025-07-16T14:00\",\"2025-07-16T15:00\",\"2025-07-16T16:00\",\"2025-07-16T17:00\",\"2025-07-16T18:00\",\"2025-07-16T19:00\",\"2025-07-16T20:00\",\"2025-07-16T21:00\",\"2025-07-16T22:00\",\"2025-07-16T23:00\"],\"y\":[12.4,13.3,13.8,13.1,13.0,13.8,14.0,13.7,13.6,12.1,11.6,9.8,7.9,7.3,8.3,7.6,8.1,7.3,9.4,13.6,12.9,12.5,12.8,13.1,13.4,13.6,14.8,14.9,14.6,14.7,15.1,15.1,14.7,13.3,12.8,12.6,12.4,11.1,10.5,9.4,10.8,16.0,14.9,16.4,13.8,15.1,15.4,14.2,14.0,15.0,15.5,15.8,15.9,16.0,15.7,15.5,15.1,15.6,16.7,17.9,18.5,18.4,18.1,16.9,16.7,18.4,18.3,18.7,19.5,19.2,18.1,17.5,17.4,17.3,17.1,17.2,16.9,17.2,17.4,18.1,18.6,18.3,17.7,17.0,17.2,17.0,16.4,18.9,19.0,19.5,20.9,20.8,20.2,19.9,19.5,19.1,18.8,18.8,18.9,19.0,19.2,19.2,19.4,19.7,20.0,20.2,20.7,20.9,21.2,21.1,21.3,21.1,21.0,21.2,21.2,21.3,21.4,21.3,21.1,21.0,20.7,20.3,20.1,20.0,20.1,20.4,20.8,21.1,21.2,20.7,19.8,18.6,17.6,16.7,16.5,16.0,15.8,16.2,16.1,16.1,15.9,15.9,15.9,15.8,16.0,16.4,16.6,17.1,17.7,18.5,19.1,19.0,18.8,18.6,18.5,17.9,17.5,16.9,16.7,16.2,15.9,15.4,15.7,16.4,17.4,17.8,18.0,17.9],\"type\":\"scatter\"}],                        {\"template\":{\"data\":{\"histogram2dcontour\":[{\"type\":\"histogram2dcontour\",\"colorbar\":{\"outlinewidth\":0,\"ticks\":\"\"},\"colorscale\":[[0.0,\"#0d0887\"],[0.1111111111111111,\"#46039f\"],[0.2222222222222222,\"#7201a8\"],[0.3333333333333333,\"#9c179e\"],[0.4444444444444444,\"#bd3786\"],[0.5555555555555556,\"#d8576b\"],[0.6666666666666666,\"#ed7953\"],[0.7777777777777778,\"#fb9f3a\"],[0.8888888888888888,\"#fdca26\"],[1.0,\"#f0f921\"]]}],\"choropleth\":[{\"type\":\"choropleth\",\"colorbar\":{\"outlinewidth\":0,\"ticks\":\"\"}}],\"histogram2d\":[{\"type\":\"histogram2d\",\"colorbar\":{\"outlinewidth\":0,\"ticks\":\"\"},\"colorscale\":[[0.0,\"#0d0887\"],[0.1111111111111111,\"#46039f\"],[0.2222222222222222,\"#7201a8\"],[0.3333333333333333,\"#9c179e\"],[0.4444444444444444,\"#bd3786\"],[0.5555555555555556,\"#d8576b\"],[0.6666666666666666,\"#ed7953\"],[0.7777777777777778,\"#fb9f3a\"],[0.8888888888888888,\"#fdca26\"],[1.0,\"#f0f921\"]]}],\"heatmap\":[{\"type\":\"heatmap\",\"colorbar\":{\"outlinewidth\":0,\"ticks\":\"\"},\"colorscale\":[[0.0,\"#0d0887\"],[0.1111111111111111,\"#46039f\"],[0.2222222222222222,\"#7201a8\"],[0.3333333333333333,\"#9c179e\"],[0.4444444444444444,\"#bd3786\"],[0.5555555555555556,\"#d8576b\"],[0.6666666666666666,\"#ed7953\"],[0.7777777777777778,\"#fb9f3a\"],[0.8888888888888888,\"#fdca26\"],[1.0,\"#f0f921\"]]}],\"heatmapgl\":[{\"type\":\"heatmapgl\",\"colorbar\":{\"outlinewidth\":0,\"ticks\":\"\"},\"colorscale\":[[0.0,\"#0d0887\"],[0.1111111111111111,\"#46039f\"],[0.2222222222222222,\"#7201a8\"],[0.3333333333333333,\"#9c179e\"],[0.4444444444444444,\"#bd3786\"],[0.5555555555555556,\"#d8576b\"],[0.6666666666666666,\"#ed7953\"],[0.7777777777777778,\"#fb9f3a\"],[0.8888888888888888,\"#fdca26\"],[1.0,\"#f0f921\"]]}],\"contourcarpet\":[{\"type\":\"contourcarpet\",\"colorbar\":{\"outlinewidth\":0,\"ticks\":\"\"}}],\"contour\":[{\"type\":\"contour\",\"colorbar\":{\"outlinewidth\":0,\"ticks\":\"\"},\"colorscale\":[[0.0,\"#0d0887\"],[0.1111111111111111,\"#46039f\"],[0.2222222222222222,\"#7201a8\"],[0.3333333333333333,\"#9c179e\"],[0.4444444444444444,\"#bd3786\"],[0.5555555555555556,\"#d8576b\"],[0.6666666666666666,\"#ed7953\"],[0.7777777777777778,\"#fb9f3a\"],[0.8888888888888888,\"#fdca26\"],[1.0,\"#f0f921\"]]}],\"surface\":[{\"type\":\"surface\",\"colorbar\":{\"outlinewidth\":0,\"ticks\":\"\"},\"colorscale\":[[0.0,\"#0d0887\"],[0.1111111111111111,\"#46039f\"],[0.2222222222222222,\"#7201a8\"],[0.3333333333333333,\"#9c179e\"],[0.4444444444444444,\"#bd3786\"],[0.5555555555555556,\"#d8576b\"],[0.6666666666666666,\"#ed7953\"],[0.7777777777777778,\"#fb9f3a\"],[0.8888888888888888,\"#fdca26\"],[1.0,\"#f0f921\"]]}],\"mesh3d\":[{\"type\":\"mesh3d\",\"colorbar\":{\"outlinewidth\":0,\"ticks\":\"\"}}],\"scatter\":[{\"fillpattern\":{\"fillmode\":\"overlay\",\"size\":10,\"solidity\":0.2},\"type\":\"scatter\"}],\"parcoords\":[{\"type\":\"parcoords\",\"line\":{\"colorbar\":{\"outlinewidth\":0,\"ticks\":\"\"}}}],\"scatterpolargl\":[{\"type\":\"scatterpolargl\",\"marker\":{\"colorbar\":{\"outlinewidth\":0,\"ticks\":\"\"}}}],\"bar\":[{\"error_x\":{\"color\":\"#2a3f5f\"},\"error_y\":{\"color\":\"#2a3f5f\"},\"marker\":{\"line\":{\"color\":\"#E5ECF6\",\"width\":0.5},\"pattern\":{\"fillmode\":\"overlay\",\"size\":10,\"solidity\":0.2}},\"type\":\"bar\"}],\"scattergeo\":[{\"type\":\"scattergeo\",\"marker\":{\"colorbar\":{\"outlinewidth\":0,\"ticks\":\"\"}}}],\"scatterpolar\":[{\"type\":\"scatterpolar\",\"marker\":{\"colorbar\":{\"outlinewidth\":0,\"ticks\":\"\"}}}],\"histogram\":[{\"marker\":{\"pattern\":{\"fillmode\":\"overlay\",\"size\":10,\"solidity\":0.2}},\"type\":\"histogram\"}],\"scattergl\":[{\"type\":\"scattergl\",\"marker\":{\"colorbar\":{\"outlinewidth\":0,\"ticks\":\"\"}}}],\"scatter3d\":[{\"type\":\"scatter3d\",\"line\":{\"colorbar\":{\"outlinewidth\":0,\"ticks\":\"\"}},\"marker\":{\"colorbar\":{\"outlinewidth\":0,\"ticks\":\"\"}}}],\"scattermapbox\":[{\"type\":\"scattermapbox\",\"marker\":{\"colorbar\":{\"outlinewidth\":0,\"ticks\":\"\"}}}],\"scatterternary\":[{\"type\":\"scatterternary\",\"marker\":{\"colorbar\":{\"outlinewidth\":0,\"ticks\":\"\"}}}],\"scattercarpet\":[{\"type\":\"scattercarpet\",\"marker\":{\"colorbar\":{\"outlinewidth\":0,\"ticks\":\"\"}}}],\"carpet\":[{\"aaxis\":{\"endlinecolor\":\"#2a3f5f\",\"gridcolor\":\"white\",\"linecolor\":\"white\",\"minorgridcolor\":\"white\",\"startlinecolor\":\"#2a3f5f\"},\"baxis\":{\"endlinecolor\":\"#2a3f5f\",\"gridcolor\":\"white\",\"linecolor\":\"white\",\"minorgridcolor\":\"white\",\"startlinecolor\":\"#2a3f5f\"},\"type\":\"carpet\"}],\"table\":[{\"cells\":{\"fill\":{\"color\":\"#EBF0F8\"},\"line\":{\"color\":\"white\"}},\"header\":{\"fill\":{\"color\":\"#C8D4E3\"},\"line\":{\"color\":\"white\"}},\"type\":\"table\"}],\"barpolar\":[{\"marker\":{\"line\":{\"color\":\"#E5ECF6\",\"width\":0.5},\"pattern\":{\"fillmode\":\"overlay\",\"size\":10,\"solidity\":0.2}},\"type\":\"barpolar\"}],\"pie\":[{\"automargin\":true,\"type\":\"pie\"}]},\"layout\":{\"autotypenumbers\":\"strict\",\"colorway\":[\"#636efa\",\"#EF553B\",\"#00cc96\",\"#ab63fa\",\"#FFA15A\",\"#19d3f3\",\"#FF6692\",\"#B6E880\",\"#FF97FF\",\"#FECB52\"],\"font\":{\"color\":\"#2a3f5f\"},\"hovermode\":\"closest\",\"hoverlabel\":{\"align\":\"left\"},\"paper_bgcolor\":\"white\",\"plot_bgcolor\":\"#E5ECF6\",\"polar\":{\"bgcolor\":\"#E5ECF6\",\"angularaxis\":{\"gridcolor\":\"white\",\"linecolor\":\"white\",\"ticks\":\"\"},\"radialaxis\":{\"gridcolor\":\"white\",\"linecolor\":\"white\",\"ticks\":\"\"}},\"ternary\":{\"bgcolor\":\"#E5ECF6\",\"aaxis\":{\"gridcolor\":\"white\",\"linecolor\":\"white\",\"ticks\":\"\"},\"baxis\":{\"gridcolor\":\"white\",\"linecolor\":\"white\",\"ticks\":\"\"},\"caxis\":{\"gridcolor\":\"white\",\"linecolor\":\"white\",\"ticks\":\"\"}},\"coloraxis\":{\"colorbar\":{\"outlinewidth\":0,\"ticks\":\"\"}},\"colorscale\":{\"sequential\":[[0.0,\"#0d0887\"],[0.1111111111111111,\"#46039f\"],[0.2222222222222222,\"#7201a8\"],[0.3333333333333333,\"#9c179e\"],[0.4444444444444444,\"#bd3786\"],[0.5555555555555556,\"#d8576b\"],[0.6666666666666666,\"#ed7953\"],[0.7777777777777778,\"#fb9f3a\"],[0.8888888888888888,\"#fdca26\"],[1.0,\"#f0f921\"]],\"sequentialminus\":[[0.0,\"#0d0887\"],[0.1111111111111111,\"#46039f\"],[0.2222222222222222,\"#7201a8\"],[0.3333333333333333,\"#9c179e\"],[0.4444444444444444,\"#bd3786\"],[0.5555555555555556,\"#d8576b\"],[0.6666666666666666,\"#ed7953\"],[0.7777777777777778,\"#fb9f3a\"],[0.8888888888888888,\"#fdca26\"],[1.0,\"#f0f921\"]],\"diverging\":[[0,\"#8e0152\"],[0.1,\"#c51b7d\"],[0.2,\"#de77ae\"],[0.3,\"#f1b6da\"],[0.4,\"#fde0ef\"],[0.5,\"#f7f7f7\"],[0.6,\"#e6f5d0\"],[0.7,\"#b8e186\"],[0.8,\"#7fbc41\"],[0.9,\"#4d9221\"],[1,\"#276419\"]]},\"xaxis\":{\"gridcolor\":\"white\",\"linecolor\":\"white\",\"ticks\":\"\",\"title\":{\"standoff\":15},\"zerolinecolor\":\"white\",\"automargin\":true,\"zerolinewidth\":2},\"yaxis\":{\"gridcolor\":\"white\",\"linecolor\":\"white\",\"ticks\":\"\",\"title\":{\"standoff\":15},\"zerolinecolor\":\"white\",\"automargin\":true,\"zerolinewidth\":2},\"scene\":{\"xaxis\":{\"backgroundcolor\":\"#E5ECF6\",\"gridcolor\":\"white\",\"linecolor\":\"white\",\"showbackground\":true,\"ticks\":\"\",\"zerolinecolor\":\"white\",\"gridwidth\":2},\"yaxis\":{\"backgroundcolor\":\"#E5ECF6\",\"gridcolor\":\"white\",\"linecolor\":\"white\",\"showbackground\":true,\"ticks\":\"\",\"zerolinecolor\":\"white\",\"gridwidth\":2},\"zaxis\":{\"backgroundcolor\":\"#E5ECF6\",\"gridcolor\":\"white\",\"linecolor\":\"white\",\"showbackground\":true,\"ticks\":\"\",\"zerolinecolor\":\"white\",\"gridwidth\":2}},\"shapedefaults\":{\"line\":{\"color\":\"#2a3f5f\"}},\"annotationdefaults\":{\"arrowcolor\":\"#2a3f5f\",\"arrowhead\":0,\"arrowwidth\":1},\"geo\":{\"bgcolor\":\"white\",\"landcolor\":\"#E5ECF6\",\"subunitcolor\":\"white\",\"showland\":true,\"showlakes\":true,\"lakecolor\":\"white\"},\"title\":{\"x\":0.05},\"mapbox\":{\"style\":\"light\"}}},\"font\":{\"size\":12},\"title\":{\"text\":\"Punto di Rugiada - Padova\"},\"xaxis\":{\"title\":{\"text\":\"Data\\u002fOra\"},\"tickangle\":45},\"yaxis\":{\"title\":{\"text\":\"Punto di Rugiada (\\u00b0C)\"}},\"height\":500,\"width\":1000},                        {\"responsive\": true}                    ).then(function(){\n",
       "                            \n",
       "var gd = document.getElementById('1d3c1d0d-6f53-47a6-abc6-b45c0cfc7eae');\n",
       "var x = new MutationObserver(function (mutations, observer) {{\n",
       "        var display = window.getComputedStyle(gd).display;\n",
       "        if (!display || display === 'none') {{\n",
       "            console.log([gd, 'removed!']);\n",
       "            Plotly.purge(gd);\n",
       "            observer.disconnect();\n",
       "        }}\n",
       "}});\n",
       "\n",
       "// Listen for the removal of the full notebook cells\n",
       "var notebookContainer = gd.closest('#notebook-container');\n",
       "if (notebookContainer) {{\n",
       "    x.observe(notebookContainer, {childList: true});\n",
       "}}\n",
       "\n",
       "// Listen for the clearing of the current output cell\n",
       "var outputEl = gd.closest('.output');\n",
       "if (outputEl) {{\n",
       "    x.observe(outputEl, {childList: true});\n",
       "}}\n",
       "\n",
       "                        })                };                });            </script>        </div>"
      ]
     },
     "metadata": {},
     "output_type": "display_data"
    },
    {
     "data": {
      "application/vnd.plotly.v1+json": {
       "config": {
        "plotlyServerURL": "https://plot.ly"
       },
       "data": [
        {
         "marker": {
          "color": "orange"
         },
         "name": "Probabilità Precipitazioni",
         "opacity": 0.8,
         "type": "bar",
         "x": [
          "2025-07-10T00:00",
          "2025-07-10T01:00",
          "2025-07-10T02:00",
          "2025-07-10T03:00",
          "2025-07-10T04:00",
          "2025-07-10T05:00",
          "2025-07-10T06:00",
          "2025-07-10T07:00",
          "2025-07-10T08:00",
          "2025-07-10T09:00",
          "2025-07-10T10:00",
          "2025-07-10T11:00",
          "2025-07-10T12:00",
          "2025-07-10T13:00",
          "2025-07-10T14:00",
          "2025-07-10T15:00",
          "2025-07-10T16:00",
          "2025-07-10T17:00",
          "2025-07-10T18:00",
          "2025-07-10T19:00",
          "2025-07-10T20:00",
          "2025-07-10T21:00",
          "2025-07-10T22:00",
          "2025-07-10T23:00",
          "2025-07-11T00:00",
          "2025-07-11T01:00",
          "2025-07-11T02:00",
          "2025-07-11T03:00",
          "2025-07-11T04:00",
          "2025-07-11T05:00",
          "2025-07-11T06:00",
          "2025-07-11T07:00",
          "2025-07-11T08:00",
          "2025-07-11T09:00",
          "2025-07-11T10:00",
          "2025-07-11T11:00",
          "2025-07-11T12:00",
          "2025-07-11T13:00",
          "2025-07-11T14:00",
          "2025-07-11T15:00",
          "2025-07-11T16:00",
          "2025-07-11T17:00",
          "2025-07-11T18:00",
          "2025-07-11T19:00",
          "2025-07-11T20:00",
          "2025-07-11T21:00",
          "2025-07-11T22:00",
          "2025-07-11T23:00",
          "2025-07-12T00:00",
          "2025-07-12T01:00",
          "2025-07-12T02:00",
          "2025-07-12T03:00",
          "2025-07-12T04:00",
          "2025-07-12T05:00",
          "2025-07-12T06:00",
          "2025-07-12T07:00",
          "2025-07-12T08:00",
          "2025-07-12T09:00",
          "2025-07-12T10:00",
          "2025-07-12T11:00",
          "2025-07-12T12:00",
          "2025-07-12T13:00",
          "2025-07-12T14:00",
          "2025-07-12T15:00",
          "2025-07-12T16:00",
          "2025-07-12T17:00",
          "2025-07-12T18:00",
          "2025-07-12T19:00",
          "2025-07-12T20:00",
          "2025-07-12T21:00",
          "2025-07-12T22:00",
          "2025-07-12T23:00",
          "2025-07-13T00:00",
          "2025-07-13T01:00",
          "2025-07-13T02:00",
          "2025-07-13T03:00",
          "2025-07-13T04:00",
          "2025-07-13T05:00",
          "2025-07-13T06:00",
          "2025-07-13T07:00",
          "2025-07-13T08:00",
          "2025-07-13T09:00",
          "2025-07-13T10:00",
          "2025-07-13T11:00",
          "2025-07-13T12:00",
          "2025-07-13T13:00",
          "2025-07-13T14:00",
          "2025-07-13T15:00",
          "2025-07-13T16:00",
          "2025-07-13T17:00",
          "2025-07-13T18:00",
          "2025-07-13T19:00",
          "2025-07-13T20:00",
          "2025-07-13T21:00",
          "2025-07-13T22:00",
          "2025-07-13T23:00",
          "2025-07-14T00:00",
          "2025-07-14T01:00",
          "2025-07-14T02:00",
          "2025-07-14T03:00",
          "2025-07-14T04:00",
          "2025-07-14T05:00",
          "2025-07-14T06:00",
          "2025-07-14T07:00",
          "2025-07-14T08:00",
          "2025-07-14T09:00",
          "2025-07-14T10:00",
          "2025-07-14T11:00",
          "2025-07-14T12:00",
          "2025-07-14T13:00",
          "2025-07-14T14:00",
          "2025-07-14T15:00",
          "2025-07-14T16:00",
          "2025-07-14T17:00",
          "2025-07-14T18:00",
          "2025-07-14T19:00",
          "2025-07-14T20:00",
          "2025-07-14T21:00",
          "2025-07-14T22:00",
          "2025-07-14T23:00",
          "2025-07-15T00:00",
          "2025-07-15T01:00",
          "2025-07-15T02:00",
          "2025-07-15T03:00",
          "2025-07-15T04:00",
          "2025-07-15T05:00",
          "2025-07-15T06:00",
          "2025-07-15T07:00",
          "2025-07-15T08:00",
          "2025-07-15T09:00",
          "2025-07-15T10:00",
          "2025-07-15T11:00",
          "2025-07-15T12:00",
          "2025-07-15T13:00",
          "2025-07-15T14:00",
          "2025-07-15T15:00",
          "2025-07-15T16:00",
          "2025-07-15T17:00",
          "2025-07-15T18:00",
          "2025-07-15T19:00",
          "2025-07-15T20:00",
          "2025-07-15T21:00",
          "2025-07-15T22:00",
          "2025-07-15T23:00",
          "2025-07-16T00:00",
          "2025-07-16T01:00",
          "2025-07-16T02:00",
          "2025-07-16T03:00",
          "2025-07-16T04:00",
          "2025-07-16T05:00",
          "2025-07-16T06:00",
          "2025-07-16T07:00",
          "2025-07-16T08:00",
          "2025-07-16T09:00",
          "2025-07-16T10:00",
          "2025-07-16T11:00",
          "2025-07-16T12:00",
          "2025-07-16T13:00",
          "2025-07-16T14:00",
          "2025-07-16T15:00",
          "2025-07-16T16:00",
          "2025-07-16T17:00",
          "2025-07-16T18:00",
          "2025-07-16T19:00",
          "2025-07-16T20:00",
          "2025-07-16T21:00",
          "2025-07-16T22:00",
          "2025-07-16T23:00"
         ],
         "y": [
          0,
          0,
          0,
          0,
          0,
          0,
          0,
          0,
          0,
          0,
          0,
          0,
          0,
          0,
          0,
          0,
          0,
          0,
          0,
          0,
          0,
          0,
          0,
          0,
          0,
          0,
          0,
          0,
          0,
          0,
          0,
          0,
          0,
          0,
          0,
          0,
          0,
          0,
          18,
          28,
          38,
          28,
          18,
          13,
          10,
          8,
          8,
          8,
          5,
          5,
          3,
          3,
          3,
          0,
          0,
          0,
          0,
          10,
          18,
          15,
          5,
          5,
          5,
          5,
          6,
          8,
          8,
          6,
          2,
          0,
          1,
          3,
          5,
          5,
          3,
          3,
          5,
          8,
          10,
          8,
          5,
          3,
          10,
          11,
          13,
          18,
          25,
          33,
          40,
          46,
          48,
          46,
          41,
          33,
          25,
          18,
          13,
          10,
          7,
          5,
          3,
          3,
          3,
          5,
          8,
          12,
          16,
          20,
          23,
          25,
          27,
          28,
          29,
          29,
          28,
          25,
          21,
          16,
          10,
          6,
          3,
          2,
          3,
          4,
          5,
          7,
          8,
          9,
          9,
          9,
          10,
          10,
          10,
          9,
          11,
          13,
          15,
          18,
          20,
          23,
          25,
          28,
          30,
          32,
          33,
          34,
          35,
          36,
          37,
          38,
          38,
          38,
          39,
          39,
          39,
          38,
          38,
          37,
          37,
          36,
          34,
          33,
          31,
          30,
          28,
          27,
          25,
          24
         ]
        }
       ],
       "layout": {
        "font": {
         "size": 12
        },
        "height": 500,
        "template": {
         "data": {
          "bar": [
           {
            "error_x": {
             "color": "#2a3f5f"
            },
            "error_y": {
             "color": "#2a3f5f"
            },
            "marker": {
             "line": {
              "color": "#E5ECF6",
              "width": 0.5
             },
             "pattern": {
              "fillmode": "overlay",
              "size": 10,
              "solidity": 0.2
             }
            },
            "type": "bar"
           }
          ],
          "barpolar": [
           {
            "marker": {
             "line": {
              "color": "#E5ECF6",
              "width": 0.5
             },
             "pattern": {
              "fillmode": "overlay",
              "size": 10,
              "solidity": 0.2
             }
            },
            "type": "barpolar"
           }
          ],
          "carpet": [
           {
            "aaxis": {
             "endlinecolor": "#2a3f5f",
             "gridcolor": "white",
             "linecolor": "white",
             "minorgridcolor": "white",
             "startlinecolor": "#2a3f5f"
            },
            "baxis": {
             "endlinecolor": "#2a3f5f",
             "gridcolor": "white",
             "linecolor": "white",
             "minorgridcolor": "white",
             "startlinecolor": "#2a3f5f"
            },
            "type": "carpet"
           }
          ],
          "choropleth": [
           {
            "colorbar": {
             "outlinewidth": 0,
             "ticks": ""
            },
            "type": "choropleth"
           }
          ],
          "contour": [
           {
            "colorbar": {
             "outlinewidth": 0,
             "ticks": ""
            },
            "colorscale": [
             [
              0,
              "#0d0887"
             ],
             [
              0.1111111111111111,
              "#46039f"
             ],
             [
              0.2222222222222222,
              "#7201a8"
             ],
             [
              0.3333333333333333,
              "#9c179e"
             ],
             [
              0.4444444444444444,
              "#bd3786"
             ],
             [
              0.5555555555555556,
              "#d8576b"
             ],
             [
              0.6666666666666666,
              "#ed7953"
             ],
             [
              0.7777777777777778,
              "#fb9f3a"
             ],
             [
              0.8888888888888888,
              "#fdca26"
             ],
             [
              1,
              "#f0f921"
             ]
            ],
            "type": "contour"
           }
          ],
          "contourcarpet": [
           {
            "colorbar": {
             "outlinewidth": 0,
             "ticks": ""
            },
            "type": "contourcarpet"
           }
          ],
          "heatmap": [
           {
            "colorbar": {
             "outlinewidth": 0,
             "ticks": ""
            },
            "colorscale": [
             [
              0,
              "#0d0887"
             ],
             [
              0.1111111111111111,
              "#46039f"
             ],
             [
              0.2222222222222222,
              "#7201a8"
             ],
             [
              0.3333333333333333,
              "#9c179e"
             ],
             [
              0.4444444444444444,
              "#bd3786"
             ],
             [
              0.5555555555555556,
              "#d8576b"
             ],
             [
              0.6666666666666666,
              "#ed7953"
             ],
             [
              0.7777777777777778,
              "#fb9f3a"
             ],
             [
              0.8888888888888888,
              "#fdca26"
             ],
             [
              1,
              "#f0f921"
             ]
            ],
            "type": "heatmap"
           }
          ],
          "heatmapgl": [
           {
            "colorbar": {
             "outlinewidth": 0,
             "ticks": ""
            },
            "colorscale": [
             [
              0,
              "#0d0887"
             ],
             [
              0.1111111111111111,
              "#46039f"
             ],
             [
              0.2222222222222222,
              "#7201a8"
             ],
             [
              0.3333333333333333,
              "#9c179e"
             ],
             [
              0.4444444444444444,
              "#bd3786"
             ],
             [
              0.5555555555555556,
              "#d8576b"
             ],
             [
              0.6666666666666666,
              "#ed7953"
             ],
             [
              0.7777777777777778,
              "#fb9f3a"
             ],
             [
              0.8888888888888888,
              "#fdca26"
             ],
             [
              1,
              "#f0f921"
             ]
            ],
            "type": "heatmapgl"
           }
          ],
          "histogram": [
           {
            "marker": {
             "pattern": {
              "fillmode": "overlay",
              "size": 10,
              "solidity": 0.2
             }
            },
            "type": "histogram"
           }
          ],
          "histogram2d": [
           {
            "colorbar": {
             "outlinewidth": 0,
             "ticks": ""
            },
            "colorscale": [
             [
              0,
              "#0d0887"
             ],
             [
              0.1111111111111111,
              "#46039f"
             ],
             [
              0.2222222222222222,
              "#7201a8"
             ],
             [
              0.3333333333333333,
              "#9c179e"
             ],
             [
              0.4444444444444444,
              "#bd3786"
             ],
             [
              0.5555555555555556,
              "#d8576b"
             ],
             [
              0.6666666666666666,
              "#ed7953"
             ],
             [
              0.7777777777777778,
              "#fb9f3a"
             ],
             [
              0.8888888888888888,
              "#fdca26"
             ],
             [
              1,
              "#f0f921"
             ]
            ],
            "type": "histogram2d"
           }
          ],
          "histogram2dcontour": [
           {
            "colorbar": {
             "outlinewidth": 0,
             "ticks": ""
            },
            "colorscale": [
             [
              0,
              "#0d0887"
             ],
             [
              0.1111111111111111,
              "#46039f"
             ],
             [
              0.2222222222222222,
              "#7201a8"
             ],
             [
              0.3333333333333333,
              "#9c179e"
             ],
             [
              0.4444444444444444,
              "#bd3786"
             ],
             [
              0.5555555555555556,
              "#d8576b"
             ],
             [
              0.6666666666666666,
              "#ed7953"
             ],
             [
              0.7777777777777778,
              "#fb9f3a"
             ],
             [
              0.8888888888888888,
              "#fdca26"
             ],
             [
              1,
              "#f0f921"
             ]
            ],
            "type": "histogram2dcontour"
           }
          ],
          "mesh3d": [
           {
            "colorbar": {
             "outlinewidth": 0,
             "ticks": ""
            },
            "type": "mesh3d"
           }
          ],
          "parcoords": [
           {
            "line": {
             "colorbar": {
              "outlinewidth": 0,
              "ticks": ""
             }
            },
            "type": "parcoords"
           }
          ],
          "pie": [
           {
            "automargin": true,
            "type": "pie"
           }
          ],
          "scatter": [
           {
            "fillpattern": {
             "fillmode": "overlay",
             "size": 10,
             "solidity": 0.2
            },
            "type": "scatter"
           }
          ],
          "scatter3d": [
           {
            "line": {
             "colorbar": {
              "outlinewidth": 0,
              "ticks": ""
             }
            },
            "marker": {
             "colorbar": {
              "outlinewidth": 0,
              "ticks": ""
             }
            },
            "type": "scatter3d"
           }
          ],
          "scattercarpet": [
           {
            "marker": {
             "colorbar": {
              "outlinewidth": 0,
              "ticks": ""
             }
            },
            "type": "scattercarpet"
           }
          ],
          "scattergeo": [
           {
            "marker": {
             "colorbar": {
              "outlinewidth": 0,
              "ticks": ""
             }
            },
            "type": "scattergeo"
           }
          ],
          "scattergl": [
           {
            "marker": {
             "colorbar": {
              "outlinewidth": 0,
              "ticks": ""
             }
            },
            "type": "scattergl"
           }
          ],
          "scattermapbox": [
           {
            "marker": {
             "colorbar": {
              "outlinewidth": 0,
              "ticks": ""
             }
            },
            "type": "scattermapbox"
           }
          ],
          "scatterpolar": [
           {
            "marker": {
             "colorbar": {
              "outlinewidth": 0,
              "ticks": ""
             }
            },
            "type": "scatterpolar"
           }
          ],
          "scatterpolargl": [
           {
            "marker": {
             "colorbar": {
              "outlinewidth": 0,
              "ticks": ""
             }
            },
            "type": "scatterpolargl"
           }
          ],
          "scatterternary": [
           {
            "marker": {
             "colorbar": {
              "outlinewidth": 0,
              "ticks": ""
             }
            },
            "type": "scatterternary"
           }
          ],
          "surface": [
           {
            "colorbar": {
             "outlinewidth": 0,
             "ticks": ""
            },
            "colorscale": [
             [
              0,
              "#0d0887"
             ],
             [
              0.1111111111111111,
              "#46039f"
             ],
             [
              0.2222222222222222,
              "#7201a8"
             ],
             [
              0.3333333333333333,
              "#9c179e"
             ],
             [
              0.4444444444444444,
              "#bd3786"
             ],
             [
              0.5555555555555556,
              "#d8576b"
             ],
             [
              0.6666666666666666,
              "#ed7953"
             ],
             [
              0.7777777777777778,
              "#fb9f3a"
             ],
             [
              0.8888888888888888,
              "#fdca26"
             ],
             [
              1,
              "#f0f921"
             ]
            ],
            "type": "surface"
           }
          ],
          "table": [
           {
            "cells": {
             "fill": {
              "color": "#EBF0F8"
             },
             "line": {
              "color": "white"
             }
            },
            "header": {
             "fill": {
              "color": "#C8D4E3"
             },
             "line": {
              "color": "white"
             }
            },
            "type": "table"
           }
          ]
         },
         "layout": {
          "annotationdefaults": {
           "arrowcolor": "#2a3f5f",
           "arrowhead": 0,
           "arrowwidth": 1
          },
          "autotypenumbers": "strict",
          "coloraxis": {
           "colorbar": {
            "outlinewidth": 0,
            "ticks": ""
           }
          },
          "colorscale": {
           "diverging": [
            [
             0,
             "#8e0152"
            ],
            [
             0.1,
             "#c51b7d"
            ],
            [
             0.2,
             "#de77ae"
            ],
            [
             0.3,
             "#f1b6da"
            ],
            [
             0.4,
             "#fde0ef"
            ],
            [
             0.5,
             "#f7f7f7"
            ],
            [
             0.6,
             "#e6f5d0"
            ],
            [
             0.7,
             "#b8e186"
            ],
            [
             0.8,
             "#7fbc41"
            ],
            [
             0.9,
             "#4d9221"
            ],
            [
             1,
             "#276419"
            ]
           ],
           "sequential": [
            [
             0,
             "#0d0887"
            ],
            [
             0.1111111111111111,
             "#46039f"
            ],
            [
             0.2222222222222222,
             "#7201a8"
            ],
            [
             0.3333333333333333,
             "#9c179e"
            ],
            [
             0.4444444444444444,
             "#bd3786"
            ],
            [
             0.5555555555555556,
             "#d8576b"
            ],
            [
             0.6666666666666666,
             "#ed7953"
            ],
            [
             0.7777777777777778,
             "#fb9f3a"
            ],
            [
             0.8888888888888888,
             "#fdca26"
            ],
            [
             1,
             "#f0f921"
            ]
           ],
           "sequentialminus": [
            [
             0,
             "#0d0887"
            ],
            [
             0.1111111111111111,
             "#46039f"
            ],
            [
             0.2222222222222222,
             "#7201a8"
            ],
            [
             0.3333333333333333,
             "#9c179e"
            ],
            [
             0.4444444444444444,
             "#bd3786"
            ],
            [
             0.5555555555555556,
             "#d8576b"
            ],
            [
             0.6666666666666666,
             "#ed7953"
            ],
            [
             0.7777777777777778,
             "#fb9f3a"
            ],
            [
             0.8888888888888888,
             "#fdca26"
            ],
            [
             1,
             "#f0f921"
            ]
           ]
          },
          "colorway": [
           "#636efa",
           "#EF553B",
           "#00cc96",
           "#ab63fa",
           "#FFA15A",
           "#19d3f3",
           "#FF6692",
           "#B6E880",
           "#FF97FF",
           "#FECB52"
          ],
          "font": {
           "color": "#2a3f5f"
          },
          "geo": {
           "bgcolor": "white",
           "lakecolor": "white",
           "landcolor": "#E5ECF6",
           "showlakes": true,
           "showland": true,
           "subunitcolor": "white"
          },
          "hoverlabel": {
           "align": "left"
          },
          "hovermode": "closest",
          "mapbox": {
           "style": "light"
          },
          "paper_bgcolor": "white",
          "plot_bgcolor": "#E5ECF6",
          "polar": {
           "angularaxis": {
            "gridcolor": "white",
            "linecolor": "white",
            "ticks": ""
           },
           "bgcolor": "#E5ECF6",
           "radialaxis": {
            "gridcolor": "white",
            "linecolor": "white",
            "ticks": ""
           }
          },
          "scene": {
           "xaxis": {
            "backgroundcolor": "#E5ECF6",
            "gridcolor": "white",
            "gridwidth": 2,
            "linecolor": "white",
            "showbackground": true,
            "ticks": "",
            "zerolinecolor": "white"
           },
           "yaxis": {
            "backgroundcolor": "#E5ECF6",
            "gridcolor": "white",
            "gridwidth": 2,
            "linecolor": "white",
            "showbackground": true,
            "ticks": "",
            "zerolinecolor": "white"
           },
           "zaxis": {
            "backgroundcolor": "#E5ECF6",
            "gridcolor": "white",
            "gridwidth": 2,
            "linecolor": "white",
            "showbackground": true,
            "ticks": "",
            "zerolinecolor": "white"
           }
          },
          "shapedefaults": {
           "line": {
            "color": "#2a3f5f"
           }
          },
          "ternary": {
           "aaxis": {
            "gridcolor": "white",
            "linecolor": "white",
            "ticks": ""
           },
           "baxis": {
            "gridcolor": "white",
            "linecolor": "white",
            "ticks": ""
           },
           "bgcolor": "#E5ECF6",
           "caxis": {
            "gridcolor": "white",
            "linecolor": "white",
            "ticks": ""
           }
          },
          "title": {
           "x": 0.05
          },
          "xaxis": {
           "automargin": true,
           "gridcolor": "white",
           "linecolor": "white",
           "ticks": "",
           "title": {
            "standoff": 15
           },
           "zerolinecolor": "white",
           "zerolinewidth": 2
          },
          "yaxis": {
           "automargin": true,
           "gridcolor": "white",
           "linecolor": "white",
           "ticks": "",
           "title": {
            "standoff": 15
           },
           "zerolinecolor": "white",
           "zerolinewidth": 2
          }
         }
        },
        "title": {
         "text": "Probabilità Precipitazioni - Padova"
        },
        "width": 1000,
        "xaxis": {
         "tickangle": 45,
         "title": {
          "text": "Data/Ora"
         }
        },
        "yaxis": {
         "title": {
          "text": "Probabilità (%)"
         }
        }
       }
      },
      "text/html": [
       "<div>                            <div id=\"e0d803c7-21e2-4a4f-a80f-b9bf320dca2c\" class=\"plotly-graph-div\" style=\"height:500px; width:1000px;\"></div>            <script type=\"text/javascript\">                require([\"plotly\"], function(Plotly) {                    window.PLOTLYENV=window.PLOTLYENV || {};                                    if (document.getElementById(\"e0d803c7-21e2-4a4f-a80f-b9bf320dca2c\")) {                    Plotly.newPlot(                        \"e0d803c7-21e2-4a4f-a80f-b9bf320dca2c\",                        [{\"marker\":{\"color\":\"orange\"},\"name\":\"Probabilit\\u00e0 Precipitazioni\",\"opacity\":0.8,\"x\":[\"2025-07-10T00:00\",\"2025-07-10T01:00\",\"2025-07-10T02:00\",\"2025-07-10T03:00\",\"2025-07-10T04:00\",\"2025-07-10T05:00\",\"2025-07-10T06:00\",\"2025-07-10T07:00\",\"2025-07-10T08:00\",\"2025-07-10T09:00\",\"2025-07-10T10:00\",\"2025-07-10T11:00\",\"2025-07-10T12:00\",\"2025-07-10T13:00\",\"2025-07-10T14:00\",\"2025-07-10T15:00\",\"2025-07-10T16:00\",\"2025-07-10T17:00\",\"2025-07-10T18:00\",\"2025-07-10T19:00\",\"2025-07-10T20:00\",\"2025-07-10T21:00\",\"2025-07-10T22:00\",\"2025-07-10T23:00\",\"2025-07-11T00:00\",\"2025-07-11T01:00\",\"2025-07-11T02:00\",\"2025-07-11T03:00\",\"2025-07-11T04:00\",\"2025-07-11T05:00\",\"2025-07-11T06:00\",\"2025-07-11T07:00\",\"2025-07-11T08:00\",\"2025-07-11T09:00\",\"2025-07-11T10:00\",\"2025-07-11T11:00\",\"2025-07-11T12:00\",\"2025-07-11T13:00\",\"2025-07-11T14:00\",\"2025-07-11T15:00\",\"2025-07-11T16:00\",\"2025-07-11T17:00\",\"2025-07-11T18:00\",\"2025-07-11T19:00\",\"2025-07-11T20:00\",\"2025-07-11T21:00\",\"2025-07-11T22:00\",\"2025-07-11T23:00\",\"2025-07-12T00:00\",\"2025-07-12T01:00\",\"2025-07-12T02:00\",\"2025-07-12T03:00\",\"2025-07-12T04:00\",\"2025-07-12T05:00\",\"2025-07-12T06:00\",\"2025-07-12T07:00\",\"2025-07-12T08:00\",\"2025-07-12T09:00\",\"2025-07-12T10:00\",\"2025-07-12T11:00\",\"2025-07-12T12:00\",\"2025-07-12T13:00\",\"2025-07-12T14:00\",\"2025-07-12T15:00\",\"2025-07-12T16:00\",\"2025-07-12T17:00\",\"2025-07-12T18:00\",\"2025-07-12T19:00\",\"2025-07-12T20:00\",\"2025-07-12T21:00\",\"2025-07-12T22:00\",\"2025-07-12T23:00\",\"2025-07-13T00:00\",\"2025-07-13T01:00\",\"2025-07-13T02:00\",\"2025-07-13T03:00\",\"2025-07-13T04:00\",\"2025-07-13T05:00\",\"2025-07-13T06:00\",\"2025-07-13T07:00\",\"2025-07-13T08:00\",\"2025-07-13T09:00\",\"2025-07-13T10:00\",\"2025-07-13T11:00\",\"2025-07-13T12:00\",\"2025-07-13T13:00\",\"2025-07-13T14:00\",\"2025-07-13T15:00\",\"2025-07-13T16:00\",\"2025-07-13T17:00\",\"2025-07-13T18:00\",\"2025-07-13T19:00\",\"2025-07-13T20:00\",\"2025-07-13T21:00\",\"2025-07-13T22:00\",\"2025-07-13T23:00\",\"2025-07-14T00:00\",\"2025-07-14T01:00\",\"2025-07-14T02:00\",\"2025-07-14T03:00\",\"2025-07-14T04:00\",\"2025-07-14T05:00\",\"2025-07-14T06:00\",\"2025-07-14T07:00\",\"2025-07-14T08:00\",\"2025-07-14T09:00\",\"2025-07-14T10:00\",\"2025-07-14T11:00\",\"2025-07-14T12:00\",\"2025-07-14T13:00\",\"2025-07-14T14:00\",\"2025-07-14T15:00\",\"2025-07-14T16:00\",\"2025-07-14T17:00\",\"2025-07-14T18:00\",\"2025-07-14T19:00\",\"2025-07-14T20:00\",\"2025-07-14T21:00\",\"2025-07-14T22:00\",\"2025-07-14T23:00\",\"2025-07-15T00:00\",\"2025-07-15T01:00\",\"2025-07-15T02:00\",\"2025-07-15T03:00\",\"2025-07-15T04:00\",\"2025-07-15T05:00\",\"2025-07-15T06:00\",\"2025-07-15T07:00\",\"2025-07-15T08:00\",\"2025-07-15T09:00\",\"2025-07-15T10:00\",\"2025-07-15T11:00\",\"2025-07-15T12:00\",\"2025-07-15T13:00\",\"2025-07-15T14:00\",\"2025-07-15T15:00\",\"2025-07-15T16:00\",\"2025-07-15T17:00\",\"2025-07-15T18:00\",\"2025-07-15T19:00\",\"2025-07-15T20:00\",\"2025-07-15T21:00\",\"2025-07-15T22:00\",\"2025-07-15T23:00\",\"2025-07-16T00:00\",\"2025-07-16T01:00\",\"2025-07-16T02:00\",\"2025-07-16T03:00\",\"2025-07-16T04:00\",\"2025-07-16T05:00\",\"2025-07-16T06:00\",\"2025-07-16T07:00\",\"2025-07-16T08:00\",\"2025-07-16T09:00\",\"2025-07-16T10:00\",\"2025-07-16T11:00\",\"2025-07-16T12:00\",\"2025-07-16T13:00\",\"2025-07-16T14:00\",\"2025-07-16T15:00\",\"2025-07-16T16:00\",\"2025-07-16T17:00\",\"2025-07-16T18:00\",\"2025-07-16T19:00\",\"2025-07-16T20:00\",\"2025-07-16T21:00\",\"2025-07-16T22:00\",\"2025-07-16T23:00\"],\"y\":[0,0,0,0,0,0,0,0,0,0,0,0,0,0,0,0,0,0,0,0,0,0,0,0,0,0,0,0,0,0,0,0,0,0,0,0,0,0,18,28,38,28,18,13,10,8,8,8,5,5,3,3,3,0,0,0,0,10,18,15,5,5,5,5,6,8,8,6,2,0,1,3,5,5,3,3,5,8,10,8,5,3,10,11,13,18,25,33,40,46,48,46,41,33,25,18,13,10,7,5,3,3,3,5,8,12,16,20,23,25,27,28,29,29,28,25,21,16,10,6,3,2,3,4,5,7,8,9,9,9,10,10,10,9,11,13,15,18,20,23,25,28,30,32,33,34,35,36,37,38,38,38,39,39,39,38,38,37,37,36,34,33,31,30,28,27,25,24],\"type\":\"bar\"}],                        {\"template\":{\"data\":{\"histogram2dcontour\":[{\"type\":\"histogram2dcontour\",\"colorbar\":{\"outlinewidth\":0,\"ticks\":\"\"},\"colorscale\":[[0.0,\"#0d0887\"],[0.1111111111111111,\"#46039f\"],[0.2222222222222222,\"#7201a8\"],[0.3333333333333333,\"#9c179e\"],[0.4444444444444444,\"#bd3786\"],[0.5555555555555556,\"#d8576b\"],[0.6666666666666666,\"#ed7953\"],[0.7777777777777778,\"#fb9f3a\"],[0.8888888888888888,\"#fdca26\"],[1.0,\"#f0f921\"]]}],\"choropleth\":[{\"type\":\"choropleth\",\"colorbar\":{\"outlinewidth\":0,\"ticks\":\"\"}}],\"histogram2d\":[{\"type\":\"histogram2d\",\"colorbar\":{\"outlinewidth\":0,\"ticks\":\"\"},\"colorscale\":[[0.0,\"#0d0887\"],[0.1111111111111111,\"#46039f\"],[0.2222222222222222,\"#7201a8\"],[0.3333333333333333,\"#9c179e\"],[0.4444444444444444,\"#bd3786\"],[0.5555555555555556,\"#d8576b\"],[0.6666666666666666,\"#ed7953\"],[0.7777777777777778,\"#fb9f3a\"],[0.8888888888888888,\"#fdca26\"],[1.0,\"#f0f921\"]]}],\"heatmap\":[{\"type\":\"heatmap\",\"colorbar\":{\"outlinewidth\":0,\"ticks\":\"\"},\"colorscale\":[[0.0,\"#0d0887\"],[0.1111111111111111,\"#46039f\"],[0.2222222222222222,\"#7201a8\"],[0.3333333333333333,\"#9c179e\"],[0.4444444444444444,\"#bd3786\"],[0.5555555555555556,\"#d8576b\"],[0.6666666666666666,\"#ed7953\"],[0.7777777777777778,\"#fb9f3a\"],[0.8888888888888888,\"#fdca26\"],[1.0,\"#f0f921\"]]}],\"heatmapgl\":[{\"type\":\"heatmapgl\",\"colorbar\":{\"outlinewidth\":0,\"ticks\":\"\"},\"colorscale\":[[0.0,\"#0d0887\"],[0.1111111111111111,\"#46039f\"],[0.2222222222222222,\"#7201a8\"],[0.3333333333333333,\"#9c179e\"],[0.4444444444444444,\"#bd3786\"],[0.5555555555555556,\"#d8576b\"],[0.6666666666666666,\"#ed7953\"],[0.7777777777777778,\"#fb9f3a\"],[0.8888888888888888,\"#fdca26\"],[1.0,\"#f0f921\"]]}],\"contourcarpet\":[{\"type\":\"contourcarpet\",\"colorbar\":{\"outlinewidth\":0,\"ticks\":\"\"}}],\"contour\":[{\"type\":\"contour\",\"colorbar\":{\"outlinewidth\":0,\"ticks\":\"\"},\"colorscale\":[[0.0,\"#0d0887\"],[0.1111111111111111,\"#46039f\"],[0.2222222222222222,\"#7201a8\"],[0.3333333333333333,\"#9c179e\"],[0.4444444444444444,\"#bd3786\"],[0.5555555555555556,\"#d8576b\"],[0.6666666666666666,\"#ed7953\"],[0.7777777777777778,\"#fb9f3a\"],[0.8888888888888888,\"#fdca26\"],[1.0,\"#f0f921\"]]}],\"surface\":[{\"type\":\"surface\",\"colorbar\":{\"outlinewidth\":0,\"ticks\":\"\"},\"colorscale\":[[0.0,\"#0d0887\"],[0.1111111111111111,\"#46039f\"],[0.2222222222222222,\"#7201a8\"],[0.3333333333333333,\"#9c179e\"],[0.4444444444444444,\"#bd3786\"],[0.5555555555555556,\"#d8576b\"],[0.6666666666666666,\"#ed7953\"],[0.7777777777777778,\"#fb9f3a\"],[0.8888888888888888,\"#fdca26\"],[1.0,\"#f0f921\"]]}],\"mesh3d\":[{\"type\":\"mesh3d\",\"colorbar\":{\"outlinewidth\":0,\"ticks\":\"\"}}],\"scatter\":[{\"fillpattern\":{\"fillmode\":\"overlay\",\"size\":10,\"solidity\":0.2},\"type\":\"scatter\"}],\"parcoords\":[{\"type\":\"parcoords\",\"line\":{\"colorbar\":{\"outlinewidth\":0,\"ticks\":\"\"}}}],\"scatterpolargl\":[{\"type\":\"scatterpolargl\",\"marker\":{\"colorbar\":{\"outlinewidth\":0,\"ticks\":\"\"}}}],\"bar\":[{\"error_x\":{\"color\":\"#2a3f5f\"},\"error_y\":{\"color\":\"#2a3f5f\"},\"marker\":{\"line\":{\"color\":\"#E5ECF6\",\"width\":0.5},\"pattern\":{\"fillmode\":\"overlay\",\"size\":10,\"solidity\":0.2}},\"type\":\"bar\"}],\"scattergeo\":[{\"type\":\"scattergeo\",\"marker\":{\"colorbar\":{\"outlinewidth\":0,\"ticks\":\"\"}}}],\"scatterpolar\":[{\"type\":\"scatterpolar\",\"marker\":{\"colorbar\":{\"outlinewidth\":0,\"ticks\":\"\"}}}],\"histogram\":[{\"marker\":{\"pattern\":{\"fillmode\":\"overlay\",\"size\":10,\"solidity\":0.2}},\"type\":\"histogram\"}],\"scattergl\":[{\"type\":\"scattergl\",\"marker\":{\"colorbar\":{\"outlinewidth\":0,\"ticks\":\"\"}}}],\"scatter3d\":[{\"type\":\"scatter3d\",\"line\":{\"colorbar\":{\"outlinewidth\":0,\"ticks\":\"\"}},\"marker\":{\"colorbar\":{\"outlinewidth\":0,\"ticks\":\"\"}}}],\"scattermapbox\":[{\"type\":\"scattermapbox\",\"marker\":{\"colorbar\":{\"outlinewidth\":0,\"ticks\":\"\"}}}],\"scatterternary\":[{\"type\":\"scatterternary\",\"marker\":{\"colorbar\":{\"outlinewidth\":0,\"ticks\":\"\"}}}],\"scattercarpet\":[{\"type\":\"scattercarpet\",\"marker\":{\"colorbar\":{\"outlinewidth\":0,\"ticks\":\"\"}}}],\"carpet\":[{\"aaxis\":{\"endlinecolor\":\"#2a3f5f\",\"gridcolor\":\"white\",\"linecolor\":\"white\",\"minorgridcolor\":\"white\",\"startlinecolor\":\"#2a3f5f\"},\"baxis\":{\"endlinecolor\":\"#2a3f5f\",\"gridcolor\":\"white\",\"linecolor\":\"white\",\"minorgridcolor\":\"white\",\"startlinecolor\":\"#2a3f5f\"},\"type\":\"carpet\"}],\"table\":[{\"cells\":{\"fill\":{\"color\":\"#EBF0F8\"},\"line\":{\"color\":\"white\"}},\"header\":{\"fill\":{\"color\":\"#C8D4E3\"},\"line\":{\"color\":\"white\"}},\"type\":\"table\"}],\"barpolar\":[{\"marker\":{\"line\":{\"color\":\"#E5ECF6\",\"width\":0.5},\"pattern\":{\"fillmode\":\"overlay\",\"size\":10,\"solidity\":0.2}},\"type\":\"barpolar\"}],\"pie\":[{\"automargin\":true,\"type\":\"pie\"}]},\"layout\":{\"autotypenumbers\":\"strict\",\"colorway\":[\"#636efa\",\"#EF553B\",\"#00cc96\",\"#ab63fa\",\"#FFA15A\",\"#19d3f3\",\"#FF6692\",\"#B6E880\",\"#FF97FF\",\"#FECB52\"],\"font\":{\"color\":\"#2a3f5f\"},\"hovermode\":\"closest\",\"hoverlabel\":{\"align\":\"left\"},\"paper_bgcolor\":\"white\",\"plot_bgcolor\":\"#E5ECF6\",\"polar\":{\"bgcolor\":\"#E5ECF6\",\"angularaxis\":{\"gridcolor\":\"white\",\"linecolor\":\"white\",\"ticks\":\"\"},\"radialaxis\":{\"gridcolor\":\"white\",\"linecolor\":\"white\",\"ticks\":\"\"}},\"ternary\":{\"bgcolor\":\"#E5ECF6\",\"aaxis\":{\"gridcolor\":\"white\",\"linecolor\":\"white\",\"ticks\":\"\"},\"baxis\":{\"gridcolor\":\"white\",\"linecolor\":\"white\",\"ticks\":\"\"},\"caxis\":{\"gridcolor\":\"white\",\"linecolor\":\"white\",\"ticks\":\"\"}},\"coloraxis\":{\"colorbar\":{\"outlinewidth\":0,\"ticks\":\"\"}},\"colorscale\":{\"sequential\":[[0.0,\"#0d0887\"],[0.1111111111111111,\"#46039f\"],[0.2222222222222222,\"#7201a8\"],[0.3333333333333333,\"#9c179e\"],[0.4444444444444444,\"#bd3786\"],[0.5555555555555556,\"#d8576b\"],[0.6666666666666666,\"#ed7953\"],[0.7777777777777778,\"#fb9f3a\"],[0.8888888888888888,\"#fdca26\"],[1.0,\"#f0f921\"]],\"sequentialminus\":[[0.0,\"#0d0887\"],[0.1111111111111111,\"#46039f\"],[0.2222222222222222,\"#7201a8\"],[0.3333333333333333,\"#9c179e\"],[0.4444444444444444,\"#bd3786\"],[0.5555555555555556,\"#d8576b\"],[0.6666666666666666,\"#ed7953\"],[0.7777777777777778,\"#fb9f3a\"],[0.8888888888888888,\"#fdca26\"],[1.0,\"#f0f921\"]],\"diverging\":[[0,\"#8e0152\"],[0.1,\"#c51b7d\"],[0.2,\"#de77ae\"],[0.3,\"#f1b6da\"],[0.4,\"#fde0ef\"],[0.5,\"#f7f7f7\"],[0.6,\"#e6f5d0\"],[0.7,\"#b8e186\"],[0.8,\"#7fbc41\"],[0.9,\"#4d9221\"],[1,\"#276419\"]]},\"xaxis\":{\"gridcolor\":\"white\",\"linecolor\":\"white\",\"ticks\":\"\",\"title\":{\"standoff\":15},\"zerolinecolor\":\"white\",\"automargin\":true,\"zerolinewidth\":2},\"yaxis\":{\"gridcolor\":\"white\",\"linecolor\":\"white\",\"ticks\":\"\",\"title\":{\"standoff\":15},\"zerolinecolor\":\"white\",\"automargin\":true,\"zerolinewidth\":2},\"scene\":{\"xaxis\":{\"backgroundcolor\":\"#E5ECF6\",\"gridcolor\":\"white\",\"linecolor\":\"white\",\"showbackground\":true,\"ticks\":\"\",\"zerolinecolor\":\"white\",\"gridwidth\":2},\"yaxis\":{\"backgroundcolor\":\"#E5ECF6\",\"gridcolor\":\"white\",\"linecolor\":\"white\",\"showbackground\":true,\"ticks\":\"\",\"zerolinecolor\":\"white\",\"gridwidth\":2},\"zaxis\":{\"backgroundcolor\":\"#E5ECF6\",\"gridcolor\":\"white\",\"linecolor\":\"white\",\"showbackground\":true,\"ticks\":\"\",\"zerolinecolor\":\"white\",\"gridwidth\":2}},\"shapedefaults\":{\"line\":{\"color\":\"#2a3f5f\"}},\"annotationdefaults\":{\"arrowcolor\":\"#2a3f5f\",\"arrowhead\":0,\"arrowwidth\":1},\"geo\":{\"bgcolor\":\"white\",\"landcolor\":\"#E5ECF6\",\"subunitcolor\":\"white\",\"showland\":true,\"showlakes\":true,\"lakecolor\":\"white\"},\"title\":{\"x\":0.05},\"mapbox\":{\"style\":\"light\"}}},\"font\":{\"size\":12},\"title\":{\"text\":\"Probabilit\\u00e0 Precipitazioni - Padova\"},\"xaxis\":{\"title\":{\"text\":\"Data\\u002fOra\"},\"tickangle\":45},\"yaxis\":{\"title\":{\"text\":\"Probabilit\\u00e0 (%)\"}},\"height\":500,\"width\":1000},                        {\"responsive\": true}                    ).then(function(){\n",
       "                            \n",
       "var gd = document.getElementById('e0d803c7-21e2-4a4f-a80f-b9bf320dca2c');\n",
       "var x = new MutationObserver(function (mutations, observer) {{\n",
       "        var display = window.getComputedStyle(gd).display;\n",
       "        if (!display || display === 'none') {{\n",
       "            console.log([gd, 'removed!']);\n",
       "            Plotly.purge(gd);\n",
       "            observer.disconnect();\n",
       "        }}\n",
       "}});\n",
       "\n",
       "// Listen for the removal of the full notebook cells\n",
       "var notebookContainer = gd.closest('#notebook-container');\n",
       "if (notebookContainer) {{\n",
       "    x.observe(notebookContainer, {childList: true});\n",
       "}}\n",
       "\n",
       "// Listen for the clearing of the current output cell\n",
       "var outputEl = gd.closest('.output');\n",
       "if (outputEl) {{\n",
       "    x.observe(outputEl, {childList: true});\n",
       "}}\n",
       "\n",
       "                        })                };                });            </script>        </div>"
      ]
     },
     "metadata": {},
     "output_type": "display_data"
    },
    {
     "data": {
      "application/vnd.plotly.v1+json": {
       "config": {
        "plotlyServerURL": "https://plot.ly"
       },
       "data": [
        {
         "marker": {
          "color": "darkblue"
         },
         "name": "Precipitazioni",
         "opacity": 0.8,
         "type": "bar",
         "x": [
          "2025-07-10T00:00",
          "2025-07-10T01:00",
          "2025-07-10T02:00",
          "2025-07-10T03:00",
          "2025-07-10T04:00",
          "2025-07-10T05:00",
          "2025-07-10T06:00",
          "2025-07-10T07:00",
          "2025-07-10T08:00",
          "2025-07-10T09:00",
          "2025-07-10T10:00",
          "2025-07-10T11:00",
          "2025-07-10T12:00",
          "2025-07-10T13:00",
          "2025-07-10T14:00",
          "2025-07-10T15:00",
          "2025-07-10T16:00",
          "2025-07-10T17:00",
          "2025-07-10T18:00",
          "2025-07-10T19:00",
          "2025-07-10T20:00",
          "2025-07-10T21:00",
          "2025-07-10T22:00",
          "2025-07-10T23:00",
          "2025-07-11T00:00",
          "2025-07-11T01:00",
          "2025-07-11T02:00",
          "2025-07-11T03:00",
          "2025-07-11T04:00",
          "2025-07-11T05:00",
          "2025-07-11T06:00",
          "2025-07-11T07:00",
          "2025-07-11T08:00",
          "2025-07-11T09:00",
          "2025-07-11T10:00",
          "2025-07-11T11:00",
          "2025-07-11T12:00",
          "2025-07-11T13:00",
          "2025-07-11T14:00",
          "2025-07-11T15:00",
          "2025-07-11T16:00",
          "2025-07-11T17:00",
          "2025-07-11T18:00",
          "2025-07-11T19:00",
          "2025-07-11T20:00",
          "2025-07-11T21:00",
          "2025-07-11T22:00",
          "2025-07-11T23:00",
          "2025-07-12T00:00",
          "2025-07-12T01:00",
          "2025-07-12T02:00",
          "2025-07-12T03:00",
          "2025-07-12T04:00",
          "2025-07-12T05:00",
          "2025-07-12T06:00",
          "2025-07-12T07:00",
          "2025-07-12T08:00",
          "2025-07-12T09:00",
          "2025-07-12T10:00",
          "2025-07-12T11:00",
          "2025-07-12T12:00",
          "2025-07-12T13:00",
          "2025-07-12T14:00",
          "2025-07-12T15:00",
          "2025-07-12T16:00",
          "2025-07-12T17:00",
          "2025-07-12T18:00",
          "2025-07-12T19:00",
          "2025-07-12T20:00",
          "2025-07-12T21:00",
          "2025-07-12T22:00",
          "2025-07-12T23:00",
          "2025-07-13T00:00",
          "2025-07-13T01:00",
          "2025-07-13T02:00",
          "2025-07-13T03:00",
          "2025-07-13T04:00",
          "2025-07-13T05:00",
          "2025-07-13T06:00",
          "2025-07-13T07:00",
          "2025-07-13T08:00",
          "2025-07-13T09:00",
          "2025-07-13T10:00",
          "2025-07-13T11:00",
          "2025-07-13T12:00",
          "2025-07-13T13:00",
          "2025-07-13T14:00",
          "2025-07-13T15:00",
          "2025-07-13T16:00",
          "2025-07-13T17:00",
          "2025-07-13T18:00",
          "2025-07-13T19:00",
          "2025-07-13T20:00",
          "2025-07-13T21:00",
          "2025-07-13T22:00",
          "2025-07-13T23:00",
          "2025-07-14T00:00",
          "2025-07-14T01:00",
          "2025-07-14T02:00",
          "2025-07-14T03:00",
          "2025-07-14T04:00",
          "2025-07-14T05:00",
          "2025-07-14T06:00",
          "2025-07-14T07:00",
          "2025-07-14T08:00",
          "2025-07-14T09:00",
          "2025-07-14T10:00",
          "2025-07-14T11:00",
          "2025-07-14T12:00",
          "2025-07-14T13:00",
          "2025-07-14T14:00",
          "2025-07-14T15:00",
          "2025-07-14T16:00",
          "2025-07-14T17:00",
          "2025-07-14T18:00",
          "2025-07-14T19:00",
          "2025-07-14T20:00",
          "2025-07-14T21:00",
          "2025-07-14T22:00",
          "2025-07-14T23:00",
          "2025-07-15T00:00",
          "2025-07-15T01:00",
          "2025-07-15T02:00",
          "2025-07-15T03:00",
          "2025-07-15T04:00",
          "2025-07-15T05:00",
          "2025-07-15T06:00",
          "2025-07-15T07:00",
          "2025-07-15T08:00",
          "2025-07-15T09:00",
          "2025-07-15T10:00",
          "2025-07-15T11:00",
          "2025-07-15T12:00",
          "2025-07-15T13:00",
          "2025-07-15T14:00",
          "2025-07-15T15:00",
          "2025-07-15T16:00",
          "2025-07-15T17:00",
          "2025-07-15T18:00",
          "2025-07-15T19:00",
          "2025-07-15T20:00",
          "2025-07-15T21:00",
          "2025-07-15T22:00",
          "2025-07-15T23:00",
          "2025-07-16T00:00",
          "2025-07-16T01:00",
          "2025-07-16T02:00",
          "2025-07-16T03:00",
          "2025-07-16T04:00",
          "2025-07-16T05:00",
          "2025-07-16T06:00",
          "2025-07-16T07:00",
          "2025-07-16T08:00",
          "2025-07-16T09:00",
          "2025-07-16T10:00",
          "2025-07-16T11:00",
          "2025-07-16T12:00",
          "2025-07-16T13:00",
          "2025-07-16T14:00",
          "2025-07-16T15:00",
          "2025-07-16T16:00",
          "2025-07-16T17:00",
          "2025-07-16T18:00",
          "2025-07-16T19:00",
          "2025-07-16T20:00",
          "2025-07-16T21:00",
          "2025-07-16T22:00",
          "2025-07-16T23:00"
         ],
         "y": [
          0,
          0,
          0,
          0,
          0,
          0,
          0,
          0,
          0,
          0,
          0,
          0,
          0,
          0,
          0,
          0,
          0,
          0,
          0,
          0,
          0,
          0,
          0,
          0,
          0,
          0,
          0,
          0,
          0,
          0,
          0,
          0,
          0,
          0,
          0,
          0,
          0,
          0,
          0,
          0,
          0,
          0,
          0,
          0,
          0,
          0,
          0,
          0,
          0,
          0,
          0,
          0,
          0,
          0,
          0,
          0,
          0,
          0,
          0,
          0.1,
          0,
          0,
          0,
          0,
          0,
          0,
          0,
          0,
          0,
          0,
          0,
          0,
          0,
          0,
          0,
          0,
          0,
          0,
          0,
          0,
          0,
          0,
          0,
          0,
          0,
          0,
          0,
          0.1,
          0,
          0.2,
          0.5,
          0.4,
          0.4,
          0.4,
          0,
          0,
          0,
          0,
          0,
          0,
          0,
          0,
          0,
          0.2,
          0.2,
          0.2,
          0.7,
          0.7,
          0.7,
          0.2,
          0.2,
          0.2,
          0.2,
          0.2,
          0.2,
          0,
          0,
          0,
          0,
          0,
          0,
          0,
          0,
          0,
          0,
          0,
          0,
          0,
          0,
          0,
          0,
          0,
          0,
          0,
          0,
          0,
          0,
          0,
          0,
          0,
          0,
          0,
          0,
          0,
          0,
          0,
          0,
          0,
          0,
          0,
          0,
          0,
          0,
          0,
          0,
          0,
          0,
          0,
          0,
          0,
          0,
          0,
          0,
          0,
          0,
          0,
          0,
          0
         ]
        }
       ],
       "layout": {
        "font": {
         "size": 12
        },
        "height": 500,
        "template": {
         "data": {
          "bar": [
           {
            "error_x": {
             "color": "#2a3f5f"
            },
            "error_y": {
             "color": "#2a3f5f"
            },
            "marker": {
             "line": {
              "color": "#E5ECF6",
              "width": 0.5
             },
             "pattern": {
              "fillmode": "overlay",
              "size": 10,
              "solidity": 0.2
             }
            },
            "type": "bar"
           }
          ],
          "barpolar": [
           {
            "marker": {
             "line": {
              "color": "#E5ECF6",
              "width": 0.5
             },
             "pattern": {
              "fillmode": "overlay",
              "size": 10,
              "solidity": 0.2
             }
            },
            "type": "barpolar"
           }
          ],
          "carpet": [
           {
            "aaxis": {
             "endlinecolor": "#2a3f5f",
             "gridcolor": "white",
             "linecolor": "white",
             "minorgridcolor": "white",
             "startlinecolor": "#2a3f5f"
            },
            "baxis": {
             "endlinecolor": "#2a3f5f",
             "gridcolor": "white",
             "linecolor": "white",
             "minorgridcolor": "white",
             "startlinecolor": "#2a3f5f"
            },
            "type": "carpet"
           }
          ],
          "choropleth": [
           {
            "colorbar": {
             "outlinewidth": 0,
             "ticks": ""
            },
            "type": "choropleth"
           }
          ],
          "contour": [
           {
            "colorbar": {
             "outlinewidth": 0,
             "ticks": ""
            },
            "colorscale": [
             [
              0,
              "#0d0887"
             ],
             [
              0.1111111111111111,
              "#46039f"
             ],
             [
              0.2222222222222222,
              "#7201a8"
             ],
             [
              0.3333333333333333,
              "#9c179e"
             ],
             [
              0.4444444444444444,
              "#bd3786"
             ],
             [
              0.5555555555555556,
              "#d8576b"
             ],
             [
              0.6666666666666666,
              "#ed7953"
             ],
             [
              0.7777777777777778,
              "#fb9f3a"
             ],
             [
              0.8888888888888888,
              "#fdca26"
             ],
             [
              1,
              "#f0f921"
             ]
            ],
            "type": "contour"
           }
          ],
          "contourcarpet": [
           {
            "colorbar": {
             "outlinewidth": 0,
             "ticks": ""
            },
            "type": "contourcarpet"
           }
          ],
          "heatmap": [
           {
            "colorbar": {
             "outlinewidth": 0,
             "ticks": ""
            },
            "colorscale": [
             [
              0,
              "#0d0887"
             ],
             [
              0.1111111111111111,
              "#46039f"
             ],
             [
              0.2222222222222222,
              "#7201a8"
             ],
             [
              0.3333333333333333,
              "#9c179e"
             ],
             [
              0.4444444444444444,
              "#bd3786"
             ],
             [
              0.5555555555555556,
              "#d8576b"
             ],
             [
              0.6666666666666666,
              "#ed7953"
             ],
             [
              0.7777777777777778,
              "#fb9f3a"
             ],
             [
              0.8888888888888888,
              "#fdca26"
             ],
             [
              1,
              "#f0f921"
             ]
            ],
            "type": "heatmap"
           }
          ],
          "heatmapgl": [
           {
            "colorbar": {
             "outlinewidth": 0,
             "ticks": ""
            },
            "colorscale": [
             [
              0,
              "#0d0887"
             ],
             [
              0.1111111111111111,
              "#46039f"
             ],
             [
              0.2222222222222222,
              "#7201a8"
             ],
             [
              0.3333333333333333,
              "#9c179e"
             ],
             [
              0.4444444444444444,
              "#bd3786"
             ],
             [
              0.5555555555555556,
              "#d8576b"
             ],
             [
              0.6666666666666666,
              "#ed7953"
             ],
             [
              0.7777777777777778,
              "#fb9f3a"
             ],
             [
              0.8888888888888888,
              "#fdca26"
             ],
             [
              1,
              "#f0f921"
             ]
            ],
            "type": "heatmapgl"
           }
          ],
          "histogram": [
           {
            "marker": {
             "pattern": {
              "fillmode": "overlay",
              "size": 10,
              "solidity": 0.2
             }
            },
            "type": "histogram"
           }
          ],
          "histogram2d": [
           {
            "colorbar": {
             "outlinewidth": 0,
             "ticks": ""
            },
            "colorscale": [
             [
              0,
              "#0d0887"
             ],
             [
              0.1111111111111111,
              "#46039f"
             ],
             [
              0.2222222222222222,
              "#7201a8"
             ],
             [
              0.3333333333333333,
              "#9c179e"
             ],
             [
              0.4444444444444444,
              "#bd3786"
             ],
             [
              0.5555555555555556,
              "#d8576b"
             ],
             [
              0.6666666666666666,
              "#ed7953"
             ],
             [
              0.7777777777777778,
              "#fb9f3a"
             ],
             [
              0.8888888888888888,
              "#fdca26"
             ],
             [
              1,
              "#f0f921"
             ]
            ],
            "type": "histogram2d"
           }
          ],
          "histogram2dcontour": [
           {
            "colorbar": {
             "outlinewidth": 0,
             "ticks": ""
            },
            "colorscale": [
             [
              0,
              "#0d0887"
             ],
             [
              0.1111111111111111,
              "#46039f"
             ],
             [
              0.2222222222222222,
              "#7201a8"
             ],
             [
              0.3333333333333333,
              "#9c179e"
             ],
             [
              0.4444444444444444,
              "#bd3786"
             ],
             [
              0.5555555555555556,
              "#d8576b"
             ],
             [
              0.6666666666666666,
              "#ed7953"
             ],
             [
              0.7777777777777778,
              "#fb9f3a"
             ],
             [
              0.8888888888888888,
              "#fdca26"
             ],
             [
              1,
              "#f0f921"
             ]
            ],
            "type": "histogram2dcontour"
           }
          ],
          "mesh3d": [
           {
            "colorbar": {
             "outlinewidth": 0,
             "ticks": ""
            },
            "type": "mesh3d"
           }
          ],
          "parcoords": [
           {
            "line": {
             "colorbar": {
              "outlinewidth": 0,
              "ticks": ""
             }
            },
            "type": "parcoords"
           }
          ],
          "pie": [
           {
            "automargin": true,
            "type": "pie"
           }
          ],
          "scatter": [
           {
            "fillpattern": {
             "fillmode": "overlay",
             "size": 10,
             "solidity": 0.2
            },
            "type": "scatter"
           }
          ],
          "scatter3d": [
           {
            "line": {
             "colorbar": {
              "outlinewidth": 0,
              "ticks": ""
             }
            },
            "marker": {
             "colorbar": {
              "outlinewidth": 0,
              "ticks": ""
             }
            },
            "type": "scatter3d"
           }
          ],
          "scattercarpet": [
           {
            "marker": {
             "colorbar": {
              "outlinewidth": 0,
              "ticks": ""
             }
            },
            "type": "scattercarpet"
           }
          ],
          "scattergeo": [
           {
            "marker": {
             "colorbar": {
              "outlinewidth": 0,
              "ticks": ""
             }
            },
            "type": "scattergeo"
           }
          ],
          "scattergl": [
           {
            "marker": {
             "colorbar": {
              "outlinewidth": 0,
              "ticks": ""
             }
            },
            "type": "scattergl"
           }
          ],
          "scattermapbox": [
           {
            "marker": {
             "colorbar": {
              "outlinewidth": 0,
              "ticks": ""
             }
            },
            "type": "scattermapbox"
           }
          ],
          "scatterpolar": [
           {
            "marker": {
             "colorbar": {
              "outlinewidth": 0,
              "ticks": ""
             }
            },
            "type": "scatterpolar"
           }
          ],
          "scatterpolargl": [
           {
            "marker": {
             "colorbar": {
              "outlinewidth": 0,
              "ticks": ""
             }
            },
            "type": "scatterpolargl"
           }
          ],
          "scatterternary": [
           {
            "marker": {
             "colorbar": {
              "outlinewidth": 0,
              "ticks": ""
             }
            },
            "type": "scatterternary"
           }
          ],
          "surface": [
           {
            "colorbar": {
             "outlinewidth": 0,
             "ticks": ""
            },
            "colorscale": [
             [
              0,
              "#0d0887"
             ],
             [
              0.1111111111111111,
              "#46039f"
             ],
             [
              0.2222222222222222,
              "#7201a8"
             ],
             [
              0.3333333333333333,
              "#9c179e"
             ],
             [
              0.4444444444444444,
              "#bd3786"
             ],
             [
              0.5555555555555556,
              "#d8576b"
             ],
             [
              0.6666666666666666,
              "#ed7953"
             ],
             [
              0.7777777777777778,
              "#fb9f3a"
             ],
             [
              0.8888888888888888,
              "#fdca26"
             ],
             [
              1,
              "#f0f921"
             ]
            ],
            "type": "surface"
           }
          ],
          "table": [
           {
            "cells": {
             "fill": {
              "color": "#EBF0F8"
             },
             "line": {
              "color": "white"
             }
            },
            "header": {
             "fill": {
              "color": "#C8D4E3"
             },
             "line": {
              "color": "white"
             }
            },
            "type": "table"
           }
          ]
         },
         "layout": {
          "annotationdefaults": {
           "arrowcolor": "#2a3f5f",
           "arrowhead": 0,
           "arrowwidth": 1
          },
          "autotypenumbers": "strict",
          "coloraxis": {
           "colorbar": {
            "outlinewidth": 0,
            "ticks": ""
           }
          },
          "colorscale": {
           "diverging": [
            [
             0,
             "#8e0152"
            ],
            [
             0.1,
             "#c51b7d"
            ],
            [
             0.2,
             "#de77ae"
            ],
            [
             0.3,
             "#f1b6da"
            ],
            [
             0.4,
             "#fde0ef"
            ],
            [
             0.5,
             "#f7f7f7"
            ],
            [
             0.6,
             "#e6f5d0"
            ],
            [
             0.7,
             "#b8e186"
            ],
            [
             0.8,
             "#7fbc41"
            ],
            [
             0.9,
             "#4d9221"
            ],
            [
             1,
             "#276419"
            ]
           ],
           "sequential": [
            [
             0,
             "#0d0887"
            ],
            [
             0.1111111111111111,
             "#46039f"
            ],
            [
             0.2222222222222222,
             "#7201a8"
            ],
            [
             0.3333333333333333,
             "#9c179e"
            ],
            [
             0.4444444444444444,
             "#bd3786"
            ],
            [
             0.5555555555555556,
             "#d8576b"
            ],
            [
             0.6666666666666666,
             "#ed7953"
            ],
            [
             0.7777777777777778,
             "#fb9f3a"
            ],
            [
             0.8888888888888888,
             "#fdca26"
            ],
            [
             1,
             "#f0f921"
            ]
           ],
           "sequentialminus": [
            [
             0,
             "#0d0887"
            ],
            [
             0.1111111111111111,
             "#46039f"
            ],
            [
             0.2222222222222222,
             "#7201a8"
            ],
            [
             0.3333333333333333,
             "#9c179e"
            ],
            [
             0.4444444444444444,
             "#bd3786"
            ],
            [
             0.5555555555555556,
             "#d8576b"
            ],
            [
             0.6666666666666666,
             "#ed7953"
            ],
            [
             0.7777777777777778,
             "#fb9f3a"
            ],
            [
             0.8888888888888888,
             "#fdca26"
            ],
            [
             1,
             "#f0f921"
            ]
           ]
          },
          "colorway": [
           "#636efa",
           "#EF553B",
           "#00cc96",
           "#ab63fa",
           "#FFA15A",
           "#19d3f3",
           "#FF6692",
           "#B6E880",
           "#FF97FF",
           "#FECB52"
          ],
          "font": {
           "color": "#2a3f5f"
          },
          "geo": {
           "bgcolor": "white",
           "lakecolor": "white",
           "landcolor": "#E5ECF6",
           "showlakes": true,
           "showland": true,
           "subunitcolor": "white"
          },
          "hoverlabel": {
           "align": "left"
          },
          "hovermode": "closest",
          "mapbox": {
           "style": "light"
          },
          "paper_bgcolor": "white",
          "plot_bgcolor": "#E5ECF6",
          "polar": {
           "angularaxis": {
            "gridcolor": "white",
            "linecolor": "white",
            "ticks": ""
           },
           "bgcolor": "#E5ECF6",
           "radialaxis": {
            "gridcolor": "white",
            "linecolor": "white",
            "ticks": ""
           }
          },
          "scene": {
           "xaxis": {
            "backgroundcolor": "#E5ECF6",
            "gridcolor": "white",
            "gridwidth": 2,
            "linecolor": "white",
            "showbackground": true,
            "ticks": "",
            "zerolinecolor": "white"
           },
           "yaxis": {
            "backgroundcolor": "#E5ECF6",
            "gridcolor": "white",
            "gridwidth": 2,
            "linecolor": "white",
            "showbackground": true,
            "ticks": "",
            "zerolinecolor": "white"
           },
           "zaxis": {
            "backgroundcolor": "#E5ECF6",
            "gridcolor": "white",
            "gridwidth": 2,
            "linecolor": "white",
            "showbackground": true,
            "ticks": "",
            "zerolinecolor": "white"
           }
          },
          "shapedefaults": {
           "line": {
            "color": "#2a3f5f"
           }
          },
          "ternary": {
           "aaxis": {
            "gridcolor": "white",
            "linecolor": "white",
            "ticks": ""
           },
           "baxis": {
            "gridcolor": "white",
            "linecolor": "white",
            "ticks": ""
           },
           "bgcolor": "#E5ECF6",
           "caxis": {
            "gridcolor": "white",
            "linecolor": "white",
            "ticks": ""
           }
          },
          "title": {
           "x": 0.05
          },
          "xaxis": {
           "automargin": true,
           "gridcolor": "white",
           "linecolor": "white",
           "ticks": "",
           "title": {
            "standoff": 15
           },
           "zerolinecolor": "white",
           "zerolinewidth": 2
          },
          "yaxis": {
           "automargin": true,
           "gridcolor": "white",
           "linecolor": "white",
           "ticks": "",
           "title": {
            "standoff": 15
           },
           "zerolinecolor": "white",
           "zerolinewidth": 2
          }
         }
        },
        "title": {
         "text": "Precipitazioni - Padova"
        },
        "width": 1000,
        "xaxis": {
         "tickangle": 45,
         "title": {
          "text": "Data/Ora"
         }
        },
        "yaxis": {
         "title": {
          "text": "Precipitazioni (mm)"
         }
        }
       }
      },
      "text/html": [
       "<div>                            <div id=\"31c791fe-ba70-4122-81f2-4def6f799500\" class=\"plotly-graph-div\" style=\"height:500px; width:1000px;\"></div>            <script type=\"text/javascript\">                require([\"plotly\"], function(Plotly) {                    window.PLOTLYENV=window.PLOTLYENV || {};                                    if (document.getElementById(\"31c791fe-ba70-4122-81f2-4def6f799500\")) {                    Plotly.newPlot(                        \"31c791fe-ba70-4122-81f2-4def6f799500\",                        [{\"marker\":{\"color\":\"darkblue\"},\"name\":\"Precipitazioni\",\"opacity\":0.8,\"x\":[\"2025-07-10T00:00\",\"2025-07-10T01:00\",\"2025-07-10T02:00\",\"2025-07-10T03:00\",\"2025-07-10T04:00\",\"2025-07-10T05:00\",\"2025-07-10T06:00\",\"2025-07-10T07:00\",\"2025-07-10T08:00\",\"2025-07-10T09:00\",\"2025-07-10T10:00\",\"2025-07-10T11:00\",\"2025-07-10T12:00\",\"2025-07-10T13:00\",\"2025-07-10T14:00\",\"2025-07-10T15:00\",\"2025-07-10T16:00\",\"2025-07-10T17:00\",\"2025-07-10T18:00\",\"2025-07-10T19:00\",\"2025-07-10T20:00\",\"2025-07-10T21:00\",\"2025-07-10T22:00\",\"2025-07-10T23:00\",\"2025-07-11T00:00\",\"2025-07-11T01:00\",\"2025-07-11T02:00\",\"2025-07-11T03:00\",\"2025-07-11T04:00\",\"2025-07-11T05:00\",\"2025-07-11T06:00\",\"2025-07-11T07:00\",\"2025-07-11T08:00\",\"2025-07-11T09:00\",\"2025-07-11T10:00\",\"2025-07-11T11:00\",\"2025-07-11T12:00\",\"2025-07-11T13:00\",\"2025-07-11T14:00\",\"2025-07-11T15:00\",\"2025-07-11T16:00\",\"2025-07-11T17:00\",\"2025-07-11T18:00\",\"2025-07-11T19:00\",\"2025-07-11T20:00\",\"2025-07-11T21:00\",\"2025-07-11T22:00\",\"2025-07-11T23:00\",\"2025-07-12T00:00\",\"2025-07-12T01:00\",\"2025-07-12T02:00\",\"2025-07-12T03:00\",\"2025-07-12T04:00\",\"2025-07-12T05:00\",\"2025-07-12T06:00\",\"2025-07-12T07:00\",\"2025-07-12T08:00\",\"2025-07-12T09:00\",\"2025-07-12T10:00\",\"2025-07-12T11:00\",\"2025-07-12T12:00\",\"2025-07-12T13:00\",\"2025-07-12T14:00\",\"2025-07-12T15:00\",\"2025-07-12T16:00\",\"2025-07-12T17:00\",\"2025-07-12T18:00\",\"2025-07-12T19:00\",\"2025-07-12T20:00\",\"2025-07-12T21:00\",\"2025-07-12T22:00\",\"2025-07-12T23:00\",\"2025-07-13T00:00\",\"2025-07-13T01:00\",\"2025-07-13T02:00\",\"2025-07-13T03:00\",\"2025-07-13T04:00\",\"2025-07-13T05:00\",\"2025-07-13T06:00\",\"2025-07-13T07:00\",\"2025-07-13T08:00\",\"2025-07-13T09:00\",\"2025-07-13T10:00\",\"2025-07-13T11:00\",\"2025-07-13T12:00\",\"2025-07-13T13:00\",\"2025-07-13T14:00\",\"2025-07-13T15:00\",\"2025-07-13T16:00\",\"2025-07-13T17:00\",\"2025-07-13T18:00\",\"2025-07-13T19:00\",\"2025-07-13T20:00\",\"2025-07-13T21:00\",\"2025-07-13T22:00\",\"2025-07-13T23:00\",\"2025-07-14T00:00\",\"2025-07-14T01:00\",\"2025-07-14T02:00\",\"2025-07-14T03:00\",\"2025-07-14T04:00\",\"2025-07-14T05:00\",\"2025-07-14T06:00\",\"2025-07-14T07:00\",\"2025-07-14T08:00\",\"2025-07-14T09:00\",\"2025-07-14T10:00\",\"2025-07-14T11:00\",\"2025-07-14T12:00\",\"2025-07-14T13:00\",\"2025-07-14T14:00\",\"2025-07-14T15:00\",\"2025-07-14T16:00\",\"2025-07-14T17:00\",\"2025-07-14T18:00\",\"2025-07-14T19:00\",\"2025-07-14T20:00\",\"2025-07-14T21:00\",\"2025-07-14T22:00\",\"2025-07-14T23:00\",\"2025-07-15T00:00\",\"2025-07-15T01:00\",\"2025-07-15T02:00\",\"2025-07-15T03:00\",\"2025-07-15T04:00\",\"2025-07-15T05:00\",\"2025-07-15T06:00\",\"2025-07-15T07:00\",\"2025-07-15T08:00\",\"2025-07-15T09:00\",\"2025-07-15T10:00\",\"2025-07-15T11:00\",\"2025-07-15T12:00\",\"2025-07-15T13:00\",\"2025-07-15T14:00\",\"2025-07-15T15:00\",\"2025-07-15T16:00\",\"2025-07-15T17:00\",\"2025-07-15T18:00\",\"2025-07-15T19:00\",\"2025-07-15T20:00\",\"2025-07-15T21:00\",\"2025-07-15T22:00\",\"2025-07-15T23:00\",\"2025-07-16T00:00\",\"2025-07-16T01:00\",\"2025-07-16T02:00\",\"2025-07-16T03:00\",\"2025-07-16T04:00\",\"2025-07-16T05:00\",\"2025-07-16T06:00\",\"2025-07-16T07:00\",\"2025-07-16T08:00\",\"2025-07-16T09:00\",\"2025-07-16T10:00\",\"2025-07-16T11:00\",\"2025-07-16T12:00\",\"2025-07-16T13:00\",\"2025-07-16T14:00\",\"2025-07-16T15:00\",\"2025-07-16T16:00\",\"2025-07-16T17:00\",\"2025-07-16T18:00\",\"2025-07-16T19:00\",\"2025-07-16T20:00\",\"2025-07-16T21:00\",\"2025-07-16T22:00\",\"2025-07-16T23:00\"],\"y\":[0.0,0.0,0.0,0.0,0.0,0.0,0.0,0.0,0.0,0.0,0.0,0.0,0.0,0.0,0.0,0.0,0.0,0.0,0.0,0.0,0.0,0.0,0.0,0.0,0.0,0.0,0.0,0.0,0.0,0.0,0.0,0.0,0.0,0.0,0.0,0.0,0.0,0.0,0.0,0.0,0.0,0.0,0.0,0.0,0.0,0.0,0.0,0.0,0.0,0.0,0.0,0.0,0.0,0.0,0.0,0.0,0.0,0.0,0.0,0.1,0.0,0.0,0.0,0.0,0.0,0.0,0.0,0.0,0.0,0.0,0.0,0.0,0.0,0.0,0.0,0.0,0.0,0.0,0.0,0.0,0.0,0.0,0.0,0.0,0.0,0.0,0.0,0.1,0.0,0.2,0.5,0.4,0.4,0.4,0.0,0.0,0.0,0.0,0.0,0.0,0.0,0.0,0.0,0.2,0.2,0.2,0.7,0.7,0.7,0.2,0.2,0.2,0.2,0.2,0.2,0.0,0.0,0.0,0.0,0.0,0.0,0.0,0.0,0.0,0.0,0.0,0.0,0.0,0.0,0.0,0.0,0.0,0.0,0.0,0.0,0.0,0.0,0.0,0.0,0.0,0.0,0.0,0.0,0.0,0.0,0.0,0.0,0.0,0.0,0.0,0.0,0.0,0.0,0.0,0.0,0.0,0.0,0.0,0.0,0.0,0.0,0.0,0.0,0.0,0.0,0.0,0.0,0.0],\"type\":\"bar\"}],                        {\"template\":{\"data\":{\"histogram2dcontour\":[{\"type\":\"histogram2dcontour\",\"colorbar\":{\"outlinewidth\":0,\"ticks\":\"\"},\"colorscale\":[[0.0,\"#0d0887\"],[0.1111111111111111,\"#46039f\"],[0.2222222222222222,\"#7201a8\"],[0.3333333333333333,\"#9c179e\"],[0.4444444444444444,\"#bd3786\"],[0.5555555555555556,\"#d8576b\"],[0.6666666666666666,\"#ed7953\"],[0.7777777777777778,\"#fb9f3a\"],[0.8888888888888888,\"#fdca26\"],[1.0,\"#f0f921\"]]}],\"choropleth\":[{\"type\":\"choropleth\",\"colorbar\":{\"outlinewidth\":0,\"ticks\":\"\"}}],\"histogram2d\":[{\"type\":\"histogram2d\",\"colorbar\":{\"outlinewidth\":0,\"ticks\":\"\"},\"colorscale\":[[0.0,\"#0d0887\"],[0.1111111111111111,\"#46039f\"],[0.2222222222222222,\"#7201a8\"],[0.3333333333333333,\"#9c179e\"],[0.4444444444444444,\"#bd3786\"],[0.5555555555555556,\"#d8576b\"],[0.6666666666666666,\"#ed7953\"],[0.7777777777777778,\"#fb9f3a\"],[0.8888888888888888,\"#fdca26\"],[1.0,\"#f0f921\"]]}],\"heatmap\":[{\"type\":\"heatmap\",\"colorbar\":{\"outlinewidth\":0,\"ticks\":\"\"},\"colorscale\":[[0.0,\"#0d0887\"],[0.1111111111111111,\"#46039f\"],[0.2222222222222222,\"#7201a8\"],[0.3333333333333333,\"#9c179e\"],[0.4444444444444444,\"#bd3786\"],[0.5555555555555556,\"#d8576b\"],[0.6666666666666666,\"#ed7953\"],[0.7777777777777778,\"#fb9f3a\"],[0.8888888888888888,\"#fdca26\"],[1.0,\"#f0f921\"]]}],\"heatmapgl\":[{\"type\":\"heatmapgl\",\"colorbar\":{\"outlinewidth\":0,\"ticks\":\"\"},\"colorscale\":[[0.0,\"#0d0887\"],[0.1111111111111111,\"#46039f\"],[0.2222222222222222,\"#7201a8\"],[0.3333333333333333,\"#9c179e\"],[0.4444444444444444,\"#bd3786\"],[0.5555555555555556,\"#d8576b\"],[0.6666666666666666,\"#ed7953\"],[0.7777777777777778,\"#fb9f3a\"],[0.8888888888888888,\"#fdca26\"],[1.0,\"#f0f921\"]]}],\"contourcarpet\":[{\"type\":\"contourcarpet\",\"colorbar\":{\"outlinewidth\":0,\"ticks\":\"\"}}],\"contour\":[{\"type\":\"contour\",\"colorbar\":{\"outlinewidth\":0,\"ticks\":\"\"},\"colorscale\":[[0.0,\"#0d0887\"],[0.1111111111111111,\"#46039f\"],[0.2222222222222222,\"#7201a8\"],[0.3333333333333333,\"#9c179e\"],[0.4444444444444444,\"#bd3786\"],[0.5555555555555556,\"#d8576b\"],[0.6666666666666666,\"#ed7953\"],[0.7777777777777778,\"#fb9f3a\"],[0.8888888888888888,\"#fdca26\"],[1.0,\"#f0f921\"]]}],\"surface\":[{\"type\":\"surface\",\"colorbar\":{\"outlinewidth\":0,\"ticks\":\"\"},\"colorscale\":[[0.0,\"#0d0887\"],[0.1111111111111111,\"#46039f\"],[0.2222222222222222,\"#7201a8\"],[0.3333333333333333,\"#9c179e\"],[0.4444444444444444,\"#bd3786\"],[0.5555555555555556,\"#d8576b\"],[0.6666666666666666,\"#ed7953\"],[0.7777777777777778,\"#fb9f3a\"],[0.8888888888888888,\"#fdca26\"],[1.0,\"#f0f921\"]]}],\"mesh3d\":[{\"type\":\"mesh3d\",\"colorbar\":{\"outlinewidth\":0,\"ticks\":\"\"}}],\"scatter\":[{\"fillpattern\":{\"fillmode\":\"overlay\",\"size\":10,\"solidity\":0.2},\"type\":\"scatter\"}],\"parcoords\":[{\"type\":\"parcoords\",\"line\":{\"colorbar\":{\"outlinewidth\":0,\"ticks\":\"\"}}}],\"scatterpolargl\":[{\"type\":\"scatterpolargl\",\"marker\":{\"colorbar\":{\"outlinewidth\":0,\"ticks\":\"\"}}}],\"bar\":[{\"error_x\":{\"color\":\"#2a3f5f\"},\"error_y\":{\"color\":\"#2a3f5f\"},\"marker\":{\"line\":{\"color\":\"#E5ECF6\",\"width\":0.5},\"pattern\":{\"fillmode\":\"overlay\",\"size\":10,\"solidity\":0.2}},\"type\":\"bar\"}],\"scattergeo\":[{\"type\":\"scattergeo\",\"marker\":{\"colorbar\":{\"outlinewidth\":0,\"ticks\":\"\"}}}],\"scatterpolar\":[{\"type\":\"scatterpolar\",\"marker\":{\"colorbar\":{\"outlinewidth\":0,\"ticks\":\"\"}}}],\"histogram\":[{\"marker\":{\"pattern\":{\"fillmode\":\"overlay\",\"size\":10,\"solidity\":0.2}},\"type\":\"histogram\"}],\"scattergl\":[{\"type\":\"scattergl\",\"marker\":{\"colorbar\":{\"outlinewidth\":0,\"ticks\":\"\"}}}],\"scatter3d\":[{\"type\":\"scatter3d\",\"line\":{\"colorbar\":{\"outlinewidth\":0,\"ticks\":\"\"}},\"marker\":{\"colorbar\":{\"outlinewidth\":0,\"ticks\":\"\"}}}],\"scattermapbox\":[{\"type\":\"scattermapbox\",\"marker\":{\"colorbar\":{\"outlinewidth\":0,\"ticks\":\"\"}}}],\"scatterternary\":[{\"type\":\"scatterternary\",\"marker\":{\"colorbar\":{\"outlinewidth\":0,\"ticks\":\"\"}}}],\"scattercarpet\":[{\"type\":\"scattercarpet\",\"marker\":{\"colorbar\":{\"outlinewidth\":0,\"ticks\":\"\"}}}],\"carpet\":[{\"aaxis\":{\"endlinecolor\":\"#2a3f5f\",\"gridcolor\":\"white\",\"linecolor\":\"white\",\"minorgridcolor\":\"white\",\"startlinecolor\":\"#2a3f5f\"},\"baxis\":{\"endlinecolor\":\"#2a3f5f\",\"gridcolor\":\"white\",\"linecolor\":\"white\",\"minorgridcolor\":\"white\",\"startlinecolor\":\"#2a3f5f\"},\"type\":\"carpet\"}],\"table\":[{\"cells\":{\"fill\":{\"color\":\"#EBF0F8\"},\"line\":{\"color\":\"white\"}},\"header\":{\"fill\":{\"color\":\"#C8D4E3\"},\"line\":{\"color\":\"white\"}},\"type\":\"table\"}],\"barpolar\":[{\"marker\":{\"line\":{\"color\":\"#E5ECF6\",\"width\":0.5},\"pattern\":{\"fillmode\":\"overlay\",\"size\":10,\"solidity\":0.2}},\"type\":\"barpolar\"}],\"pie\":[{\"automargin\":true,\"type\":\"pie\"}]},\"layout\":{\"autotypenumbers\":\"strict\",\"colorway\":[\"#636efa\",\"#EF553B\",\"#00cc96\",\"#ab63fa\",\"#FFA15A\",\"#19d3f3\",\"#FF6692\",\"#B6E880\",\"#FF97FF\",\"#FECB52\"],\"font\":{\"color\":\"#2a3f5f\"},\"hovermode\":\"closest\",\"hoverlabel\":{\"align\":\"left\"},\"paper_bgcolor\":\"white\",\"plot_bgcolor\":\"#E5ECF6\",\"polar\":{\"bgcolor\":\"#E5ECF6\",\"angularaxis\":{\"gridcolor\":\"white\",\"linecolor\":\"white\",\"ticks\":\"\"},\"radialaxis\":{\"gridcolor\":\"white\",\"linecolor\":\"white\",\"ticks\":\"\"}},\"ternary\":{\"bgcolor\":\"#E5ECF6\",\"aaxis\":{\"gridcolor\":\"white\",\"linecolor\":\"white\",\"ticks\":\"\"},\"baxis\":{\"gridcolor\":\"white\",\"linecolor\":\"white\",\"ticks\":\"\"},\"caxis\":{\"gridcolor\":\"white\",\"linecolor\":\"white\",\"ticks\":\"\"}},\"coloraxis\":{\"colorbar\":{\"outlinewidth\":0,\"ticks\":\"\"}},\"colorscale\":{\"sequential\":[[0.0,\"#0d0887\"],[0.1111111111111111,\"#46039f\"],[0.2222222222222222,\"#7201a8\"],[0.3333333333333333,\"#9c179e\"],[0.4444444444444444,\"#bd3786\"],[0.5555555555555556,\"#d8576b\"],[0.6666666666666666,\"#ed7953\"],[0.7777777777777778,\"#fb9f3a\"],[0.8888888888888888,\"#fdca26\"],[1.0,\"#f0f921\"]],\"sequentialminus\":[[0.0,\"#0d0887\"],[0.1111111111111111,\"#46039f\"],[0.2222222222222222,\"#7201a8\"],[0.3333333333333333,\"#9c179e\"],[0.4444444444444444,\"#bd3786\"],[0.5555555555555556,\"#d8576b\"],[0.6666666666666666,\"#ed7953\"],[0.7777777777777778,\"#fb9f3a\"],[0.8888888888888888,\"#fdca26\"],[1.0,\"#f0f921\"]],\"diverging\":[[0,\"#8e0152\"],[0.1,\"#c51b7d\"],[0.2,\"#de77ae\"],[0.3,\"#f1b6da\"],[0.4,\"#fde0ef\"],[0.5,\"#f7f7f7\"],[0.6,\"#e6f5d0\"],[0.7,\"#b8e186\"],[0.8,\"#7fbc41\"],[0.9,\"#4d9221\"],[1,\"#276419\"]]},\"xaxis\":{\"gridcolor\":\"white\",\"linecolor\":\"white\",\"ticks\":\"\",\"title\":{\"standoff\":15},\"zerolinecolor\":\"white\",\"automargin\":true,\"zerolinewidth\":2},\"yaxis\":{\"gridcolor\":\"white\",\"linecolor\":\"white\",\"ticks\":\"\",\"title\":{\"standoff\":15},\"zerolinecolor\":\"white\",\"automargin\":true,\"zerolinewidth\":2},\"scene\":{\"xaxis\":{\"backgroundcolor\":\"#E5ECF6\",\"gridcolor\":\"white\",\"linecolor\":\"white\",\"showbackground\":true,\"ticks\":\"\",\"zerolinecolor\":\"white\",\"gridwidth\":2},\"yaxis\":{\"backgroundcolor\":\"#E5ECF6\",\"gridcolor\":\"white\",\"linecolor\":\"white\",\"showbackground\":true,\"ticks\":\"\",\"zerolinecolor\":\"white\",\"gridwidth\":2},\"zaxis\":{\"backgroundcolor\":\"#E5ECF6\",\"gridcolor\":\"white\",\"linecolor\":\"white\",\"showbackground\":true,\"ticks\":\"\",\"zerolinecolor\":\"white\",\"gridwidth\":2}},\"shapedefaults\":{\"line\":{\"color\":\"#2a3f5f\"}},\"annotationdefaults\":{\"arrowcolor\":\"#2a3f5f\",\"arrowhead\":0,\"arrowwidth\":1},\"geo\":{\"bgcolor\":\"white\",\"landcolor\":\"#E5ECF6\",\"subunitcolor\":\"white\",\"showland\":true,\"showlakes\":true,\"lakecolor\":\"white\"},\"title\":{\"x\":0.05},\"mapbox\":{\"style\":\"light\"}}},\"font\":{\"size\":12},\"title\":{\"text\":\"Precipitazioni - Padova\"},\"xaxis\":{\"title\":{\"text\":\"Data\\u002fOra\"},\"tickangle\":45},\"yaxis\":{\"title\":{\"text\":\"Precipitazioni (mm)\"}},\"height\":500,\"width\":1000},                        {\"responsive\": true}                    ).then(function(){\n",
       "                            \n",
       "var gd = document.getElementById('31c791fe-ba70-4122-81f2-4def6f799500');\n",
       "var x = new MutationObserver(function (mutations, observer) {{\n",
       "        var display = window.getComputedStyle(gd).display;\n",
       "        if (!display || display === 'none') {{\n",
       "            console.log([gd, 'removed!']);\n",
       "            Plotly.purge(gd);\n",
       "            observer.disconnect();\n",
       "        }}\n",
       "}});\n",
       "\n",
       "// Listen for the removal of the full notebook cells\n",
       "var notebookContainer = gd.closest('#notebook-container');\n",
       "if (notebookContainer) {{\n",
       "    x.observe(notebookContainer, {childList: true});\n",
       "}}\n",
       "\n",
       "// Listen for the clearing of the current output cell\n",
       "var outputEl = gd.closest('.output');\n",
       "if (outputEl) {{\n",
       "    x.observe(outputEl, {childList: true});\n",
       "}}\n",
       "\n",
       "                        })                };                });            </script>        </div>"
      ]
     },
     "metadata": {},
     "output_type": "display_data"
    }
   ],
   "source": [
    "show_all_weather_plots(df, 'Padova')"
   ]
  },
  {
   "cell_type": "markdown",
   "metadata": {},
   "source": [
    "5. Concatena tutti i metodi creati in modo da ottenere il grafico come output"
   ]
  },
  {
   "cell_type": "markdown",
   "metadata": {},
   "source": [
    "6. Aggiungi al codice retry e gestione errori"
   ]
  },
  {
   "cell_type": "code",
   "execution_count": null,
   "metadata": {},
   "outputs": [],
   "source": []
  },
  {
   "cell_type": "code",
   "execution_count": null,
   "metadata": {},
   "outputs": [],
   "source": []
  }
 ],
 "metadata": {
  "kernelspec": {
   "display_name": "base",
   "language": "python",
   "name": "python3"
  },
  "language_info": {
   "codemirror_mode": {
    "name": "ipython",
    "version": 3
   },
   "file_extension": ".py",
   "mimetype": "text/x-python",
   "name": "python",
   "nbconvert_exporter": "python",
   "pygments_lexer": "ipython3",
   "version": "3.12.2"
  }
 },
 "nbformat": 4,
 "nbformat_minor": 2
}
