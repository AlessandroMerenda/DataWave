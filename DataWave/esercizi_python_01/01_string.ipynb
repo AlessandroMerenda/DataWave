{
 "cells": [
  {
   "cell_type": "markdown",
   "metadata": {},
   "source": [
    "Scrivi una funzione che:"
   ]
  },
  {
   "cell_type": "markdown",
   "metadata": {},
   "source": [
    "1. conta le parole in una frase\n"
   ]
  },
  {
   "cell_type": "code",
   "metadata": {
    "ExecuteTime": {
     "end_time": "2025-07-08T09:29:57.944611Z",
     "start_time": "2025-07-08T09:29:57.940568Z"
    }
   },
   "source": [
    "def word_count(frase):\n",
    "   \"\"\"\n",
    "    Conta il numero di parole in una frase.\n",
    "    \n",
    "    Args:\n",
    "        frase (str): La frase da analizzare\n",
    "        \n",
    "    Returns:\n",
    "        int: Il numero di parole nella frase\n",
    "    \"\"\"\n",
    "   parole = frase.split()\n",
    "\n",
    "   return len(parole)\n",
    "\n",
    "test = [\n",
    "   'Ciao mi chiamo Alessandro',\n",
    "   'Python è un linguaggio di programmazione',\n",
    "   'Una Parola'\n",
    "]\n",
    "\n",
    "for frase in test:\n",
    "   risultato = word_count(frase)\n",
    "   print(f'la frase \"{frase}\" ha {risultato} parole')\n"
   ],
   "outputs": [
    {
     "name": "stdout",
     "output_type": "stream",
     "text": [
      "la frase \"Ciao mi chiamo Alessandro\" ha 4 parole\n",
      "la frase \"Python è un linguaggio di programmazione\" ha 6 parole\n",
      "la frase \"Una Parola\" ha 2 parole\n"
     ]
    }
   ],
   "execution_count": 1
  },
  {
   "cell_type": "markdown",
   "metadata": {},
   "source": [
    "2. sostituisca tutte le “e” con “3”\n"
   ]
  },
  {
   "cell_type": "code",
   "metadata": {
    "ExecuteTime": {
     "end_time": "2025-07-08T09:29:57.956669Z",
     "start_time": "2025-07-08T09:29:57.953033Z"
    }
   },
   "source": [
    "def substitution(stringa):\n",
    "    \"\"\"\n",
    "    sostituisce la lettera e con 3\n",
    "    \n",
    "    Args: \n",
    "        stringa(str): la stringa da analizzare\n",
    "\n",
    "    Returns:\n",
    "        str: la stringa con la lettera e sostituita con 3\n",
    "    \"\"\"\n",
    "\n",
    "    return stringa.replace('e', '3')\n",
    "\n",
    "test = [\n",
    "    'Ciao mi chiamo Alessandro',\n",
    "    'Python è un linguaggio di programmazione',\n",
    "    'Delle Parole'\n",
    "]\n",
    "\n",
    "for stringa in test:\n",
    "    risultato = substitution(stringa)\n",
    "    print (f'Frase: {stringa} --> {risultato}')\n",
    "\n",
    "\n"
   ],
   "outputs": [
    {
     "name": "stdout",
     "output_type": "stream",
     "text": [
      "Frase: Ciao mi chiamo Alessandro --> Ciao mi chiamo Al3ssandro\n",
      "Frase: Python è un linguaggio di programmazione --> Python è un linguaggio di programmazion3\n",
      "Frase: Delle Parole --> D3ll3 Parol3\n"
     ]
    }
   ],
   "execution_count": 2
  },
  {
   "cell_type": "markdown",
   "metadata": {},
   "source": [
    "3. verifichi se una parola è contenuta in una frase\n"
   ]
  },
  {
   "cell_type": "code",
   "metadata": {
    "ExecuteTime": {
     "end_time": "2025-07-08T09:29:58.065502Z",
     "start_time": "2025-07-08T09:29:58.063210Z"
    }
   },
   "source": [
    "def word_check(stringa):\n",
    "    \"\"\"\n",
    "    controlla se la stringa contiene la parola 'Python'\n",
    "\n",
    "    Args:\n",
    "        stringa(str): la stringa da analizzare\n",
    "\n",
    "    Returns:\n",
    "        bool: True se la stringa contiene 'Python', False altrimenti\n",
    "    \"\"\"\n",
    "    if 'Python' in stringa:\n",
    "        return True\n",
    "    else:\n",
    "        return False\n",
    "    \n",
    "test = [\n",
    "    'Ciao mi chiamo Alessandro',\n",
    "    'Python è un linguaggio di programmazione',\n",
    "    'Delle Parole'\n",
    "]\n",
    "\n",
    "for stringa in test:\n",
    "    risultato = word_check(stringa)\n",
    "    print(f'La stringa \"{stringa}\" contiene la parola Python: {risultato}')\n",
    "          \n"
   ],
   "outputs": [
    {
     "name": "stdout",
     "output_type": "stream",
     "text": [
      "La stringa \"Ciao mi chiamo Alessandro\" contiene la parola Python: False\n",
      "La stringa \"Python è un linguaggio di programmazione\" contiene la parola Python: True\n",
      "La stringa \"Delle Parole\" contiene la parola Python: False\n"
     ]
    }
   ],
   "execution_count": 3
  },
  {
   "cell_type": "markdown",
   "metadata": {},
   "source": [
    "4. conta le parole che iniziano con una lettera maiuscola\n"
   ]
  },
  {
   "cell_type": "code",
   "metadata": {
    "ExecuteTime": {
     "end_time": "2025-07-08T09:29:58.123587Z",
     "start_time": "2025-07-08T09:29:58.120348Z"
    }
   },
   "source": [
    "def count_upper(stringa):\n",
    "    \"\"\"\n",
    "    conta il numero di parole che iniziano con maiuscola in una stringa\n",
    "\n",
    "    Args:\n",
    "        stringa(str): la stringa da analizzare\n",
    "\n",
    "    Returns: \n",
    "        int: il numero di lettere maiuscole nella stringa\n",
    "    \"\"\"\n",
    "    parole = stringa.split()\n",
    "\n",
    "    counter = 0 \n",
    "    return sum(1 for parola in parole if parola and parola[0].isupper())\n",
    "\n",
    "\n",
    "test = [\n",
    "    'Ciao mi chiamo Alessandro',\n",
    "    'Python è un linguaggio di programmazione',\n",
    "    'Una Parola'\n",
    "]\n",
    "\n",
    "for stringa in test:\n",
    "    riultato = count_upper(stringa)\n",
    "    print(f'La stringa \"{stringa}\" ha {riultato} parole che iniziano con maiuscola')    \n"
   ],
   "outputs": [
    {
     "name": "stdout",
     "output_type": "stream",
     "text": [
      "La stringa \"Ciao mi chiamo Alessandro\" ha 2 parole che iniziano con maiuscola\n",
      "La stringa \"Python è un linguaggio di programmazione\" ha 1 parole che iniziano con maiuscola\n",
      "La stringa \"Una Parola\" ha 2 parole che iniziano con maiuscola\n"
     ]
    }
   ],
   "execution_count": 4
  },
  {
   "cell_type": "markdown",
   "metadata": {},
   "source": [
    "5. sostituisca tutte le cifre con “#”\n"
   ]
  },
  {
   "cell_type": "code",
   "metadata": {
    "ExecuteTime": {
     "end_time": "2025-07-08T09:29:58.152765Z",
     "start_time": "2025-07-08T09:29:58.149751Z"
    }
   },
   "source": [
    "import re\n",
    "\n",
    "def substitution_regex(stringa):\n",
    "    \"\"\"\n",
    "    sostituisce le cifre con #\n",
    "\n",
    "    Args:\n",
    "        stringa(str: stringa da analizzare\n",
    "\n",
    "    Returns:\n",
    "        str: la stringa con le cifre sostituite con #\n",
    "    \"\"\"\n",
    "    return re.sub(r'\\d', '#', stringa)\n",
    "\n",
    "test = [\n",
    "    'Ciao mi chiamo 1234567890',\n",
    "    'Python è 1 linguaggio di programmazione',\n",
    "    '1 Parola'\n",
    "]\n",
    "\n",
    "for stringa in test:\n",
    "    risultato = substitution_regex(stringa)\n",
    "    print(f'La stringa \"{stringa}\" diventa \"{risultato}\"')\n",
    "\n"
   ],
   "outputs": [
    {
     "name": "stdout",
     "output_type": "stream",
     "text": [
      "La stringa \"Ciao mi chiamo 1234567890\" diventa \"Ciao mi chiamo ##########\"\n",
      "La stringa \"Python è 1 linguaggio di programmazione\" diventa \"Python è # linguaggio di programmazione\"\n",
      "La stringa \"1 Parola\" diventa \"# Parola\"\n"
     ]
    }
   ],
   "execution_count": 5
  },
  {
   "cell_type": "markdown",
   "metadata": {},
   "source": [
    "6. rimuova tutte le vocali da una stringa\n"
   ]
  },
  {
   "cell_type": "code",
   "metadata": {
    "ExecuteTime": {
     "end_time": "2025-07-08T09:29:58.169605Z",
     "start_time": "2025-07-08T09:29:58.165430Z"
    }
   },
   "source": [
    "import re\n",
    "\n",
    "def remove_vocals(stringa):\n",
    "    \"\"\"\n",
    "    rimuove le vocali dalla stringa\n",
    "\n",
    "    Args:\n",
    "        stringa(str): la stringa da analizzare\n",
    "\n",
    "    Returns:\n",
    "        str: la stringa senza vocali\n",
    "    \"\"\"\n",
    "    return re.sub(r'[aeiouAEIOU]', '', stringa)\n",
    "\n",
    "test = [\n",
    "    'Ciao mi chiamo Alessandro',\n",
    "    'Python è un linguaggio di programmazione',\n",
    "    'Una Parola'\n",
    "]\n",
    "\n",
    "for stringa in test:\n",
    "    risultato = remove_vocals(stringa)\n",
    "    print(f'La stringa \"{stringa}\" diventa \"{risultato}\"')\n",
    "\n",
    "\n",
    "\n"
   ],
   "outputs": [
    {
     "name": "stdout",
     "output_type": "stream",
     "text": [
      "La stringa \"Ciao mi chiamo Alessandro\" diventa \"C m chm lssndr\"\n",
      "La stringa \"Python è un linguaggio di programmazione\" diventa \"Pythn è n lnggg d prgrmmzn\"\n",
      "La stringa \"Una Parola\" diventa \"n Prl\"\n"
     ]
    }
   ],
   "execution_count": 6
  },
  {
   "cell_type": "markdown",
   "metadata": {},
   "source": [
    "7. conta quante parole contengono almeno una cifra\n"
   ]
  },
  {
   "cell_type": "code",
   "metadata": {
    "ExecuteTime": {
     "end_time": "2025-07-08T09:29:58.222672Z",
     "start_time": "2025-07-08T09:29:58.220203Z"
    }
   },
   "source": [
    "def count_number_words(stringa):\n",
    "    \"\"\"\n",
    "    conta il numero di parole che contengono almeno una cifra\n",
    "\n",
    "    Args:\n",
    "        stringa(str): la stringa da analizzare\n",
    "\n",
    "    Returns:\n",
    "        int: il numero di parole che contengono almeno una cifra\n",
    "    \"\"\"\n",
    "\n",
    "    parole = stringa.split()\n",
    "\n",
    "    return sum(1 for parola in parole if re.search(r'\\d', parola))\n",
    "\n",
    "test = [\n",
    "    'Ciao mi chiam0 C1ao',\n",
    "    'Python è un linguagg1o di programmaz2one',\n",
    "    'Una P0rola'\n",
    "]\n",
    "\n",
    "for stringa in test:\n",
    "    risultato = count_number_words(stringa)\n",
    "    print(f'La stringa \"{stringa}\" ha {risultato} parole che contengono almeno una cifra')\n",
    "\n",
    "\n",
    "\n"
   ],
   "outputs": [
    {
     "name": "stdout",
     "output_type": "stream",
     "text": [
      "La stringa \"Ciao mi chiam0 C1ao\" ha 2 parole che contengono almeno una cifra\n",
      "La stringa \"Python è un linguagg1o di programmaz2one\" ha 2 parole che contengono almeno una cifra\n",
      "La stringa \"Una P0rola\" ha 1 parole che contengono almeno una cifra\n"
     ]
    }
   ],
   "execution_count": 7
  },
  {
   "cell_type": "markdown",
   "metadata": {},
   "source": [
    "8. verifichi se una frase è composta solo da parole uniche\n"
   ]
  },
  {
   "cell_type": "code",
   "metadata": {
    "ExecuteTime": {
     "end_time": "2025-07-08T09:29:58.238692Z",
     "start_time": "2025-07-08T09:29:58.236628Z"
    }
   },
   "source": [],
   "outputs": [],
   "execution_count": null
  },
  {
   "cell_type": "markdown",
   "metadata": {},
   "source": [
    "9. raddoppi ogni vocale in una stringa\n"
   ]
  },
  {
   "cell_type": "code",
   "metadata": {
    "ExecuteTime": {
     "end_time": "2025-07-08T09:29:58.263198Z",
     "start_time": "2025-07-08T09:29:58.261035Z"
    }
   },
   "source": [
    "def double_vocal(stringa):\n",
    "    \"\"\"\n",
    "    raddoppia le vocali in una stringa\n",
    "\n",
    "    Args:\n",
    "        stringa(str): la stringa da analizzare\n",
    "\n",
    "    Returns:\n",
    "        str: la stringa con le vocali raddoppiate\n",
    "    \"\"\"\n"
   ],
   "outputs": [],
   "execution_count": 8
  },
  {
   "cell_type": "markdown",
   "metadata": {},
   "source": [
    "10. conti le parole più lunghe di 5 caratteri\n"
   ]
  },
  {
   "cell_type": "markdown",
   "metadata": {},
   "source": [
    "11. sostituisca ogni spazio con un trattino basso\n"
   ]
  },
  {
   "cell_type": "markdown",
   "metadata": {},
   "source": [
    "12. verifichi se una frase contiene tutte le vocali\n"
   ]
  },
  {
   "cell_type": "markdown",
   "metadata": {},
   "source": [
    "13. conti quante parole iniziano e finiscono con la stessa lettera\n"
   ]
  },
  {
   "cell_type": "markdown",
   "metadata": {},
   "source": [
    "14. inserisca uno spazio in una posizione specifica n e stampi un errore se n è fuori range\n"
   ]
  },
  {
   "cell_type": "markdown",
   "metadata": {},
   "source": [
    "15. Estrai inizio e fine di una stringa\n",
    "    • se la stringa ha più di 4 caratteri, stampa le prime 2 e le ultime 2 lettere\n",
    "    • altrimenti stampa un messaggio di errore\n"
   ]
  },
  {
   "cell_type": "markdown",
   "metadata": {},
   "source": [
    "16. rimuova caratteri duplicati mantenendo l’ordine\n"
   ]
  },
  {
   "cell_type": "markdown",
   "metadata": {},
   "source": [
    "17. trovi la parola più lunga in una frase\n"
   ]
  },
  {
   "cell_type": "markdown",
   "metadata": {},
   "source": [
    "18. crei un acronimo da una frase\n"
   ]
  },
  {
   "cell_type": "markdown",
   "metadata": {},
   "source": [
    "19. verifichi se due stringhe sono anagrammi\n"
   ]
  },
  {
   "cell_type": "markdown",
   "metadata": {},
   "source": [
    "20. verifichi rima tra due frasi\n",
    "\n",
    "    • Riceve due frasi\n",
    "    \n",
    "    • Confronta le ultime parole\n",
    "    \n",
    "    • Verifica se fanno rima (ultime 3 lettere uguali)\n"
   ]
  },
  {
   "cell_type": "markdown",
   "metadata": {},
   "source": [
    "21. ricevuta una stringa di log tipo \"2025-07-05 14:00:00 - ERROR - File non trovato\":\n",
    "\n",
    "    • Estrae data, ora, livello di log e messaggio\n",
    "    \n",
    "    • Restituisce un dizionario con i dati"
   ]
  },
  {
   "cell_type": "code",
   "metadata": {
    "ExecuteTime": {
     "end_time": "2025-07-08T09:29:58.281448Z",
     "start_time": "2025-07-08T09:29:58.278774Z"
    }
   },
   "source": [],
   "outputs": [],
   "execution_count": null
  },
  {
   "cell_type": "code",
   "metadata": {
    "ExecuteTime": {
     "end_time": "2025-07-08T09:29:58.302731Z",
     "start_time": "2025-07-08T09:29:58.301447Z"
    }
   },
   "source": [],
   "outputs": [],
   "execution_count": null
  },
  {
   "cell_type": "code",
   "metadata": {
    "ExecuteTime": {
     "end_time": "2025-07-08T09:29:58.321708Z",
     "start_time": "2025-07-08T09:29:58.319940Z"
    }
   },
   "source": [],
   "outputs": [],
   "execution_count": null
  },
  {
   "cell_type": "code",
   "metadata": {
    "ExecuteTime": {
     "end_time": "2025-07-08T09:29:58.362544Z",
     "start_time": "2025-07-08T09:29:58.360152Z"
    }
   },
   "source": [],
   "outputs": [],
   "execution_count": null
  }
 ],
 "metadata": {
  "kernelspec": {
   "display_name": "base",
   "language": "python",
   "name": "python3"
  },
  "language_info": {
   "codemirror_mode": {
    "name": "ipython",
    "version": 3
   },
   "file_extension": ".py",
   "mimetype": "text/x-python",
   "name": "python",
   "nbconvert_exporter": "python",
   "pygments_lexer": "ipython3",
   "version": "3.12.2"
  }
 },
 "nbformat": 4,
 "nbformat_minor": 2
}
