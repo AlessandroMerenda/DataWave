{
 "cells": [
  {
   "cell_type": "markdown",
   "metadata": {},
   "source": [
    "Scrivi una funzione che:"
   ]
  },
  {
   "cell_type": "markdown",
   "metadata": {},
   "source": [
    "1. verifichi se una stringa è nel formato 123-4567890."
   ]
  },
  {
   "cell_type": "markdown",
   "metadata": {},
   "source": [
    "2. trovi tutte le occorrenze della stringa \"cat\""
   ]
  },
  {
   "cell_type": "markdown",
   "metadata": {},
   "source": [
    "3. verifichi se una stringa contenga solo lettere maiuscole"
   ]
  },
  {
   "cell_type": "markdown",
   "metadata": {},
   "source": [
    "4. divida una stringa in base agli spazi"
   ]
  },
  {
   "cell_type": "markdown",
   "metadata": {},
   "source": [
    "5. estragga tutti i numeri da una stringa"
   ]
  },
  {
   "cell_type": "markdown",
   "metadata": {},
   "source": [
    "6. trovi tutti i punti esclamativi"
   ]
  },
  {
   "cell_type": "markdown",
   "metadata": {},
   "source": [
    "7. verifichi se una stringa è composta solo da lettere e numeri"
   ]
  },
  {
   "cell_type": "markdown",
   "metadata": {},
   "source": [
    "8. trovi tutte le parole che iniziano con una lettera maiuscola"
   ]
  },
  {
   "cell_type": "markdown",
   "metadata": {},
   "source": [
    "9. rimuova tutti gli spazi da una stringa"
   ]
  },
  {
   "cell_type": "markdown",
   "metadata": {},
   "source": [
    "10. verifichi la sicurezza di una password\n",
    "\n",
    "La psw deve avere:\n",
    "\n",
    "    • Almeno 8 caratteri\n",
    "    \n",
    "    • Almeno una maiuscola, una minuscola, un numero e un simbolo"
   ]
  },
  {
   "cell_type": "markdown",
   "metadata": {},
   "source": [
    "11. verifichi indirizzo IPv4\n",
    "\n",
    "Verifica se una stringa è un indirizzo IPv4 valido (es. 192.168.111.1)."
   ]
  },
  {
   "cell_type": "markdown",
   "metadata": {},
   "source": [
    "12. estragga date dal testo\n",
    "\n",
    "Estrai tutte le date nel formato gg/mm/aaaa da un testo."
   ]
  },
  {
   "cell_type": "markdown",
   "metadata": {},
   "source": [
    "13. trovi parole con tutte lettere maiuscole"
   ]
  },
  {
   "cell_type": "markdown",
   "metadata": {},
   "source": [
    "14. estragga codici prodotto\n",
    "\n",
    "Obiettivo: Estrai tutti i codici nel formato PROD-XXXX (dove XXXX sono 4 cifre) da un elenco di descrizioni.\n",
    "\n",
    "esempio:\n",
    "\n",
    "descrizioni = [\n",
    "    \"Mouse wireless PROD-1234\",\n",
    "    \"Tastiera meccanica PROD-5678 e PROD-9012\",\n",
    "    \"Monitor 27 pollici\",\n",
    "    \"Cuffie PROD-4321\"\n",
    "]\n",
    "\n",
    "print(estrai_codici_prodotto(descrizioni))\n",
    "\n",
    "output: ['PROD-1234', 'PROD-5678', 'PROD-9012', 'PROD-4321']"
   ]
  },
  {
   "cell_type": "markdown",
   "metadata": {},
   "source": [
    "15. validi email con dominio specifico\n",
    "\n",
    "Obiettivo: Verifica se un indirizzo email appartiene al dominio azienda.com.\n",
    "    \n",
    "esempio\n",
    "\n",
    "print(valida_email_azienda(\"utente@azienda.com\"))  # True\n",
    "\n",
    "print(valida_email_azienda(\"utente@gmail.com\"))    # False"
   ]
  },
  {
   "cell_type": "code",
   "execution_count": null,
   "metadata": {},
   "outputs": [],
   "source": []
  },
  {
   "cell_type": "code",
   "execution_count": null,
   "metadata": {},
   "outputs": [],
   "source": []
  },
  {
   "cell_type": "code",
   "execution_count": null,
   "metadata": {},
   "outputs": [],
   "source": []
  },
  {
   "cell_type": "code",
   "execution_count": null,
   "metadata": {},
   "outputs": [],
   "source": []
  },
  {
   "cell_type": "code",
   "execution_count": null,
   "metadata": {},
   "outputs": [],
   "source": []
  },
  {
   "cell_type": "code",
   "execution_count": null,
   "metadata": {},
   "outputs": [],
   "source": []
  },
  {
   "cell_type": "code",
   "execution_count": null,
   "metadata": {},
   "outputs": [],
   "source": []
  }
 ],
 "metadata": {
  "kernelspec": {
   "display_name": "Python 3",
   "language": "python",
   "name": "python3"
  },
  "language_info": {
   "codemirror_mode": {
    "name": "ipython",
    "version": 3
   },
   "file_extension": ".py",
   "mimetype": "text/x-python",
   "name": "python",
   "nbconvert_exporter": "python",
   "pygments_lexer": "ipython3",
   "version": "3.7.1"
  }
 },
 "nbformat": 4,
 "nbformat_minor": 2
}
