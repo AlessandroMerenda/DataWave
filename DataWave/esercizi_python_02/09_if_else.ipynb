{
 "cells": [
  {
   "cell_type": "markdown",
   "metadata": {},
   "source": [
    "1. Chiedi all'utente un numero e stampa se è positivo, negativo o zero."
   ]
  },
  {
   "cell_type": "code",
   "execution_count": 2,
   "metadata": {},
   "outputs": [
    {
     "name": "stdout",
     "output_type": "stream",
     "text": [
      "the number is positive\n"
     ]
    }
   ],
   "source": [
    "userinput = input(\"enter a number: \")\n",
    "userinput = int(userinput)\n",
    "if userinput > 0:\n",
    "    print(\"the number is positive\")\n",
    "elif userinput < 0:\n",
    "    print(\"the number is negative\")\n",
    "else:\n",
    "    print(\"the number is zero\")"
   ]
  },
  {
   "cell_type": "markdown",
   "metadata": {},
   "source": [
    "2. Chiedi all'utente un numero e verifica se un numero è pari o dispari."
   ]
  },
  {
   "cell_type": "code",
   "execution_count": 3,
   "metadata": {},
   "outputs": [
    {
     "name": "stdout",
     "output_type": "stream",
     "text": [
      "the number is even\n"
     ]
    }
   ],
   "source": [
    "userinput = input(\"enter a number: \")\n",
    "userinput = int(userinput)\n",
    "\n",
    "if userinput % 2 == 0:\n",
    "    print(\"the number is even\")\n",
    "else:\n",
    "    print(\"the number is odd\")"
   ]
  },
  {
   "cell_type": "markdown",
   "metadata": {},
   "source": [
    "3. Confronta due numeri e stampa quale è maggiore."
   ]
  },
  {
   "cell_type": "code",
   "execution_count": 4,
   "metadata": {},
   "outputs": [
    {
     "name": "stdout",
     "output_type": "stream",
     "text": [
      "7\n"
     ]
    }
   ],
   "source": [
    "a = 4\n",
    "b = 7\n",
    "\n",
    "if a > b:\n",
    "    print(a)\n",
    "else:\n",
    "    print(b)"
   ]
  },
  {
   "cell_type": "markdown",
   "metadata": {},
   "source": [
    "4. Controlla se un numero è divisibile per 3, 5 o entrambi."
   ]
  },
  {
   "cell_type": "code",
   "execution_count": 7,
   "metadata": {},
   "outputs": [
    {
     "name": "stdout",
     "output_type": "stream",
     "text": [
      "the number is divisible by 5\n"
     ]
    }
   ],
   "source": [
    "n = 4675\n",
    "\n",
    "if n % 3 == 0 and n % 5 == 0:\n",
    "    print(\"the number is divisible by 3 or 5\")\n",
    "elif n % 3 == 0:\n",
    "    print(\"the number is divisible by 3\")\n",
    "elif n % 5 == 0:\n",
    "    print(\"the number is divisible by 5\")\n",
    "else:\n",
    "    print(\"the number is not divisible by 3 or 5\")\n",
    "\n",
    "\n"
   ]
  },
  {
   "cell_type": "markdown",
   "metadata": {},
   "source": [
    "5. Stabilire se un anno è bisestile secondo le regole del calendario gregoriano."
   ]
  },
  {
   "cell_type": "code",
   "execution_count": 8,
   "metadata": {},
   "outputs": [
    {
     "name": "stdout",
     "output_type": "stream",
     "text": [
      "anno non bisestile\n"
     ]
    }
   ],
   "source": [
    "anno = 2026\n",
    "\n",
    "if anno % 4 == 0 or anno % 400 == 0  and anno % 100 != 0:\n",
    "\n",
    "    print('anno bisestile')\n",
    "else:\n",
    "    print('anno non bisestile')"
   ]
  },
  {
   "cell_type": "markdown",
   "metadata": {},
   "source": [
    "6. Età per entrare al cinema: Se l’età è >=18, stampare “Accesso consentito”, altrimenti “Vietato”."
   ]
  },
  {
   "cell_type": "code",
   "execution_count": 10,
   "metadata": {},
   "outputs": [
    {
     "name": "stdout",
     "output_type": "stream",
     "text": [
      "vietato\n"
     ]
    }
   ],
   "source": [
    "def maggiorenne(eta):\n",
    "    if eta >= 18:\n",
    "        print('accesso conentito')\n",
    "    else:\n",
    "        print('vietato')\n",
    "\n",
    "maggiorenne(17)"
   ]
  },
  {
   "cell_type": "markdown",
   "metadata": {},
   "source": [
    "7. Confronto di stringhe: Inserisci due parole e stampa se sono uguali."
   ]
  },
  {
   "cell_type": "code",
   "execution_count": 11,
   "metadata": {},
   "outputs": [
    {
     "name": "stdout",
     "output_type": "stream",
     "text": [
      "sono diversi\n"
     ]
    }
   ],
   "source": [
    "a = 'Ciao'\n",
    "b = 'ciao'\n",
    "\n",
    "if a==b:\n",
    "    print('sono uguali')\n",
    "else:\n",
    "    print('sono diversi')"
   ]
  },
  {
   "cell_type": "markdown",
   "metadata": {},
   "source": [
    "8. Media scolastica sufficiente: Calcola la media di tre voti e stampa “Promosso” se è ≥6."
   ]
  },
  {
   "cell_type": "markdown",
   "metadata": {},
   "source": [
    "9. Password corretta: Verifica se la password inserita corrisponde a quella predefinita."
   ]
  },
  {
   "cell_type": "markdown",
   "metadata": {},
   "source": [
    "10. Segno zodiacale: Inserisci mese e giorno di nascita e restituisci il segno zodiacale corrispondente."
   ]
  },
  {
   "cell_type": "markdown",
   "metadata": {},
   "source": [
    "11. Triangolo valido: Verifica se tre lati formano un triangolo valido.\n"
   ]
  },
  {
   "cell_type": "markdown",
   "metadata": {},
   "source": [
    "12. Numero maggiore tra tre: Trova il maggiore tra tre numeri usando if/elif/else."
   ]
  },
  {
   "cell_type": "markdown",
   "metadata": {},
   "source": [
    "13. Classificazione voto (A–F): Assegna una lettera in base a un voto numerico.\n",
    "\n",
    "A. 90-100 B. 80-89 C. 70-79 D. 60-69 E. 50-59 F. 40-49"
   ]
  },
  {
   "cell_type": "markdown",
   "metadata": {},
   "source": [
    "14. Controllo login con username e password: L’utente deve inserire username e password esatti."
   ]
  },
  {
   "cell_type": "markdown",
   "metadata": {},
   "source": [
    "15. Prezzo biglietto con sconto per età: Sconto per bambini sotto i 10 50% o anziani sopra i 65 anni 30%."
   ]
  },
  {
   "cell_type": "markdown",
   "metadata": {},
   "source": [
    "16. Convertitore temperatura (°C ↔ °F) Chiedi all’utente quale conversione vuole fare e poi calcola."
   ]
  },
  {
   "cell_type": "markdown",
   "metadata": {},
   "source": [
    "17. Ordina tre numeri: Inserisci tre numeri e stampali in ordine crescente usando solo if else.\n"
   ]
  },
  {
   "cell_type": "markdown",
   "metadata": {},
   "source": [
    "18. Convertitore giorno in lavorativo/festivo: Inserisci un giorno (es. “sabato”) e stampa se è lavorativo o weekend."
   ]
  },
  {
   "cell_type": "markdown",
   "metadata": {},
   "source": [
    "19. Carrello con sconto multiplo:\n",
    "\n",
    "Descrizione: L’utente inserisce il totale del carrello e se ha un codice sconto.\n",
    "\n",
    "    • Se supera €100, sconto 10%\n",
    "    \n",
    "    • Se ha anche un codice valido (“ESTATE10”), sconto extra del 10%"
   ]
  },
  {
   "cell_type": "markdown",
   "metadata": {},
   "source": [
    "20. Verifica validità di una data (mese e giorno)\n",
    "\n",
    "Descrizione: L’utente inserisce giorno e mese. Verifica se è una data realistica (senza gestire anni bisestili)."
   ]
  },
  {
   "cell_type": "code",
   "execution_count": null,
   "metadata": {},
   "outputs": [],
   "source": []
  },
  {
   "cell_type": "code",
   "execution_count": null,
   "metadata": {},
   "outputs": [],
   "source": []
  },
  {
   "cell_type": "code",
   "execution_count": null,
   "metadata": {},
   "outputs": [],
   "source": []
  },
  {
   "cell_type": "code",
   "execution_count": null,
   "metadata": {},
   "outputs": [],
   "source": []
  },
  {
   "cell_type": "code",
   "execution_count": null,
   "metadata": {},
   "outputs": [],
   "source": []
  },
  {
   "cell_type": "code",
   "execution_count": null,
   "metadata": {},
   "outputs": [],
   "source": []
  }
 ],
 "metadata": {
  "kernelspec": {
   "display_name": "base",
   "language": "python",
   "name": "python3"
  },
  "language_info": {
   "codemirror_mode": {
    "name": "ipython",
    "version": 3
   },
   "file_extension": ".py",
   "mimetype": "text/x-python",
   "name": "python",
   "nbconvert_exporter": "python",
   "pygments_lexer": "ipython3",
   "version": "3.12.2"
  }
 },
 "nbformat": 4,
 "nbformat_minor": 2
}
