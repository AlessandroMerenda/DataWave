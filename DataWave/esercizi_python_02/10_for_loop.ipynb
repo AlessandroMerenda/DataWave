{
 "cells": [
  {
   "cell_type": "markdown",
   "metadata": {},
   "source": [
    "1. Somma di tutti i numeri pari da 1 a 100"
   ]
  },
  {
   "cell_type": "code",
   "execution_count": 3,
   "metadata": {},
   "outputs": [
    {
     "name": "stdout",
     "output_type": "stream",
     "text": [
      "La somma dei numeri pari da 1 a 100 è: 2550\n"
     ]
    }
   ],
   "source": [
    "somma = 0\n",
    "for i in range(2, 101, 2):  \n",
    "    somma += i\n",
    "print(f\"La somma dei numeri pari da 1 a 100 è: {somma}\")"
   ]
  },
  {
   "cell_type": "markdown",
   "metadata": {},
   "source": [
    "2. Trova i divisori di un numero"
   ]
  },
  {
   "cell_type": "code",
   "execution_count": 9,
   "metadata": {},
   "outputs": [
    {
     "name": "stdout",
     "output_type": "stream",
     "text": [
      "I divisori di 12 sono: [1, 2, 3, 4, 6, 12]\n"
     ]
    }
   ],
   "source": [
    "def trova_divisori(n):\n",
    "    divisori = []\n",
    "    for i in range(1, n + 1):\n",
    "        if n % i == 0:\n",
    "            divisori.append(i)\n",
    "    return divisori\n",
    "\n",
    "numero = 12\n",
    "divisori = trova_divisori(numero)\n",
    "print(f\"I divisori di {numero} sono: {divisori}\")\n"
   ]
  },
  {
   "cell_type": "markdown",
   "metadata": {},
   "source": [
    "3. Conta vocali in una stringa"
   ]
  },
  {
   "cell_type": "code",
   "execution_count": 10,
   "metadata": {},
   "outputs": [
    {
     "name": "stdout",
     "output_type": "stream",
     "text": [
      "Le vocali in 'Ciao mondo!' sono: 5\n"
     ]
    }
   ],
   "source": [
    "def conta_vocali(stringa):\n",
    "    vocali = \"aeiouAEIOU\"\n",
    "    contatore = 0\n",
    "    for carattere in stringa:\n",
    "        if carattere in vocali:\n",
    "            contatore += 1\n",
    "    return contatore\n",
    "\n",
    "testo = \"Ciao mondo!\"\n",
    "risultato = conta_vocali(testo)\n",
    "print(f\"Le vocali in '{testo}' sono: {risultato}\")"
   ]
  },
  {
   "cell_type": "markdown",
   "metadata": {},
   "source": [
    "4. Stampa la tabellina di un numero"
   ]
  },
  {
   "cell_type": "code",
   "execution_count": 11,
   "metadata": {},
   "outputs": [
    {
     "name": "stdout",
     "output_type": "stream",
     "text": [
      "Tabellina del 7:\n",
      "7 x 1 = 7\n",
      "7 x 2 = 14\n",
      "7 x 3 = 21\n",
      "7 x 4 = 28\n",
      "7 x 5 = 35\n",
      "7 x 6 = 42\n",
      "7 x 7 = 49\n",
      "7 x 8 = 56\n",
      "7 x 9 = 63\n",
      "7 x 10 = 70\n"
     ]
    }
   ],
   "source": [
    "def stampa_tabellina(numero):\n",
    "    print(f\"Tabellina del {numero}:\")\n",
    "    for i in range(1, 11):\n",
    "        risultato = numero * i\n",
    "        print(f\"{numero} x {i} = {risultato}\")\n",
    "\n",
    "# Esempio\n",
    "numero = 7\n",
    "stampa_tabellina(numero)"
   ]
  },
  {
   "cell_type": "markdown",
   "metadata": {},
   "source": [
    "5. Stampa triangolo di asterischi data un altezza"
   ]
  },
  {
   "cell_type": "code",
   "execution_count": 12,
   "metadata": {},
   "outputs": [
    {
     "name": "stdout",
     "output_type": "stream",
     "text": [
      "    *\n",
      "   ***\n",
      "  *****\n",
      " *******\n",
      "*********\n"
     ]
    }
   ],
   "source": [
    "def stampa_triangolo(altezza):\n",
    "    for i in range(altezza):\n",
    "        spazi = \" \" * (altezza - i - 1)\n",
    "        asterischi = \"*\" * (2 * i + 1)\n",
    "        print(spazi + asterischi)\n",
    "\n",
    "# Esempio\n",
    "altezza = 5\n",
    "stampa_triangolo(altezza)"
   ]
  },
  {
   "cell_type": "markdown",
   "metadata": {},
   "source": [
    "6. Conta parole in una lista più lunghe di 5 lettere"
   ]
  },
  {
   "cell_type": "markdown",
   "metadata": {},
   "source": [
    "7. Verifica se una lista contiene numeri duplicati"
   ]
  },
  {
   "cell_type": "markdown",
   "metadata": {},
   "source": [
    "8. Rimuovi spazi multipli da una frase usando split"
   ]
  },
  {
   "cell_type": "markdown",
   "metadata": {},
   "source": [
    "9. Somma numeri di una lista annidata"
   ]
  },
  {
   "cell_type": "markdown",
   "metadata": {},
   "source": [
    "10. Conta caratteri alfabetici in una stringa"
   ]
  },
  {
   "cell_type": "markdown",
   "metadata": {},
   "source": [
    "11. Calcola il prodotto di tutti gli elementi in una lista"
   ]
  },
  {
   "cell_type": "markdown",
   "metadata": {},
   "source": [
    "12. Somma valori positivi in una lista"
   ]
  },
  {
   "cell_type": "markdown",
   "metadata": {},
   "source": [
    "13. Stampa indice e valore da una lista"
   ]
  },
  {
   "cell_type": "markdown",
   "metadata": {},
   "source": [
    "14. Genera da una lista di parole: [\"ciao\", \"buongiorno\", \"notte\"] il seguente dizionario {'ciao': 4, 'buongiorno': 10, 'notte': 5}"
   ]
  },
  {
   "cell_type": "markdown",
   "metadata": {},
   "source": [
    "15. Data una lista di numeri Filtra numeri dispari e costruisci nuova lista"
   ]
  },
  {
   "cell_type": "markdown",
   "metadata": {},
   "source": [
    "16. Verifica se una stringa contiene almeno una cifra"
   ]
  },
  {
   "cell_type": "markdown",
   "metadata": {},
   "source": [
    "17. Data una lista di numeri crearne una nuova che contenga i quadrati di quelli pari"
   ]
  },
  {
   "cell_type": "markdown",
   "metadata": {},
   "source": [
    "18. Trova la parola più lunga in una lista"
   ]
  },
  {
   "cell_type": "markdown",
   "metadata": {},
   "source": [
    "19. Verifica se due liste hanno almeno un elemento in comune"
   ]
  },
  {
   "cell_type": "markdown",
   "metadata": {},
   "source": [
    "20. Conta quante volte compare ciascun carattere in una stringa"
   ]
  },
  {
   "cell_type": "code",
   "execution_count": null,
   "metadata": {},
   "outputs": [],
   "source": []
  },
  {
   "cell_type": "code",
   "execution_count": null,
   "metadata": {},
   "outputs": [],
   "source": []
  },
  {
   "cell_type": "code",
   "execution_count": null,
   "metadata": {},
   "outputs": [],
   "source": []
  }
 ],
 "metadata": {
  "kernelspec": {
   "display_name": "base",
   "language": "python",
   "name": "python3"
  },
  "language_info": {
   "codemirror_mode": {
    "name": "ipython",
    "version": 3
   },
   "file_extension": ".py",
   "mimetype": "text/x-python",
   "name": "python",
   "nbconvert_exporter": "python",
   "pygments_lexer": "ipython3",
   "version": "3.12.2"
  }
 },
 "nbformat": 4,
 "nbformat_minor": 2
}
